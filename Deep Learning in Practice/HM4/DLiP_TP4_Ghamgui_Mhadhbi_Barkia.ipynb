{
  "cells": [
    {
      "cell_type": "markdown",
      "source": [
        "---\n",
        "# <center> Small data: weak supervision, transfer, and incorporation of priors\n",
        "\n",
        "<center> Eya Ghamgui $~~$ eya.ghamgui@telecom-paris.fr\n",
        "<center> Siwar Mhadhbi $~~$ siwar.mhadhbi@telecom-paris.fr\n",
        "<center> Saifeddine Barkia $~~$ saifeddine.barkia@telecom-paris.fr\n",
        "<center> March 10, 2022\n",
        "\n",
        "---"
      ],
      "metadata": {
        "id": "tYyIBbMmoKSY"
      }
    },
    {
      "cell_type": "markdown",
      "metadata": {
        "id": "wtb5ZO5djGKi"
      },
      "source": [
        "# Small data and deep learning\n",
        "This pratical session proposes to study several techniques to improve training performance in the challenging context where few data and resources are available."
      ]
    },
    {
      "cell_type": "markdown",
      "metadata": {
        "id": "nkEk9hbxjGKk"
      },
      "source": [
        "# Introduction\n",
        "Assume we are in a context where few \"gold\" labeled data are available for training, say $\\mathcal{X}_{\\text{train}}\\triangleq\\{(x_n,y_n)\\}_{n\\leq N_{\\text{train}}}$, where $N_{\\text{train}}$ is small. A large test set $\\mathcal{X}_{\\text{test}}$ is available. A large amount of unlabeled data, $\\mathcal{X}_{\\text{nolabel}}$, is available. We also assume that we have a limited computational budget (e.g., no GPUs).\n",
        "\n",
        "For each question, write a commented *Code* or a complete answer as a *Markdown*. When the objective of a question is to report a CNN accuracy, please use the following format to report it, at the end of the question :\n",
        "\n",
        "\n",
        "| Model | Number of  epochs  | Train accuracy | Test accuracy |\n",
        "|------|------|------|------|\n",
        "|   XXX  | XXX | XXX | XXX |\n",
        "\n",
        "\n",
        "If applicable, please add the field corresponding to the  __Accuracy on Full Data__ as well as a link to the __Reference paper__ you used to report those numbers. (You do not need to train a CNN on the full CIFAR10 dataset.)\n",
        "\n",
        "In your final report, please keep the logs of each training procedure you used. We will only run this jupyter if we have some doubts on your implementation. \n",
        "\n",
        "__The total file sizes should be reasonable (feasible with 2MB only!). You will be asked to hand in the notebook, together with any necessary files required to run it if any.__\n",
        "\n",
        "\n",
        "To run your experiments, you can use the same local installation as for previous TPs, or otherwise https://colab.research.google.com/."
      ]
    },
    {
      "cell_type": "code",
      "source": [
        "import torch\n",
        "import torchvision\n",
        "import torch.nn as nn\n",
        "import torch.nn.functional as F\n",
        "import torchvision.models as models\n",
        "import torchvision.transforms as transforms\n",
        "\n",
        "import numpy as np\n",
        "import matplotlib.pyplot as plt\n",
        "\n",
        "import seaborn as sns \n",
        "sns.set()\n",
        "\n",
        "import warnings\n",
        "warnings.filterwarnings(\"ignore\")"
      ],
      "metadata": {
        "id": "UMJidFy_zVym"
      },
      "execution_count": 1,
      "outputs": []
    },
    {
      "cell_type": "code",
      "source": [
        "use_cuda = torch.cuda.is_available()\n",
        "device = 'cuda' if use_cuda else 'cpu'"
      ],
      "metadata": {
        "id": "zZ7xvuKGgC6w"
      },
      "execution_count": 2,
      "outputs": []
    },
    {
      "cell_type": "markdown",
      "metadata": {
        "id": "yyz4hH-GjGKk"
      },
      "source": [
        "## Training set creation\n",
        "__Question 1 (2 points) :__ Propose a dataloader that will only use the first 100 samples of the CIFAR-10 training set. \n",
        "\n",
        "*Hint* : You can modify the file located at https://github.com/pytorch/vision/blob/master/torchvision/datasets/cifar.py or use the information from https://pytorch.org/vision/stable/datasets.html"
      ]
    },
    {
      "cell_type": "markdown",
      "metadata": {
        "id": "Sx8Y526AjGKl"
      },
      "source": [
        "This is our dataset $\\mathcal{X}_{\\text{train}}$, it will be used until the end of this project. The remaining samples correspond to $\\mathcal{X}_{\\text{nolabel}}$. The testing set $\\mathcal{X}_{\\text{test}}$ corresponds to the whole testing set of CIFAR-10."
      ]
    },
    {
      "cell_type": "markdown",
      "source": [
        "**Answer 1:**"
      ],
      "metadata": {
        "id": "gv8i0T9ksBcs"
      }
    },
    {
      "cell_type": "code",
      "execution_count": null,
      "metadata": {
        "id": "SCeaqjCbjGKl",
        "colab": {
          "base_uri": "https://localhost:8080/",
          "height": 101,
          "referenced_widgets": [
            "a3c03cc1026143b1bbf65658d17dc208",
            "7f3785adfab44c17800d8ced1706c09a",
            "0dfe43068ae5406b91287ee2261dd0ab",
            "fb677cb4d0b44dac96a9a49773465ec7",
            "3d14999728b6416184edf851b01b5f76",
            "e005ef70f869454e86db18b87064e614",
            "efe803b4b98748b18debfc5f020615db",
            "0d47157812fd4597b95c763fc5d2cd3c",
            "7f3bdb1e660d4c13b97d27cfff499241",
            "7e47b43602b848f19a02ac98f1ff9016",
            "8eaa4ae61a374ccca4a8fb614896c779"
          ]
        },
        "outputId": "53bd4273-8f0f-41d5-da8a-46f33fb68aaf"
      },
      "outputs": [
        {
          "output_type": "stream",
          "name": "stdout",
          "text": [
            "Downloading https://www.cs.toronto.edu/~kriz/cifar-10-python.tar.gz to \\content/cifar-10-python.tar.gz\n"
          ]
        },
        {
          "output_type": "display_data",
          "data": {
            "application/vnd.jupyter.widget-view+json": {
              "model_id": "a3c03cc1026143b1bbf65658d17dc208",
              "version_minor": 0,
              "version_major": 2
            },
            "text/plain": [
              "  0%|          | 0/170498071 [00:00<?, ?it/s]"
            ]
          },
          "metadata": {}
        },
        {
          "output_type": "stream",
          "name": "stdout",
          "text": [
            "Extracting \\content/cifar-10-python.tar.gz to \\content\n",
            "Files already downloaded and verified\n"
          ]
        }
      ],
      "source": [
        "# Loading train data set\n",
        "all_trainset = torchvision.datasets.CIFAR10(root =\"\\content\", train=True, download=True , transform=transforms.ToTensor())\n",
        "first_100 = torch.utils.data.Subset(all_trainset, list(np.arange(100))) \n",
        "train_loader  = torch.utils.data.DataLoader(first_100)\n",
        "\n",
        "# Loading test data set\n",
        "all_testset = torchvision.datasets.CIFAR10(root =\"\\content\", train=False , download=True)\n",
        "test_loader = torch.utils.data.DataLoader(all_testset)"
      ]
    },
    {
      "cell_type": "markdown",
      "metadata": {
        "id": "kcFD3xMejGKm"
      },
      "source": [
        "## Testing procedure\n",
        "__Question 2 (1.5 points) :__ Explain why the evaluation of the training procedure is difficult. Propose several solutions."
      ]
    },
    {
      "cell_type": "markdown",
      "source": [
        "**Answer 2:**\n",
        "\n",
        "> The evaluation of the training procedure is difficult because: \n",
        "<br><br>\n",
        "**Problem 1:** <br> We have a small training dataset compared to the test dataset. Indeed, we have selected only $100$ samples out of $50000$ training images. Thus, we may have an imbalance of classes (some classes are not well represented compared to others). We may also, in the extreme case, have omitted one class from the training dataset so that the corresponding samples in the test dataset will all be wrongly labeled) but the latter is not in our case."
      ],
      "metadata": {
        "id": "zh8McCThhxY_"
      }
    },
    {
      "cell_type": "code",
      "source": [
        "# Visualization of the distribution of the first 100 samples\n",
        "l=[]\n",
        "for data,target in train_loader:\n",
        "  l.append(target.item())\n",
        "counts = np.unique(np.array(l),return_counts=True)\n",
        "\n",
        "plt.figure(figsize=(10,5))\n",
        "plt.bar(counts[0],counts[1])\n",
        "plt.xlabel('Classes')\n",
        "plt.xticks(counts[0])\n",
        "plt.ylabel('Counts')\n",
        "plt.title('Distribution of the first 100 samples');"
      ],
      "metadata": {
        "colab": {
          "base_uri": "https://localhost:8080/",
          "height": 355
        },
        "id": "GoAqqto_hP9a",
        "outputId": "0e708841-0802-4242-9eb7-847e20d878e0"
      },
      "execution_count": null,
      "outputs": [
        {
          "output_type": "display_data",
          "data": {
            "image/png": "[encoded data removed]",
            "text/plain": [
              "<Figure size 720x360 with 1 Axes>"
            ]
          },
          "metadata": {
            "needs_background": "light"
          }
        }
      ]
    },
    {
      "cell_type": "markdown",
      "metadata": {
        "id": "o7ZfGMuRjGKm"
      },
      "source": [
        "\n",
        ">  **Solution** : <br>\n",
        "  * We have to select specific data samples with reasonable proportions so that we have a good representaion of the $10$ classes that are present in the CIFAR-10 data set.\n",
        "  * We can perform resampling on data to overcome the problem of class imbalance by downsamppling (eg. RandomUnderSampler) or/and oversampling (eg. RandomOverSampler, Bootstrap, SMOTE, etc) which can be found implemented in [imbalanced-learn library](https://imbalanced-learn.org/stable/references/index.html#api)."
      ]
    },
    {
      "cell_type": "markdown",
      "source": [
        "> **Problem 2:** <br> Overfitting is more likely to occur when we train on a small data set. Therefore, we will perform poorly on the test dataset. <br> **Solution**:\n",
        "  * We can perform data augmentation. \n",
        "  * We can also consider using some weak supervision techniques as we have seen in class (sem-supervised, self-supervised) to label some of the unlableled data set $\\mathcal{X}_{\\text{nolabel}}$ and add them to the train dataset. (Tried in the bonus part)."
      ],
      "metadata": {
        "id": "_tCxAyjCi0gL"
      }
    },
    {
      "cell_type": "markdown",
      "metadata": {
        "id": "b8yeRD7CjGKm"
      },
      "source": [
        "# Raw approach: the baseline"
      ]
    },
    {
      "cell_type": "markdown",
      "metadata": {
        "id": "4dgKvuS0jGKm"
      },
      "source": [
        "In this section, the goal is to train a CNN on $\\mathcal{X}_{\\text{train}}$ and compare its performance with reported numbers from the litterature. You will have to re-use and/or design a standard classification pipeline. You should optimize your pipeline to obtain the best performances (image size, data augmentation by flip, ...).\n",
        "\n",
        "The key ingredients for training a CNN are the batch size, as well as the learning rate schedule, i.e. how to decrease the learning rate as a function of the number of epochs. A possible schedule is to start the learning rate at 0.1 and decreasing it every 30 epochs by 10. In case of divergence, reduce the learning rate. A potential batch size could be 10, yet this can be cross-validated.\n",
        "\n",
        "You can get some baselines accuracies in this paper : http://openaccess.thecvf.com/content_cvpr_2018/papers/Keshari_Learning_Structure_and_CVPR_2018_paper.pdf. Obviously, it is a different context for those researchers who had access to GPUs."
      ]
    },
    {
      "cell_type": "markdown",
      "metadata": {
        "id": "pJpkBpyWjGKn"
      },
      "source": [
        "## ResNet architectures"
      ]
    },
    {
      "cell_type": "markdown",
      "metadata": {
        "id": "z22FjUNYjGKn"
      },
      "source": [
        "__Question 3 (4 points) :__ Write a classification pipeline for $\\mathcal{X}_{\\text{train}}$, train from scratch and evaluate a *ResNet-18* architecture specific to CIFAR10 (details about the ResNet-18 model, originally designed for the ImageNet dataset, can be found here: https://arxiv.org/abs/1512.03385). Please report the accuracy obtained on the whole dataset as well as the reference paper/GitHub link.\n",
        "\n",
        "*Hint:* You can re-use the following code: https://github.com/kuangliu/pytorch-cifar. During a training of 10 epochs, a batch size of 10 and a learning rate of 0.01, one obtains 40% accuracy on $\\mathcal{X}_{\\text{train}}$ (\\~2 minutes) and 20% accuracy on $\\mathcal{X}_{\\text{test}}$ (\\~5 minutes)."
      ]
    },
    {
      "cell_type": "markdown",
      "source": [
        "**Answer 3:**"
      ],
      "metadata": {
        "id": "HE9P5C9wuqwp"
      }
    },
    {
      "cell_type": "code",
      "execution_count": null,
      "metadata": {
        "id": "h9wmxgUSjGKn"
      },
      "outputs": [],
      "source": [
        "# --- The following code is taken from the official Pytorch implementation \n",
        "# --- Source : https://github.com/kuangliu/pytorch-cifar.\n",
        "\n",
        "class BasicBlock(nn.Module):\n",
        "    expansion = 1\n",
        "\n",
        "    def __init__(self, in_planes, planes, stride=1):\n",
        "        super(BasicBlock, self).__init__()\n",
        "        self.conv1 = nn.Conv2d(\n",
        "            in_planes, planes, kernel_size=3, stride=stride, padding=1, bias=False)\n",
        "        self.bn1 = nn.BatchNorm2d(planes)\n",
        "        self.conv2 = nn.Conv2d(planes, planes, kernel_size=3,\n",
        "                               stride=1, padding=1, bias=False)\n",
        "        self.bn2 = nn.BatchNorm2d(planes)\n",
        "        self.shortcut = nn.Sequential()\n",
        "        if stride != 1 or in_planes != self.expansion*planes:\n",
        "            self.shortcut = nn.Sequential(\n",
        "                nn.Conv2d(in_planes, self.expansion*planes,\n",
        "                          kernel_size=1, stride=stride, bias=False),\n",
        "                nn.BatchNorm2d(self.expansion*planes)\n",
        "            )\n",
        "\n",
        "    def forward(self, x):\n",
        "        out = F.relu(self.bn1(self.conv1(x)))\n",
        "        out = self.bn2(self.conv2(out))\n",
        "        out += self.shortcut(x)\n",
        "        out = F.relu(out)\n",
        "        return out\n",
        "\n",
        "class ResNet(nn.Module):\n",
        "    def __init__(self, block, num_blocks, num_classes=10):\n",
        "        super(ResNet, self).__init__()\n",
        "        self.in_planes = 64\n",
        "        self.conv1 = nn.Conv2d(3, 64, kernel_size=3, stride=1, padding=1, bias=False)\n",
        "        self.bn1 = nn.BatchNorm2d(64)\n",
        "        self.layer1 = self._make_layer(block, 64, num_blocks[0], stride=1)\n",
        "        self.layer2 = self._make_layer(block, 128, num_blocks[1], stride=2)\n",
        "        self.layer3 = self._make_layer(block, 256, num_blocks[2], stride=2)\n",
        "        self.layer4 = self._make_layer(block, 512, num_blocks[3], stride=2)\n",
        "        self.linear = nn.Linear(512*block.expansion, num_classes)\n",
        "\n",
        "    def _make_layer(self, block, planes, num_blocks, stride):\n",
        "        strides = [stride] + [1]*(num_blocks-1)\n",
        "        layers = []\n",
        "        for stride in strides:\n",
        "            layers.append(block(self.in_planes, planes, stride))\n",
        "            self.in_planes = planes * block.expansion\n",
        "        return nn.Sequential(*layers)\n",
        "\n",
        "    def forward(self, x):\n",
        "        out = F.relu(self.bn1(self.conv1(x)))\n",
        "        out = self.layer1(out)\n",
        "        out = self.layer2(out)\n",
        "        out = self.layer3(out)\n",
        "        out = self.layer4(out)\n",
        "        out = F.avg_pool2d(out, 4)\n",
        "        out = out.view(out.size(0), -1)\n",
        "        out = self.linear(out)\n",
        "        return out\n",
        "\n",
        "def ResNet18():\n",
        "    return ResNet(BasicBlock, [2, 2, 2, 2])"
      ]
    },
    {
      "cell_type": "code",
      "source": [
        "# Function to plot training accuracy and training loss over epochs \n",
        "\n",
        "def show(train_accuracy, training_loss):\n",
        "  fig, ax = plt.subplots(1,2 , figsize=(15,5))\n",
        "\n",
        "  ax[0].plot(np.arange(len(train_accuracy)), train_accuracy)\n",
        "  ax[0].set_title('Training Accuracy')\n",
        "  ax[0].set_xlabel('epochs')\n",
        "\n",
        "  ax[1].plot(np.arange(len(training_loss)), training_loss)\n",
        "  ax[1].set_title('Training Loss')\n",
        "  ax[1].set_xlabel('epochs')\n",
        "\n",
        "  plt.show()"
      ],
      "metadata": {
        "id": "OE36GS8tybV5"
      },
      "execution_count": 3,
      "outputs": []
    },
    {
      "cell_type": "code",
      "source": [
        "def train(model, epochs, optimizer, scheduler, criterion, train_loader, verbose=True, device=device , start_epoch=0):\n",
        "\n",
        "  '''\n",
        "  Function to train the model\n",
        "  '''\n",
        "  \n",
        "  model = model.to(device)\n",
        "\n",
        "  training_loss = []\n",
        "  train_accuracy = []\n",
        "  for epoch in range(start_epoch, epochs+start_epoch): \n",
        "\n",
        "    # Set model to training mode\n",
        "    model.train()\n",
        "\n",
        "    epoch_train_loss = 0\n",
        "    epoch_total_samples = 0\n",
        "    epoch_number_correct = 0   \n",
        "\n",
        "    for batch_idx, (data, target) in enumerate(train_loader):\n",
        "\n",
        "        data, target = data.to(device), target.to(device)\n",
        "        optimizer.zero_grad()\n",
        "        output = model(data)\n",
        "\n",
        "        loss = criterion(output, target)\n",
        "        loss.backward()\n",
        "        optimizer.step()\n",
        "\n",
        "        epoch_train_loss += loss.item()\n",
        "        predicted_batch = output.argmax(dim=1)\n",
        "        epoch_total_samples += len(target) \n",
        "        epoch_number_correct += (predicted_batch == target).sum()\n",
        "\n",
        "    epoch_accuracy = 100 * (epoch_number_correct /epoch_total_samples )\n",
        "    train_accuracy.append(epoch_accuracy.item())\n",
        "    average_epochloss = epoch_train_loss/len(train_loader)\n",
        "    training_loss.append(average_epochloss)\n",
        "\n",
        "    if verbose :\n",
        "      if epoch % 5 == 0  or epoch == epochs+start_epoch - 1 : \n",
        "        print('Train Epoch: {} : Loss : {:.4f} / Accuracy : {:.4f} %'.format(epoch, average_epochloss,epoch_accuracy))\n",
        "        \n",
        "  return train_accuracy , training_loss "
      ],
      "metadata": {
        "id": "mfIXP8ApAjzq"
      },
      "execution_count": 4,
      "outputs": []
    },
    {
      "cell_type": "code",
      "source": [
        "def test (model, criterion, device, test_loader,verbose=True):\n",
        "\n",
        "  '''\n",
        "  Function to test the model\n",
        "  '''\n",
        "\n",
        "  # Set model to evaluation mode\n",
        "  model.eval()\n",
        "  \n",
        "  with torch.no_grad():\n",
        "\n",
        "      test_loss = 0\n",
        "      correct_predictions = 0\n",
        "      number_samples = 0\n",
        "      \n",
        "      for batch_idx, (data, target) in enumerate(test_loader):\n",
        "\n",
        "          data, target = data.to(device), target.to(device)\n",
        "          output = model(data)\n",
        "\n",
        "          loss = criterion(output, target)\n",
        "          test_loss += loss.item()\n",
        "          predicted_batch = output.argmax(dim=1)\n",
        "          correct_predictions+= (predicted_batch == target).sum()\n",
        "          number_samples += len(target)\n",
        "\n",
        "      final_loss = test_loss/len(test_loader)\n",
        "      final_accuracy = 100 * (correct_predictions/number_samples)\n",
        "      if verbose :\n",
        "        print('Test Results :  Loss : {} / Accuracy : {} %'.format(\n",
        "          final_loss,final_accuracy,))\n",
        "          \n",
        "  return  final_accuracy"
      ],
      "metadata": {
        "id": "D8nSyG2bcQ3h"
      },
      "execution_count": 5,
      "outputs": []
    },
    {
      "cell_type": "code",
      "source": [
        "# Hyperparameters\n",
        "epochs = 20\n",
        "batch_size = 20\n",
        "\n",
        "# Loading train data set\n",
        "all_trainset = torchvision.datasets.CIFAR10(root =\"\\content\", train=True, download=True , transform=transforms.ToTensor())\n",
        "first_100= torch.utils.data.Subset(all_trainset, list(np.arange(100)) ) \n",
        "train_loader  = torch.utils.data.DataLoader(first_100, batch_size=batch_size, shuffle=True)\n",
        "\n",
        "# Loading test data set\n",
        "all_testset = torchvision.datasets.CIFAR10(root =\"\\content\", train=False, download=True, transform=transforms.ToTensor())\n",
        "test_loader = torch.utils.data.DataLoader(all_testset, batch_size=batch_size, shuffle=False)\n",
        "\n",
        "# Model and its components \n",
        "model = ResNet18()\n",
        "criterion = torch.nn.CrossEntropyLoss()\n",
        "optimizer = torch.optim.SGD(model.parameters(), lr=1e-2, momentum=0.8)\n",
        "scheduler = torch.optim.lr_scheduler.StepLR(optimizer, step_size=20, gamma=0.1)\n",
        "\n",
        "print(\"____________________________\")\n",
        "print(\"Train phase\")\n",
        "train_accuracy , training_loss = train(model, epochs, optimizer, scheduler, criterion, train_loader)\n",
        "show(train_accuracy, training_loss)\n",
        "print(\"____________________________\")\n",
        "print(\"Test phase\")\n",
        "test_accuracy = test(model, criterion, device, test_loader)"
      ],
      "metadata": {
        "colab": {
          "base_uri": "https://localhost:8080/",
          "height": 574
        },
        "id": "6gZWWbZEuThk",
        "outputId": "57fd847b-150b-47f3-a33c-adef7c1060b8"
      },
      "execution_count": null,
      "outputs": [
        {
          "output_type": "stream",
          "name": "stdout",
          "text": [
            "Files already downloaded and verified\n",
            "Files already downloaded and verified\n",
            "____________________________\n",
            "Train phase\n",
            "Train Epoch: 0 : Loss : 2.4047 / Accuracy : 12.0000 %\n",
            "Train Epoch: 5 : Loss : 0.2195 / Accuracy : 99.0000 %\n",
            "Train Epoch: 10 : Loss : 0.1007 / Accuracy : 100.0000 %\n",
            "Train Epoch: 15 : Loss : 0.1007 / Accuracy : 99.0000 %\n",
            "Train Epoch: 19 : Loss : 0.0901 / Accuracy : 99.0000 %\n"
          ]
        },
        {
          "output_type": "display_data",
          "data": {
            "image/png": "[encoded data removed]",
            "text/plain": [
              "<Figure size 1080x360 with 2 Axes>"
            ]
          },
          "metadata": {
            "needs_background": "light"
          }
        },
        {
          "output_type": "stream",
          "name": "stdout",
          "text": [
            "____________________________\n",
            "Test phase\n",
            "Test Results :  Loss : 2.3738846037387846 / Accuracy : 23.920000076293945 %\n"
          ]
        }
      ]
    },
    {
      "cell_type": "markdown",
      "source": [
        "| Model | Number of  epochs  | Train accuracy | Test accuracy |\n",
        "|------|------|------|------|\n",
        "|   Resnet18  | 20 | 99% | 23.92% |\n",
        "\n",
        "\n",
        "<br>\n",
        "Resources for models performance on the entire CIFAR-10:\n",
        "<br>\n",
        "\n",
        "\n",
        "\n",
        "|Link | Model | Number of  epochs  | Train accuracy | Test accuracy |\n",
        "|------ |------|------|------|------|\n",
        "|[Github](https://github.com/abhisikdar/RESNET18-CIFAR10/blob/main/Part_1.ipynbf)|   Resnet18  | 150 | 100% | 75.98% |\n",
        "[Github](https://github.com/rashutyagi/ResNet18-on-CIFAR-10)|   Resnet18  | 40 | 91.46% | 86.31% |\n",
        "[[Cascante-Bonilla, et al.]](https://arxiv.org/pdf/2001.06001.pdf)|   Resnet18  | 750 | - | 94.91% |\n",
        "\n",
        "\n",
        "\n",
        "\n",
        "\n",
        "\n"
      ],
      "metadata": {
        "id": "qtNaCppehG7T"
      }
    },
    {
      "cell_type": "markdown",
      "metadata": {
        "id": "JLv78we5jGKo"
      },
      "source": [
        "# Transfer learning"
      ]
    },
    {
      "cell_type": "markdown",
      "metadata": {
        "id": "et0xds0xjGKo"
      },
      "source": [
        "We propose to use pre-trained models on a classification task, in order to improve the results of our setting."
      ]
    },
    {
      "cell_type": "markdown",
      "metadata": {
        "id": "ErqP4xNMjGKo"
      },
      "source": [
        "## ImageNet features"
      ]
    },
    {
      "cell_type": "markdown",
      "metadata": {
        "id": "CyHaYiMCjGKo"
      },
      "source": [
        "Now, we will use a model pre-trained on ImageNet and see how well it performs on CIFAR. A list of ImageNet pre-trained models is available on : https://pytorch.org/vision/stable/models.html\n",
        "\n",
        "__Question 4 (3 points) :__ Pick a model from the list above, adapt it for CIFAR and retrain its final layer (or a block of layers, depending on the resources to which you have access to). Report its accuracy."
      ]
    },
    {
      "cell_type": "markdown",
      "source": [
        "**Answer 4:**\n",
        ">  In this part, we tried three different pretrained models (ResNet-18, ResNet-34 and ResNet-50) as baseline models. In addition, we added two fully connected layers. We chose for training a batch size equal to $10$ and the SGD optimizer with a learning rate equal to $10^{-3}$ and a momentum of $0.9$. \n",
        "  * The training is divided into three stages. In a first step, we freezed the entire layers and we only fine-tuned the two added layers. Next, we froze only the first half of layers and re-trained the model on the second half. Finally, the model is re-trained on all unfreezed layers. We chose as number of epochs $15\\times 3$, $25 \\times 3$ and $30 \\times 3$ for each model respectively. As a first part, the model is trained using the original images. Then, we resized the images to ($224 \\times 224$) which gave much better performance for the $3$ pretrained models.\n",
        "<br>\n",
        "  * From the plots of training loss and training accuracy, we observe a peculiar learning behavior. In the first two stages, the accuracy curve keeps increasing over epochs. In the last part, we can observe a drop in values, then a further increase. \n",
        "<br>\n",
        "  * From the previous results, we can notice that all the pre-trained models have close performances, with only a small advantage for ResNet-34. This result can perhaps be explained by the fact that the model is more complicated than ResNet-18 and is therefore able to learn better details, but not too complicated like ResNet-50 which is not efficient in our case. \n",
        "  * The following table reports training and testing accuracies:\n",
        "\n",
        "| Model | Number of  epochs  | Train accuracy <br> (w/o resizing)| Train accuracy <br> (w/ resizing) | Test accuracy <br> (w/o resizing) | Test accuracy<br> (w/ resizing)|\n",
        "|------|------|------|------|------|------|\n",
        "|   Pretrained Resnet-18  | <center> 45 </center> | <center>95% <center>| <center>100% <center>|<center>29.44%<center>| <center>58.34% <center>|\n",
        "|   **Pretrained Resnet-34**  |  <center> **60** </center> | <center>**93%**<center> | <center>**100%**<center> |<center>**33.22%**<center>| <center>**63.11%** <center>|\n",
        "|   Pretrained Resnet-50  |  <center> 90 </center> | <center>93% <center>| <center>100%<center> |<center>30.57% <center>| <center>61.08% <center>|"
      ],
      "metadata": {
        "id": "3Eaox1od7CM_"
      }
    },
    {
      "cell_type": "code",
      "source": [
        "class Net(nn.Module):\n",
        "\n",
        "    def __init__(self,type_model = 'ResNet18'):\n",
        "        super().__init__()\n",
        "\n",
        "        # Baseline model\n",
        "        if type_model == 'ResNet18':\n",
        "          self.model = models.resnet18(pretrained=True)\n",
        "        elif type_model == 'ResNet34':\n",
        "          self.model = models.resnet34(pretrained=True)\n",
        "        elif type_model == 'ResNet50':\n",
        "          self.model = models.resnet50(pretrained=True)\n",
        "\n",
        "        self.num_filters = self.model.fc.in_features\n",
        "        self.layers = list(self.model.children())[:-1]\n",
        "        self.backbone = nn.Sequential(*self.layers)\n",
        "\n",
        "        # Added fully connected layers \n",
        "        self.fc1 = nn.Linear(self.num_filters, 64) \n",
        "        self.fc = nn.Linear(64, 10)  \n",
        "\n",
        "    def forward(self, x):\n",
        "\n",
        "      x = self.backbone(x)\n",
        "      x = x.squeeze(3)\n",
        "      x = x.squeeze(2)\n",
        "      x = self.fc1(x)\n",
        "      x = self.fc(x)\n",
        "\n",
        "      return x"
      ],
      "metadata": {
        "id": "sj3oee1ezhwP"
      },
      "execution_count": 6,
      "outputs": []
    },
    {
      "cell_type": "code",
      "source": [
        "def training(type_model, epochs, train_loader, test_loader, lr=1e-3, momentum=0.9, plot=True) : \n",
        "\n",
        "  print('-' , type_model,end='\\n') \n",
        "  model = Net(type_model)\n",
        "\n",
        "  criterion = torch.nn.CrossEntropyLoss()\n",
        "  optimizer = torch.optim.SGD(model.parameters(), lr=lr, momentum=momentum)\n",
        "  scheduler = torch.optim.lr_scheduler.StepLR(optimizer, step_size=20, gamma=0.1)\n",
        "\n",
        "  print(\"____________________________\")\n",
        "  print(\"Train phase\")\n",
        "\n",
        "  # ----------------- Fine-tune only the last layer of the architecture ------------------ #\n",
        "\n",
        "  for param in model.parameters():\n",
        "    param.requires_grad = False\n",
        "\n",
        "  for param in model.fc.parameters():\n",
        "    param.requires_grad = True\n",
        "  \n",
        "  for param in model.fc1.parameters():\n",
        "    param.requires_grad = True\n",
        "  \n",
        "  train_accuracy , training_loss = train(model,epochs,optimizer, scheduler, criterion,train_loader, start_epoch = 0)\n",
        "  \n",
        "  # ----------------- Fine-tune the second half of the architecture ---------------------- #\n",
        "\n",
        "  for param in model.parameters():\n",
        "    param.requires_grad = True\n",
        "\n",
        "  child_nbrs = 0\n",
        "  for child in model.children():\n",
        "    child_nbrs += 1\n",
        "\n",
        "  child_counter = 0\n",
        "  for child in model.children():\n",
        "    if child_counter < child_nbrs//2 :\n",
        "        child_counter += 1\n",
        "        for param in child.parameters():\n",
        "            param.requires_grad = False\n",
        "  \n",
        "  for param in model.fc.parameters():\n",
        "    param.requires_grad = True\n",
        "\n",
        "  for param in model.fc1.parameters():\n",
        "    param.requires_grad = True\n",
        "  \n",
        "  train_accuracy1 , training_loss1 = train(model,epochs,optimizer,scheduler,criterion,train_loader,  start_epoch = epochs) \n",
        "\n",
        "  # ----------------------- Fine-tune the whole architecture ---------------------------- #\n",
        "\n",
        "  for param in model.parameters():\n",
        "    param.requires_grad = True \n",
        "  train_accuracy2 , training_loss2 = train(model,epochs,optimizer,scheduler,criterion,train_loader,  start_epoch = 2*epochs) \n",
        "\n",
        "  if plot : \n",
        "    show(train_accuracy+train_accuracy1+train_accuracy2 , training_loss+training_loss1+training_loss2) \n",
        "\n",
        "  print(\"____________________________\")\n",
        "  print(\"Test phase\")\n",
        "  test_accuracy = test(model, criterion, device, test_loader)"
      ],
      "metadata": {
        "id": "a0j8z7z819-U"
      },
      "execution_count": 7,
      "outputs": []
    },
    {
      "cell_type": "markdown",
      "source": [
        "## **1. Without resizing images:**"
      ],
      "metadata": {
        "id": "qZyebk-1HblA"
      }
    },
    {
      "cell_type": "code",
      "source": [
        "batch_size = 10\n",
        "\n",
        "# Loading train data set\n",
        "all_trainset = torchvision.datasets.CIFAR10(root =\"\\content\", train=True, download=True , transform=transforms.ToTensor())\n",
        "first_100= torch.utils.data.Subset(all_trainset, list(np.arange(100)) ) \n",
        "train_loader  = torch.utils.data.DataLoader(first_100, batch_size=batch_size, shuffle=True)\n",
        "\n",
        "# Loading test data set\n",
        "all_testset = torchvision.datasets.CIFAR10(root =\"\\content\", train=False, download=True, transform=transforms.ToTensor())\n",
        "test_loader = torch.utils.data.DataLoader(all_testset, batch_size=batch_size, shuffle=False)"
      ],
      "metadata": {
        "colab": {
          "base_uri": "https://localhost:8080/"
        },
        "id": "IsA4R57tHiOt",
        "outputId": "5bbdab2c-b059-40f8-a24c-6a4016c08efe"
      },
      "execution_count": null,
      "outputs": [
        {
          "output_type": "stream",
          "name": "stdout",
          "text": [
            "Files already downloaded and verified\n",
            "Files already downloaded and verified\n"
          ]
        }
      ]
    },
    {
      "cell_type": "markdown",
      "source": [
        "#### **Pretrained Resnet-18 model**"
      ],
      "metadata": {
        "id": "y8ioyyUvH-qU"
      }
    },
    {
      "cell_type": "code",
      "source": [
        "training('ResNet18', epochs=15, train_loader=train_loader, test_loader=test_loader)"
      ],
      "metadata": {
        "colab": {
          "base_uri": "https://localhost:8080/",
          "height": 668
        },
        "outputId": "aea8db1a-3109-4ac5-c243-ef50ef9fb095",
        "id": "B-HtPEAfH-qj"
      },
      "execution_count": null,
      "outputs": [
        {
          "output_type": "stream",
          "name": "stdout",
          "text": [
            "- ResNet18\n",
            "____________________________\n",
            "Train phase\n",
            "Train Epoch: 0 : Loss : 2.3905 / Accuracy : 4.0000 %\n",
            "Train Epoch: 5 : Loss : 1.9399 / Accuracy : 33.0000 %\n",
            "Train Epoch: 10 : Loss : 1.6692 / Accuracy : 44.0000 %\n",
            "Train Epoch: 14 : Loss : 1.3529 / Accuracy : 55.0000 %\n",
            "Train Epoch: 15 : Loss : 1.3597 / Accuracy : 54.0000 %\n",
            "Train Epoch: 20 : Loss : 1.2087 / Accuracy : 65.0000 %\n",
            "Train Epoch: 25 : Loss : 1.1320 / Accuracy : 68.0000 %\n",
            "Train Epoch: 29 : Loss : 0.9800 / Accuracy : 70.0000 %\n",
            "Train Epoch: 30 : Loss : 0.9236 / Accuracy : 80.0000 %\n",
            "Train Epoch: 35 : Loss : 0.5013 / Accuracy : 82.0000 %\n",
            "Train Epoch: 40 : Loss : 0.2565 / Accuracy : 93.0000 %\n",
            "Train Epoch: 44 : Loss : 0.1855 / Accuracy : 95.0000 %\n"
          ]
        },
        {
          "output_type": "display_data",
          "data": {
            "image/png": "[encoded data removed]",
            "text/plain": [
              "<Figure size 1080x360 with 2 Axes>"
            ]
          },
          "metadata": {
            "needs_background": "light"
          }
        },
        {
          "output_type": "stream",
          "name": "stdout",
          "text": [
            "____________________________\n",
            "Test phase\n",
            "Test Results :  Loss : 2.904219800770283 / Accuracy : 29.440000534057617 %\n"
          ]
        }
      ]
    },
    {
      "cell_type": "markdown",
      "source": [
        "#### **Pretrained Resnet-34 model**"
      ],
      "metadata": {
        "id": "qBIxEZ5LH-ql"
      }
    },
    {
      "cell_type": "code",
      "source": [
        "training('ResNet34', epochs=20, train_loader=train_loader, test_loader=test_loader)"
      ],
      "metadata": {
        "colab": {
          "base_uri": "https://localhost:8080/",
          "height": 720
        },
        "outputId": "9ef97fa8-8e25-400f-b88d-3559504fac7d",
        "id": "2JDPnm4dH-ql"
      },
      "execution_count": null,
      "outputs": [
        {
          "output_type": "stream",
          "name": "stdout",
          "text": [
            "- ResNet34\n",
            "____________________________\n",
            "Train phase\n",
            "Train Epoch: 0 : Loss : 2.3948 / Accuracy : 9.0000 %\n",
            "Train Epoch: 5 : Loss : 1.8890 / Accuracy : 40.0000 %\n",
            "Train Epoch: 10 : Loss : 1.5008 / Accuracy : 53.0000 %\n",
            "Train Epoch: 15 : Loss : 1.3018 / Accuracy : 62.0000 %\n",
            "Train Epoch: 19 : Loss : 1.2292 / Accuracy : 65.0000 %\n",
            "Train Epoch: 20 : Loss : 1.1207 / Accuracy : 67.0000 %\n",
            "Train Epoch: 25 : Loss : 1.0377 / Accuracy : 72.0000 %\n",
            "Train Epoch: 30 : Loss : 0.8918 / Accuracy : 78.0000 %\n",
            "Train Epoch: 35 : Loss : 0.8462 / Accuracy : 75.0000 %\n",
            "Train Epoch: 39 : Loss : 0.7759 / Accuracy : 75.0000 %\n",
            "Train Epoch: 40 : Loss : 0.8134 / Accuracy : 74.0000 %\n",
            "Train Epoch: 45 : Loss : 0.7633 / Accuracy : 80.0000 %\n",
            "Train Epoch: 50 : Loss : 0.2597 / Accuracy : 95.0000 %\n",
            "Train Epoch: 55 : Loss : 0.4683 / Accuracy : 92.0000 %\n",
            "Train Epoch: 59 : Loss : 0.1582 / Accuracy : 93.0000 %\n"
          ]
        },
        {
          "output_type": "display_data",
          "data": {
            "image/png": "[encoded data removed]",
            "text/plain": [
              "<Figure size 1080x360 with 2 Axes>"
            ]
          },
          "metadata": {
            "needs_background": "light"
          }
        },
        {
          "output_type": "stream",
          "name": "stdout",
          "text": [
            "____________________________\n",
            "Test phase\n",
            "Test Results :  Loss : 2.807661985874176 / Accuracy : 32.220001220703125 %\n"
          ]
        }
      ]
    },
    {
      "cell_type": "markdown",
      "source": [
        "#### **Pretrained Resnet-50 model**"
      ],
      "metadata": {
        "id": "IPcqztr1H-qm"
      }
    },
    {
      "cell_type": "code",
      "source": [
        "training('ResNet50', epochs=30, train_loader=train_loader, test_loader=test_loader)"
      ],
      "metadata": {
        "colab": {
          "base_uri": "https://localhost:8080/",
          "height": 824
        },
        "outputId": "2bd0cdf0-919d-4aab-8855-f455ed4d78e0",
        "id": "FueXM9IGH-qm"
      },
      "execution_count": null,
      "outputs": [
        {
          "output_type": "stream",
          "name": "stdout",
          "text": [
            "- ResNet50\n",
            "____________________________\n",
            "Train phase\n",
            "Train Epoch: 0 : Loss : 2.2872 / Accuracy : 11.0000 %\n",
            "Train Epoch: 5 : Loss : 1.9964 / Accuracy : 43.0000 %\n",
            "Train Epoch: 10 : Loss : 1.7035 / Accuracy : 53.0000 %\n",
            "Train Epoch: 15 : Loss : 1.5325 / Accuracy : 55.0000 %\n",
            "Train Epoch: 20 : Loss : 1.2650 / Accuracy : 60.0000 %\n",
            "Train Epoch: 25 : Loss : 1.0976 / Accuracy : 69.0000 %\n",
            "Train Epoch: 29 : Loss : 0.9906 / Accuracy : 76.0000 %\n",
            "Train Epoch: 30 : Loss : 1.0787 / Accuracy : 65.0000 %\n",
            "Train Epoch: 35 : Loss : 0.9557 / Accuracy : 73.0000 %\n",
            "Train Epoch: 40 : Loss : 0.9112 / Accuracy : 72.0000 %\n",
            "Train Epoch: 45 : Loss : 0.7857 / Accuracy : 77.0000 %\n",
            "Train Epoch: 50 : Loss : 0.7061 / Accuracy : 81.0000 %\n",
            "Train Epoch: 55 : Loss : 0.6474 / Accuracy : 82.0000 %\n",
            "Train Epoch: 59 : Loss : 0.7618 / Accuracy : 77.0000 %\n",
            "Train Epoch: 60 : Loss : 0.9892 / Accuracy : 68.0000 %\n",
            "Train Epoch: 65 : Loss : 0.7875 / Accuracy : 75.0000 %\n",
            "Train Epoch: 70 : Loss : 0.1738 / Accuracy : 93.0000 %\n",
            "Train Epoch: 75 : Loss : 0.3700 / Accuracy : 89.0000 %\n",
            "Train Epoch: 80 : Loss : 0.0935 / Accuracy : 97.0000 %\n",
            "Train Epoch: 85 : Loss : 0.1331 / Accuracy : 96.0000 %\n",
            "Train Epoch: 89 : Loss : 0.2213 / Accuracy : 93.0000 %\n"
          ]
        },
        {
          "output_type": "display_data",
          "data": {
            "image/png": "[encoded data removed]",
            "text/plain": [
              "<Figure size 1080x360 with 2 Axes>"
            ]
          },
          "metadata": {
            "needs_background": "light"
          }
        },
        {
          "output_type": "stream",
          "name": "stdout",
          "text": [
            "____________________________\n",
            "Test phase\n",
            "Test Results :  Loss : 2.7967134895324706 / Accuracy : 30.56999969482422 %\n"
          ]
        }
      ]
    },
    {
      "cell_type": "markdown",
      "source": [
        "## **2. With resizing images:**"
      ],
      "metadata": {
        "id": "wpSa8iNmHi3H"
      }
    },
    {
      "cell_type": "code",
      "source": [
        "batch_size = 10\n",
        "\n",
        "# Resize images\n",
        "transform = transforms.Compose([\n",
        "                transforms.Resize((224,224)),\n",
        "                transforms.ToTensor()\n",
        "                ])\n",
        "\n",
        "# Loading train data set\n",
        "all_trainset = torchvision.datasets.CIFAR10(root =\"\\content\", train=True, download=True , transform=transform)\n",
        "first_100= torch.utils.data.Subset(all_trainset, list(np.arange(100)) ) \n",
        "train_loader  = torch.utils.data.DataLoader(first_100, batch_size=batch_size, shuffle=True)\n",
        "\n",
        "# Loading test data set\n",
        "all_testset = torchvision.datasets.CIFAR10(root =\"\\content\", train=False, download=True, transform=transform)\n",
        "test_loader = torch.utils.data.DataLoader(all_testset, batch_size=batch_size, shuffle=False)"
      ],
      "metadata": {
        "colab": {
          "base_uri": "https://localhost:8080/"
        },
        "id": "XsUaQ2d0CtB-",
        "outputId": "b207bdb1-b79c-4015-d36d-10ca607e50c9"
      },
      "execution_count": null,
      "outputs": [
        {
          "output_type": "stream",
          "name": "stdout",
          "text": [
            "Files already downloaded and verified\n",
            "Files already downloaded and verified\n"
          ]
        }
      ]
    },
    {
      "cell_type": "markdown",
      "source": [
        "#### **Pretrained Resnet-18 model**"
      ],
      "metadata": {
        "id": "LoPHRmqD3kph"
      }
    },
    {
      "cell_type": "code",
      "source": [
        "training('ResNet18', epochs=15, train_loader=train_loader, test_loader=test_loader)"
      ],
      "metadata": {
        "colab": {
          "base_uri": "https://localhost:8080/",
          "height": 668
        },
        "id": "kjui1O9-CXHK",
        "outputId": "69e186c3-9355-4f0e-9360-0f58eb4caad2"
      },
      "execution_count": null,
      "outputs": [
        {
          "output_type": "stream",
          "name": "stdout",
          "text": [
            "- ResNet18\n",
            "____________________________\n",
            "Train phase\n",
            "Train Epoch: 0 : Loss : 2.2777 / Accuracy : 12.0000 %\n",
            "Train Epoch: 5 : Loss : 1.8047 / Accuracy : 50.0000 %\n",
            "Train Epoch: 10 : Loss : 1.3551 / Accuracy : 74.0000 %\n",
            "Train Epoch: 14 : Loss : 1.1547 / Accuracy : 78.0000 %\n",
            "Train Epoch: 15 : Loss : 1.0474 / Accuracy : 84.0000 %\n",
            "Train Epoch: 20 : Loss : 0.8189 / Accuracy : 91.0000 %\n",
            "Train Epoch: 25 : Loss : 0.6497 / Accuracy : 95.0000 %\n",
            "Train Epoch: 29 : Loss : 0.5964 / Accuracy : 94.0000 %\n",
            "Train Epoch: 30 : Loss : 0.5193 / Accuracy : 97.0000 %\n",
            "Train Epoch: 35 : Loss : 0.1014 / Accuracy : 100.0000 %\n",
            "Train Epoch: 40 : Loss : 0.0528 / Accuracy : 100.0000 %\n",
            "Train Epoch: 44 : Loss : 0.0254 / Accuracy : 100.0000 %\n"
          ]
        },
        {
          "output_type": "display_data",
          "data": {
            "image/png": "[encoded data removed]",
            "text/plain": [
              "<Figure size 1080x360 with 2 Axes>"
            ]
          },
          "metadata": {
            "needs_background": "light"
          }
        },
        {
          "output_type": "stream",
          "name": "stdout",
          "text": [
            "____________________________\n",
            "Test phase\n",
            "Test Results :  Loss : 1.1663681173622609 / Accuracy : 58.39999771118164 %\n"
          ]
        }
      ]
    },
    {
      "cell_type": "markdown",
      "source": [
        "#### **Pretrained Resnet-34 model**"
      ],
      "metadata": {
        "id": "RlZexryz3k9s"
      }
    },
    {
      "cell_type": "code",
      "source": [
        "training('ResNet34', epochs=20, train_loader=train_loader, test_loader=test_loader)"
      ],
      "metadata": {
        "colab": {
          "base_uri": "https://localhost:8080/",
          "height": 720
        },
        "id": "E9EUyqld__kd",
        "outputId": "346fa96d-917f-4254-c445-82188f12cb80"
      },
      "execution_count": null,
      "outputs": [
        {
          "output_type": "stream",
          "name": "stdout",
          "text": [
            "- ResNet34\n",
            "____________________________\n",
            "Train phase\n",
            "Train Epoch: 0 : Loss : 2.3046 / Accuracy : 10.0000 %\n",
            "Train Epoch: 5 : Loss : 1.8065 / Accuracy : 54.0000 %\n",
            "Train Epoch: 10 : Loss : 1.3849 / Accuracy : 70.0000 %\n",
            "Train Epoch: 15 : Loss : 0.9546 / Accuracy : 88.0000 %\n",
            "Train Epoch: 19 : Loss : 0.7795 / Accuracy : 92.0000 %\n",
            "Train Epoch: 20 : Loss : 0.7414 / Accuracy : 93.0000 %\n",
            "Train Epoch: 25 : Loss : 0.5493 / Accuracy : 95.0000 %\n",
            "Train Epoch: 30 : Loss : 0.4251 / Accuracy : 100.0000 %\n",
            "Train Epoch: 35 : Loss : 0.3284 / Accuracy : 99.0000 %\n",
            "Train Epoch: 39 : Loss : 0.3190 / Accuracy : 97.0000 %\n",
            "Train Epoch: 40 : Loss : 0.3026 / Accuracy : 97.0000 %\n",
            "Train Epoch: 45 : Loss : 0.0539 / Accuracy : 100.0000 %\n",
            "Train Epoch: 50 : Loss : 0.0164 / Accuracy : 100.0000 %\n",
            "Train Epoch: 55 : Loss : 0.0112 / Accuracy : 100.0000 %\n",
            "Train Epoch: 59 : Loss : 0.0095 / Accuracy : 100.0000 %\n"
          ]
        },
        {
          "output_type": "display_data",
          "data": {
            "image/png": "[encoded data removed]",
            "text/plain": [
              "<Figure size 1080x360 with 2 Axes>"
            ]
          },
          "metadata": {
            "needs_background": "light"
          }
        },
        {
          "output_type": "stream",
          "name": "stdout",
          "text": [
            "____________________________\n",
            "Test phase\n",
            "Test Results :  Loss : 1.0815703084766866 / Accuracy : 63.11000061035156 %\n"
          ]
        }
      ]
    },
    {
      "cell_type": "markdown",
      "source": [
        "#### **Pretrained Resnet-50 model**"
      ],
      "metadata": {
        "id": "eX7_XmI33lSE"
      }
    },
    {
      "cell_type": "code",
      "source": [
        "training('ResNet50', epochs=25, train_loader=train_loader, test_loader=test_loader)"
      ],
      "metadata": {
        "colab": {
          "base_uri": "https://localhost:8080/",
          "height": 772
        },
        "id": "L2XxVvckGQrk",
        "outputId": "613e501a-5977-4521-e1bb-352840d30157"
      },
      "execution_count": null,
      "outputs": [
        {
          "output_type": "stream",
          "name": "stdout",
          "text": [
            "- ResNet50\n",
            "____________________________\n",
            "Train phase\n",
            "Train Epoch: 0 : Loss : 2.3212 / Accuracy : 9.0000 %\n",
            "Train Epoch: 5 : Loss : 1.8958 / Accuracy : 43.0000 %\n",
            "Train Epoch: 10 : Loss : 1.5374 / Accuracy : 66.0000 %\n",
            "Train Epoch: 15 : Loss : 1.2122 / Accuracy : 74.0000 %\n",
            "Train Epoch: 20 : Loss : 1.0494 / Accuracy : 75.0000 %\n",
            "Train Epoch: 24 : Loss : 0.9128 / Accuracy : 88.0000 %\n",
            "Train Epoch: 25 : Loss : 0.7647 / Accuracy : 88.0000 %\n",
            "Train Epoch: 30 : Loss : 0.6385 / Accuracy : 94.0000 %\n",
            "Train Epoch: 35 : Loss : 0.5141 / Accuracy : 96.0000 %\n",
            "Train Epoch: 40 : Loss : 0.3995 / Accuracy : 98.0000 %\n",
            "Train Epoch: 45 : Loss : 0.3503 / Accuracy : 99.0000 %\n",
            "Train Epoch: 49 : Loss : 0.2926 / Accuracy : 98.0000 %\n",
            "Train Epoch: 50 : Loss : 0.3254 / Accuracy : 94.0000 %\n",
            "Train Epoch: 55 : Loss : 0.0616 / Accuracy : 100.0000 %\n",
            "Train Epoch: 60 : Loss : 0.0414 / Accuracy : 100.0000 %\n",
            "Train Epoch: 65 : Loss : 0.0141 / Accuracy : 100.0000 %\n",
            "Train Epoch: 70 : Loss : 0.0130 / Accuracy : 100.0000 %\n",
            "Train Epoch: 74 : Loss : 0.0082 / Accuracy : 100.0000 %\n"
          ]
        },
        {
          "output_type": "display_data",
          "data": {
            "image/png": "[encoded data removed]",
            "text/plain": [
              "<Figure size 1080x360 with 2 Axes>"
            ]
          },
          "metadata": {
            "needs_background": "light"
          }
        },
        {
          "output_type": "stream",
          "name": "stdout",
          "text": [
            "____________________________\n",
            "Test phase\n",
            "Test Results :  Loss : 1.117826816931367 / Accuracy : 61.07999801635742 %\n"
          ]
        }
      ]
    },
    {
      "cell_type": "markdown",
      "metadata": {
        "id": "-svmb56SjGKp"
      },
      "source": [
        "# Incorporating priors\n",
        "Geometrical priors are appealing for image classification tasks. \n",
        "A color image $x$ can be seen as a function: $\\mathbb{S}\\rightarrow\\mathbb{R}^3$, where $\\mathbb{S} \\subset \\mathbb{R}^2$ is the image support.\n",
        "Let us consider transformations $\\mathcal{T}$ of possible inputs $x$. For instance, if an image had infinite support, a translation $\\mathcal{T}_a$ of an image $x$ by a shift $a$ would lead to a new infinite-support image $\\mathcal{T}_a(x)$, described at each pixel $u$ by :\n",
        "\n",
        "$$\\forall u, \\mathcal{T}_a(x)(u)=x(u-a)\\,.$$\n",
        "\n",
        "__Question 5 (1.5 points) :__ Explain the issues when dealing with translations, rotations, scaling effects, color changes on $32\\times32$ images. Propose several ideas to tackle them."
      ]
    },
    {
      "cell_type": "markdown",
      "metadata": {
        "id": "9YJCU9PgjGKp"
      },
      "source": [
        "**Answer 5:**\n",
        "\n",
        "* *Translation:* \n",
        "  * **Problem:** When we perform translation on an image, translated pixels are replaced by black ones. So, given a finite support of the image, part of the information is lost because pixels mapped to points outside the boundaries are ignored.\n",
        "\n",
        "  * **Solution:** We can wrap ignored pixels around the edges, so that all the intensity information is retained.\n",
        "\n",
        "\n",
        "* *Rotation:*\n",
        "  * **Problem:**\n",
        "  When we apply a rotation $(\\theta \\neq k \\pi)$, the values of the pixels around the corners won't lay in the grid defined by the input image, which can lead to a lot of voids. \n",
        "\n",
        "  * **Solution:** To tackle this problem, we can apply many forms of interpolations such as: Linear interpolation, Bilinear interpolation, Cubic interpolation, etc.\n",
        "\n",
        "* *Scaling effects:*\n",
        "  * **Problem:** One of the main problems with scaling is that the image becomes blurry and distorted, resulting in a loss of information. Scaling an image beyond its original dimensions can result in a very fuzzy and pixelated image. In addition, the downsampling can cause aliasing arteficats. \n",
        "\n",
        "  * **Solution:** To solve the previous issues, we may apply also interpolation techniques. Moreover, in the case of downsampling, an anti-aliasing filter can be applied. And in the case of upsampling, a reconstruction filter takes the place of the anti-aliasing filter.\n",
        "\n",
        "* *Color changes:*\n",
        "  * **Problem:** When we apply color changes on an RGB image, it affects not only color information but also intensity information and thus results in an image with very strange colors. This can be explained by the fact that RGB channels tend to exhibit high levels of correlation.\n",
        "\n",
        "  * **Solution:** To avoid this problem, we can convert images from RGB space to another colorspace such as HSV since it separates the image intensity from the color information. So that changes are applied only on the intensity component. <br> In computer vision we often want to separate color components from intensity for various reasons, such as robustness to lighting changes, or removing shadows.\n",
        "\n"
      ]
    },
    {
      "cell_type": "markdown",
      "metadata": {
        "id": "CxMnR6QNjGKp"
      },
      "source": [
        "## Data augmentations"
      ]
    },
    {
      "cell_type": "markdown",
      "metadata": {
        "id": "vvohBWdmjGKp"
      },
      "source": [
        "__Question 6 (3 points) :__ Propose a set of geometric transformations beyond translation, and incorporate them in your training pipeline. Train the model of the __Question 3__ with them and report the accuracies.\n",
        "You can use tools from https://pytorch.org/vision/stable/transforms.html "
      ]
    },
    {
      "cell_type": "markdown",
      "source": [
        "**Answer 6:**\n",
        "\n",
        "> In this part, we augmented the 100-sample dataset by applying a set of geometric transformations. These latter will randomly augment our images so that the model gets to see different samples for every iteration. <br>\n",
        "In our pipeline, we chose to incorporate the following transformations combined using `torchvision.transforms.Compose()` :\n",
        "<br>\n",
        "- Horizontally flip the given image randomly with probability $\\frac{1}{2}$. This transformation alone improved very well the performance of our models. `RandomHorizontalFlip()`\n",
        "- Randomly crop the input image. `RandomCrop(size=[32,32], padding=3)`\n",
        "- Blur image with randomly chosen Gaussian blur with kernel $3\\times3$. `GaussianBlur(kernel_size=(3,3))`\n",
        "- Randomly change the hue of an image with probability $0.1$ while preserving its brightness, contrast, and saturation. `ColorJitter(hue=.1)`\n",
        "\n",
        "> Applying this pipeline of data augmentation improved the accuracy of all the tried models up to $3.4\\%$.\n",
        "* For the ResNet-18, we improved its accuracy on the test set from $23.92\\%$ to $25.87\\%$.\n",
        "* The best accuracy obtained is of $34.57\\%$ with Pretrained ResNet-50 model.\n",
        "* We report below the accuracies of all tried models w/ and w/o data augmentation:\n",
        "\n",
        "| Model | Number of  epochs <br>(w/o data augmentation)| Number of  epochs <br>(w/ data augmentation) | Train accuracy <br>(w/o data augmentation) |Train accuracy <br>(w/ data augmentation) || Test accuracy <br>(w/o data augmentation) | Test accuracy <br>(w/ data augmentation)|\n",
        "|------|------|------|------|------||------|------|\n",
        "|   Resnet-18  | <center> 20 </center>| <center> 40 </center> | <center>99% <center>|<center>96% <center>|| <center>23.92% <center>|<center>**25.87%** <center>|\n",
        "|   Pretrained Resnet-18  | <center> 45 </center>|  <center> 60 </center> | <center>95%<center> |<center>87% <center>|| <center>30.97%<center> | <center>**31.96%**<center> |\n",
        "|   Pretrained Resnet-34 | <center> 75 </center>|  <center> 75 </center> | <center>94% <center>|<center>94% <center>|| <center>30.29%<center> |<center>**32.04%**<center> |\n",
        "|   **Pretrained Resnet-50**  | <center> 90 </center>|  <center> 99 </center> |<center>99% <center>| <center>96% <center>|| <center>31.14%<center> |<center>**34.57%**<center> |\n",
        "\n",
        "\n",
        "\n",
        "\n"
      ],
      "metadata": {
        "id": "Iiw6I3bhna6J"
      }
    },
    {
      "cell_type": "code",
      "source": [
        "batch_size= 20\n",
        "\n",
        "# Data transformations\n",
        "train_transformations = transforms.Compose([\n",
        "                 transforms.RandomHorizontalFlip(),\n",
        "                 transforms.RandomCrop(size=[32,32], padding=3),\n",
        "                 transforms.GaussianBlur(kernel_size=(3,3)),\n",
        "                 transforms.ColorJitter(hue=.1),\n",
        "                 transforms.ToTensor(),\n",
        "                 transforms.Normalize((0.4914, 0.4822, 0.4465), (0.2023, 0.1994, 0.2010))\n",
        "                 ])\n",
        "\n",
        "test_transformations = transforms.Compose([\n",
        "                 transforms.ToTensor(),\n",
        "                 transforms.Normalize((0.4914, 0.4822, 0.4465), (0.2023, 0.1994, 0.2010))\n",
        "                 ])\n",
        "\n",
        "# Loading train data set\n",
        "all_trainset = torchvision.datasets.CIFAR10(root =\"\\content\", train=True, download=True , transform=train_transformations)\n",
        "first_100= torch.utils.data.Subset(all_trainset, list(np.arange(100)) ) \n",
        "train_loader  = torch.utils.data.DataLoader(first_100, batch_size=batch_size, shuffle=True)\n",
        "\n",
        "# Loading test data set\n",
        "all_testset = torchvision.datasets.CIFAR10(root =\"\\content\", train=False, download=True, transform=test_transformations)\n",
        "test_loader = torch.utils.data.DataLoader(all_testset, batch_size=batch_size, shuffle=False)"
      ],
      "metadata": {
        "colab": {
          "base_uri": "https://localhost:8080/"
        },
        "id": "8nF6rb_fzRPr",
        "outputId": "9b8c2329-aa69-4142-d344-ccd62997ff67"
      },
      "execution_count": null,
      "outputs": [
        {
          "output_type": "stream",
          "name": "stdout",
          "text": [
            "Files already downloaded and verified\n",
            "Files already downloaded and verified\n"
          ]
        }
      ]
    },
    {
      "cell_type": "markdown",
      "source": [
        "#### **ResNet-18 with data augmentation**"
      ],
      "metadata": {
        "id": "fpFbVHpKm7NE"
      }
    },
    {
      "cell_type": "code",
      "source": [
        "# Hyperparameters\n",
        "epochs = 40\n",
        "\n",
        "# Model and its components \n",
        "model = ResNet18()\n",
        "criterion = torch.nn.CrossEntropyLoss()\n",
        "optimizer = torch.optim.SGD(model.parameters(), lr=1e-2, momentum=0.8)\n",
        "scheduler = torch.optim.lr_scheduler.StepLR(optimizer, step_size=20, gamma=0.1)\n",
        "\n",
        "print(\"____________________________\")\n",
        "print(\"Train phase\")\n",
        "train_accuracy , training_loss = train(model, epochs, optimizer, scheduler, criterion, train_loader)\n",
        "print(\"____________________________\")\n",
        "print(\"Test phase\")\n",
        "test_accuracy = test(model, criterion, device, test_loader)"
      ],
      "metadata": {
        "colab": {
          "base_uri": "https://localhost:8080/"
        },
        "id": "TvhXXxYszUaH",
        "outputId": "54775696-3695-4032-b8cc-1763bd912f25"
      },
      "execution_count": null,
      "outputs": [
        {
          "output_type": "stream",
          "name": "stdout",
          "text": [
            "____________________________\n",
            "Train phase\n",
            "Train Epoch: 0 : Loss : 2.3086 / Accuracy : 14.0000 %\n",
            "Train Epoch: 5 : Loss : 1.7538 / Accuracy : 38.0000 %\n",
            "Train Epoch: 10 : Loss : 1.2889 / Accuracy : 54.0000 %\n",
            "Train Epoch: 15 : Loss : 0.8870 / Accuracy : 72.0000 %\n",
            "Train Epoch: 20 : Loss : 0.6118 / Accuracy : 81.0000 %\n",
            "Train Epoch: 25 : Loss : 0.5645 / Accuracy : 81.0000 %\n",
            "Train Epoch: 30 : Loss : 0.7011 / Accuracy : 80.0000 %\n",
            "Train Epoch: 35 : Loss : 0.1432 / Accuracy : 97.0000 %\n",
            "Train Epoch: 39 : Loss : 0.1319 / Accuracy : 96.0000 %\n",
            "____________________________\n",
            "Test phase\n",
            "Test Results :  Loss : 4.2356440534591675 / Accuracy : 25.869998931884766 %\n"
          ]
        }
      ]
    },
    {
      "cell_type": "markdown",
      "source": [
        "---"
      ],
      "metadata": {
        "id": "cuEVqL_eQ-f-"
      }
    },
    {
      "cell_type": "markdown",
      "source": [
        "#### **Pretrained models with data augmentation**"
      ],
      "metadata": {
        "id": "wk0ycCG9h2tK"
      }
    },
    {
      "cell_type": "code",
      "source": [
        "# Loading train data set\n",
        "all_trainset = torchvision.datasets.CIFAR10(root =\"\\content\", train=True, download=True , transform=train_transformations)\n",
        "first_100= torch.utils.data.Subset(all_trainset, list(np.arange(100)) ) \n",
        "train_loader  = torch.utils.data.DataLoader(first_100, batch_size=batch_size, shuffle=True)\n",
        "\n",
        "# Loading test data set\n",
        "all_testset = torchvision.datasets.CIFAR10(root =\"\\content\", train=False, download=True, transform=test_transformations)\n",
        "test_loader = torch.utils.data.DataLoader(all_testset, batch_size=batch_size, shuffle=False)"
      ],
      "metadata": {
        "colab": {
          "base_uri": "https://localhost:8080/"
        },
        "id": "HR0j3gsMJWVE",
        "outputId": "7753bd53-1f19-4c3b-f85d-d0cc3cb80fcf"
      },
      "execution_count": null,
      "outputs": [
        {
          "output_type": "stream",
          "name": "stdout",
          "text": [
            "Files already downloaded and verified\n",
            "Files already downloaded and verified\n"
          ]
        }
      ]
    },
    {
      "cell_type": "markdown",
      "source": [
        "* **Pretrained Resnet-18 model**"
      ],
      "metadata": {
        "id": "1mh1nAHHXefu"
      }
    },
    {
      "cell_type": "code",
      "source": [
        "training('ResNet18', epochs=20, train_loader=train_loader, test_loader=test_loader)"
      ],
      "metadata": {
        "colab": {
          "base_uri": "https://localhost:8080/",
          "height": 720
        },
        "id": "YuA-xxFEkhuX",
        "outputId": "930a9b24-799e-4040-8249-acade94aea0a"
      },
      "execution_count": null,
      "outputs": [
        {
          "output_type": "stream",
          "name": "stdout",
          "text": [
            "- ResNet18\n",
            "____________________________\n",
            "Train phase\n",
            "Train Epoch: 0 : Loss : 2.3743 / Accuracy : 8.0000 %\n",
            "Train Epoch: 5 : Loss : 2.1986 / Accuracy : 19.0000 %\n",
            "Train Epoch: 10 : Loss : 1.8871 / Accuracy : 35.0000 %\n",
            "Train Epoch: 15 : Loss : 1.8488 / Accuracy : 36.0000 %\n",
            "Train Epoch: 19 : Loss : 1.7710 / Accuracy : 40.0000 %\n",
            "Train Epoch: 20 : Loss : 1.8070 / Accuracy : 42.0000 %\n",
            "Train Epoch: 25 : Loss : 1.6221 / Accuracy : 42.0000 %\n",
            "Train Epoch: 30 : Loss : 1.6121 / Accuracy : 42.0000 %\n",
            "Train Epoch: 35 : Loss : 1.6879 / Accuracy : 44.0000 %\n",
            "Train Epoch: 39 : Loss : 1.6004 / Accuracy : 46.0000 %\n",
            "Train Epoch: 40 : Loss : 1.5518 / Accuracy : 41.0000 %\n",
            "Train Epoch: 45 : Loss : 1.1583 / Accuracy : 62.0000 %\n",
            "Train Epoch: 50 : Loss : 1.0152 / Accuracy : 65.0000 %\n",
            "Train Epoch: 55 : Loss : 0.7447 / Accuracy : 82.0000 %\n",
            "Train Epoch: 59 : Loss : 0.6028 / Accuracy : 79.0000 %\n"
          ]
        },
        {
          "output_type": "display_data",
          "data": {
            "image/png": "[encoded data removed]",
            "text/plain": [
              "<Figure size 1080x360 with 2 Axes>"
            ]
          },
          "metadata": {
            "needs_background": "light"
          }
        },
        {
          "output_type": "stream",
          "name": "stdout",
          "text": [
            "____________________________\n",
            "Test phase\n",
            "Test Results :  Loss : 3.1793493852615358 / Accuracy : 29.10999870300293 %\n"
          ]
        }
      ]
    },
    {
      "cell_type": "markdown",
      "source": [
        "* **Pretrained Resnet-34 model**"
      ],
      "metadata": {
        "id": "8aj7fXlxXl3C"
      }
    },
    {
      "cell_type": "code",
      "source": [
        "training('ResNet34', epochs=25, train_loader=train_loader, test_loader=test_loader)"
      ],
      "metadata": {
        "colab": {
          "base_uri": "https://localhost:8080/",
          "height": 772
        },
        "id": "qImp7n8Pk_Db",
        "outputId": "b6f12036-a506-4d1f-981d-0e27a0cd2a69"
      },
      "execution_count": null,
      "outputs": [
        {
          "output_type": "stream",
          "name": "stdout",
          "text": [
            "- ResNet34\n",
            "____________________________\n",
            "Train phase\n",
            "Train Epoch: 0 : Loss : 2.3794 / Accuracy : 12.0000 %\n",
            "Train Epoch: 5 : Loss : 2.0737 / Accuracy : 28.0000 %\n",
            "Train Epoch: 10 : Loss : 1.9864 / Accuracy : 31.0000 %\n",
            "Train Epoch: 15 : Loss : 1.8243 / Accuracy : 35.0000 %\n",
            "Train Epoch: 20 : Loss : 1.7626 / Accuracy : 38.0000 %\n",
            "Train Epoch: 24 : Loss : 1.6981 / Accuracy : 39.0000 %\n",
            "Train Epoch: 25 : Loss : 1.5879 / Accuracy : 54.0000 %\n",
            "Train Epoch: 30 : Loss : 1.7425 / Accuracy : 35.0000 %\n",
            "Train Epoch: 35 : Loss : 1.4939 / Accuracy : 50.0000 %\n",
            "Train Epoch: 40 : Loss : 1.4340 / Accuracy : 47.0000 %\n",
            "Train Epoch: 45 : Loss : 1.3974 / Accuracy : 50.0000 %\n",
            "Train Epoch: 49 : Loss : 1.3630 / Accuracy : 54.0000 %\n",
            "Train Epoch: 50 : Loss : 1.4876 / Accuracy : 48.0000 %\n",
            "Train Epoch: 55 : Loss : 1.5042 / Accuracy : 50.0000 %\n",
            "Train Epoch: 60 : Loss : 1.0970 / Accuracy : 60.0000 %\n",
            "Train Epoch: 65 : Loss : 0.9072 / Accuracy : 73.0000 %\n",
            "Train Epoch: 70 : Loss : 0.6463 / Accuracy : 80.0000 %\n",
            "Train Epoch: 74 : Loss : 0.4653 / Accuracy : 85.0000 %\n"
          ]
        },
        {
          "output_type": "display_data",
          "data": {
            "image/png": "[encoded data removed]",
            "text/plain": [
              "<Figure size 1080x360 with 2 Axes>"
            ]
          },
          "metadata": {
            "needs_background": "light"
          }
        },
        {
          "output_type": "stream",
          "name": "stdout",
          "text": [
            "____________________________\n",
            "Test phase\n",
            "Test Results :  Loss : 3.0963931488990784 / Accuracy : 30.6299991607666 %\n"
          ]
        }
      ]
    },
    {
      "cell_type": "markdown",
      "source": [
        "* **Pretrained Resnet-50 model**"
      ],
      "metadata": {
        "id": "8ic18KvuXn6-"
      }
    },
    {
      "cell_type": "code",
      "source": [
        "training('ResNet50', epochs=33, train_loader=train_loader, test_loader=test_loader)"
      ],
      "metadata": {
        "colab": {
          "base_uri": "https://localhost:8080/",
          "height": 841
        },
        "id": "ch09PicemOOu",
        "outputId": "d93e7f1e-b4b6-46d5-f02f-3300f1455596"
      },
      "execution_count": null,
      "outputs": [
        {
          "output_type": "stream",
          "name": "stdout",
          "text": [
            "- ResNet50\n",
            "____________________________\n",
            "Train phase\n",
            "Train Epoch: 0 : Loss : 2.3436 / Accuracy : 7.0000 %\n",
            "Train Epoch: 5 : Loss : 2.1714 / Accuracy : 20.0000 %\n",
            "Train Epoch: 10 : Loss : 2.0238 / Accuracy : 28.0000 %\n",
            "Train Epoch: 15 : Loss : 1.9946 / Accuracy : 30.0000 %\n",
            "Train Epoch: 20 : Loss : 1.9140 / Accuracy : 35.0000 %\n",
            "Train Epoch: 25 : Loss : 1.8001 / Accuracy : 47.0000 %\n",
            "Train Epoch: 30 : Loss : 1.7341 / Accuracy : 43.0000 %\n",
            "Train Epoch: 32 : Loss : 1.7001 / Accuracy : 45.0000 %\n",
            "Train Epoch: 35 : Loss : 1.6871 / Accuracy : 45.0000 %\n",
            "Train Epoch: 40 : Loss : 1.5695 / Accuracy : 46.0000 %\n",
            "Train Epoch: 45 : Loss : 1.5919 / Accuracy : 46.0000 %\n",
            "Train Epoch: 50 : Loss : 1.4667 / Accuracy : 56.0000 %\n",
            "Train Epoch: 55 : Loss : 1.4082 / Accuracy : 55.0000 %\n",
            "Train Epoch: 60 : Loss : 1.5626 / Accuracy : 50.0000 %\n",
            "Train Epoch: 65 : Loss : 1.4483 / Accuracy : 60.0000 %\n",
            "Train Epoch: 70 : Loss : 1.8379 / Accuracy : 40.0000 %\n",
            "Train Epoch: 75 : Loss : 1.7293 / Accuracy : 43.0000 %\n",
            "Train Epoch: 80 : Loss : 1.1365 / Accuracy : 64.0000 %\n",
            "Train Epoch: 85 : Loss : 0.9679 / Accuracy : 69.0000 %\n",
            "Train Epoch: 90 : Loss : 0.6093 / Accuracy : 76.0000 %\n",
            "Train Epoch: 95 : Loss : 0.5192 / Accuracy : 80.0000 %\n",
            "Train Epoch: 98 : Loss : 0.3278 / Accuracy : 90.0000 %\n"
          ]
        },
        {
          "output_type": "display_data",
          "data": {
            "image/png": "[encoded data removed]",
            "text/plain": [
              "<Figure size 1080x360 with 2 Axes>"
            ]
          },
          "metadata": {
            "needs_background": "light"
          }
        },
        {
          "output_type": "stream",
          "name": "stdout",
          "text": [
            "____________________________\n",
            "Test phase\n",
            "Test Results :  Loss : 2.6269123691320417 / Accuracy : 33.349998474121094 %\n"
          ]
        }
      ]
    },
    {
      "cell_type": "markdown",
      "metadata": {
        "id": "1I81WSECjGKq"
      },
      "source": [
        "# Conclusions"
      ]
    },
    {
      "cell_type": "markdown",
      "metadata": {
        "id": "xjQRkH-kjGKq"
      },
      "source": [
        "__Question 7 (5 points) :__ Write a short report explaining the pros and the cons of each method you implemented. 25% of the grade of this project will correspond to this question, thus, it should be done carefully. In particular, please add a plot that will summarize all your numerical results."
      ]
    },
    {
      "cell_type": "markdown",
      "metadata": {
        "id": "82dUc-f5jGKq"
      },
      "source": [
        "**Answer 7:**\n",
        "\n",
        "In this lab, our goal is to study the behavior of training procedures given a tiny dataset. \n",
        "\n",
        "**Choice of the learning procedure:**\n",
        "<br>\n",
        "> In this part, we will discuss the learning procedure that we chose to train the chosen models. The training is divided into $3$ parts, where in each part we unfreeze more layers in the architecture. Let's say that we are going to train the model for $60$ epochs:\n",
        "> * In the first part ($20$ epochs), we froze all the layers and we trained only the fully connected layers. \n",
        "> * In the next part ($20-40$ epochs), we froze only the first half of the layers and we trained the model on the other half.\n",
        "> * Finally, in the last part($40-60$ epochs), we trained the model on all the unfrozen layers.\n",
        "<br>\n",
        "> $\\Longrightarrow$ We can conclude that this approach gave better results than the classic approach (in case we freeze pretrained model layers and train the added fully connected layers).\n",
        "\n",
        "**Comparison between ResNet-18 VS Pretrained ResNet-18:**\n",
        "<br> \n",
        "> In this part, we compared the performance of ResNet-18 trained from scratch on our dataset and Pretrained ResNet-18 on ImageNet. \n",
        "> * For the ResNet18, we trained the model for $20$ epochs with a batch size equal to $20$. We can clearly notice that the model is overfitting. Indeed, we got a training accuracy of $98 \\%$ and a testing accuracy of only $23.92 \\%$. The results are unstable when we re-train the model, but this value did not improve even when we vary parameters.\n",
        "<br>\n",
        "> * For the Pretrained ResNet-18, we obtained better accuracy ($29.44 \\%$ VS $23.92 \\%$) on the test data set after training the model for $45$ epochs. \n",
        "<br>\n",
        "> $\\Longrightarrow$ We can say that this model is able to capture features that the first model ignored which yielded in better performance.\n",
        "\n",
        "**Comparison between Pretrained ResNet-18, Pretrained ResNet-34 and Pretrained ResNet-50:** \n",
        "<br>\n",
        "> Here, we tried to explore other versions of the ResNet architecture to see if the new version better solves the difficulties encountered with the small data set. It turns out that complicating the architecture does not necessarily improve the results significantly when dealing with a small data set. The pre-trained ResNet-50 gave a test accuracy of $30.57\\%$ after $90$ epochs, while the pre-trained ResNet-18 gave a test accuracy of $29.44\\%$ after $45$ epochs when running the model with the original images. Nevertheless, when we used the resized images for training, we obtained higher performance for all models, with the best accuracy $63.11\\%$ for ResNet-34.\n",
        "\n",
        "**Impact of data augmentation:**\n",
        "<br>\n",
        "> In order to improve the model performance trained on tiny dataset, the first intuitive idea that comes to mind (after using a pretrained model) is using data augmentation. By applying some of the transformations, explored in Question $5$, we managed to improve the results. For the ResNet-18 trained from scratch, we passed from $23.92\\%$ to $30.97\\%$. For the pretrained ResNet-18, the model accuracy slightly increased from $30.97\\%$ to $31.95\\%$. For the pretraiend ResNet-34, we had an improvement of $1.75\\%$. As for the pretraiend ResNet-50, we had an improvement of over $3\\%$ (from $31.16\\%$ to $34.56\\%$) which revealed to be the best model in our study.\n",
        "<br> \n",
        "> $\\Longrightarrow$ We can say that, when chosen carefully, the data augmentation technique can help obtain good results. However, poorly chosen transformations can lead to disastrous results.\n",
        "\n"
      ]
    },
    {
      "cell_type": "markdown",
      "metadata": {
        "id": "8MIfKUUojGKq"
      },
      "source": [
        "# Weak supervision"
      ]
    },
    {
      "cell_type": "markdown",
      "metadata": {
        "id": "RldQ1hdPjGKq"
      },
      "source": [
        "__Bonus \\[open\\] question (up to 4 points) :__ Pick a weakly supervised method that will potentially use $\\mathcal{X}_{\\text{nolabel}}\\cup\\mathcal{X}_{\\text{train}}$ to train a model (a subset of $\\mathcal{X}_{\\text{nolabel}}$ is also fine). Evaluate it and report the accuracies. You should be careful in the choice of your method, in order to avoid heavy computational effort."
      ]
    },
    {
      "cell_type": "markdown",
      "source": [
        "**Answer:**"
      ],
      "metadata": {
        "id": "L-xO-z0tn3fk"
      }
    },
    {
      "cell_type": "markdown",
      "source": [
        "---\n",
        "\n",
        "**Title:** Curriculum Labeling (CL) Algorithm.\n",
        "\n",
        "<img src=\"https://docs.google.com/uc?export=download&id=18UTYtLmREXhZAJSB1l4fXxC7g5s9MiXn\" width=\"1000\" height=\"250\">\n",
        "\n",
        "**Source:** [Cascante-Bonilla, et al.](https://github.com/uvavision/Curriculum-Labeling)\n",
        "\n",
        "---\n",
        "\n",
        "\n",
        "\n",
        "\n"
      ],
      "metadata": {
        "id": "XhRzEgsUY_Or"
      }
    },
    {
      "cell_type": "markdown",
      "source": [
        "> In this part, we got inspired by the idea of [[Cascante-Bonilla, et al.]](https://github.com/uvavision/Curriculum-Labeling). Their method, \"Curriculum Labeling\", is based on pseudo-labeling approach which is the process of using a model trained on labeled data to generate pseudo-labels for the unlabeled dataset. Then, the most confident pseudo-labels (regarding a chosen threshold) are added to the labeled dataset. Next, the process is repeated by training a new model from scratch on the combined labeled dataset and generating pseudo-labels to the remaining unlabeled samples. The process stops when the number of labeled samples exceeds half the size of the training dataset in order to reduce the training time. The following algorithm explains in details the approach."
      ],
      "metadata": {
        "id": "BfbN4excGwI1"
      }
    },
    {
      "cell_type": "markdown",
      "source": [
        "<center> <img src=\"https://docs.google.com/uc?export=download&id=1y8AeOtkD__I038L10sqSZUe_fLqIx9IZ\" width=\"400\" height=\"350\">\n",
        "\n",
        "\n"
      ],
      "metadata": {
        "id": "NkXHPlXnXsUz"
      }
    },
    {
      "cell_type": "markdown",
      "source": [
        "> To do so, we used the previous architecture with a baseline model: \"Pretrained ResNet-50\". We  used the same strategy to train the model (with only first and last stages) with a batch size equal to $20$, a number of epochs equal to $20 \\times 2$, the SGD optimizer with a learning rate equal to $10^{-3}$ and a momentum of $0.9$. We fixed the threshold for selecting pseudo-lables equal to $0.85$. <br><br> \n",
        "> The following table resumes the evolution of the labeling of the model. We can see that as the number of the labled samples increases after each iteration, the performance of the model increases. The finall model achieved an accuracy of $33.9 \\%$ on test data.\n",
        "\n"
      ],
      "metadata": {
        "id": "1usVm1A9nuZf"
      }
    },
    {
      "cell_type": "markdown",
      "source": [
        "| Iterations | Number of total selected lables  | Train accuracy | Test accuracy |\n",
        "|------|------|------|------|\n",
        "| 1 | <center> 100 </center> | <center> 99 %<center>| <center>29.15 %<center>|\n",
        "| 2 |  <center> 3431 </center> | <center> 99.76 %<center> | <center>33.24 %<center> |\n",
        "| 3 |  <center> 34563 </center> | <center> 98.83 %<center> | <center>**33.9%**<center> |"
      ],
      "metadata": {
        "id": "aoDDxgzIR8XW"
      }
    },
    {
      "cell_type": "code",
      "source": [
        "batch_size = 20\n",
        "\n",
        "# Loading train data set\n",
        "all_trainset = torchvision.datasets.CIFAR10(root =\"\\content\",train=True, download =True , transform=transforms.ToTensor())\n",
        "train_loader = torch.utils.data.DataLoader(all_trainset, shuffle=False, batch_size=batch_size) \n",
        "\n",
        "for batch_idx, (data, target) in enumerate(train_loader):\n",
        "  if batch_idx == 0:\n",
        "    X = data\n",
        "  else : \n",
        "    X = torch.cat((X, data))  \n",
        "    \n",
        "y = all_trainset.targets \n",
        "\n",
        "# Loading test data set\n",
        "all_test = torchvision.datasets.CIFAR10(root =\"\\content\",train =False, download =True, transform=transforms.ToTensor())\n",
        "test_loader = torch.utils.data.DataLoader(all_test, shuffle=False, batch_size=batch_size)"
      ],
      "metadata": {
        "id": "7hZk9zCWG1yy",
        "colab": {
          "base_uri": "https://localhost:8080/",
          "height": 101,
          "referenced_widgets": [
            "817b24da6f3e441881abcb1ba86457c9",
            "070d3e1035824f28983956c4ea40013e",
            "9fc7057a7c8b459daf8176f62987eda6",
            "2622eb4495ef4c3aa5166b2d53f6cd14",
            "3b239f6cccd9425fbfc8e0969d1e70dc",
            "41c0315198034b9f8671e6b8541f2171",
            "ad149977e9e940b8987b645fcbd74e44",
            "a757c526bd0c49db89fdc491582bc389",
            "0b99541c36ac4851a43480a227f58b72",
            "9e78b511d7d943efaca7afdd2704b01a",
            "451a4010d80646f596f4d35c29dc8ea5"
          ]
        },
        "outputId": "be282480-739e-4df2-b70c-305b608d2a1a"
      },
      "execution_count": 8,
      "outputs": [
        {
          "output_type": "stream",
          "name": "stdout",
          "text": [
            "Downloading https://www.cs.toronto.edu/~kriz/cifar-10-python.tar.gz to \\content/cifar-10-python.tar.gz\n"
          ]
        },
        {
          "output_type": "display_data",
          "data": {
            "application/vnd.jupyter.widget-view+json": {
              "model_id": "817b24da6f3e441881abcb1ba86457c9",
              "version_minor": 0,
              "version_major": 2
            },
            "text/plain": [
              "  0%|          | 0/170498071 [00:00<?, ?it/s]"
            ]
          },
          "metadata": {}
        },
        {
          "output_type": "stream",
          "name": "stdout",
          "text": [
            "Extracting \\content/cifar-10-python.tar.gz to \\content\n",
            "Files already downloaded and verified\n"
          ]
        }
      ]
    },
    {
      "cell_type": "code",
      "source": [
        "epochs = 20\n",
        "idx = list(np.arange(100))\n",
        "y_labled = y[:100]\n",
        "print('Number of labled samples:', len(idx))\n",
        "\n",
        "while len(idx) < len(all_trainset)//2:\n",
        "\n",
        "  # Preparing data\n",
        "  remaining_idx = list(set(np.arange(len(all_trainset))) - set(idx))\n",
        "  X_labled = X[idx]\n",
        "  X_unlabled = X[remaining_idx]\n",
        "\n",
        "  trainset = torch.utils.data.TensorDataset(torch.tensor(X_labled), torch.tensor(y_labled))\n",
        "  train_labled_loader = torch.utils.data.DataLoader(trainset, batch_size=batch_size, shuffle=True)  \n",
        "\n",
        "  trainset_unlabled = torch.utils.data.TensorDataset(torch.tensor(X_unlabled),torch.from_numpy(np.zeros(len(X_unlabled))))\n",
        "  train_unlabled_loader = torch.utils.data.DataLoader(trainset_unlabled, batch_size=(len(X_unlabled)), shuffle=False)\n",
        "\n",
        "  # Define the model \n",
        "  model = Net('ResNet50')\n",
        "\n",
        "  criterion = torch.nn.CrossEntropyLoss()\n",
        "  optimizer = torch.optim.SGD(model.parameters(), lr=1e-3, momentum=0.9)\n",
        "  scheduler = torch.optim.lr_scheduler.StepLR(optimizer, step_size=20, gamma=0.1)\n",
        "  \n",
        "  print(\"____________________________\")\n",
        "  print(\"Train phase\")\n",
        "\n",
        "  # ----------------- Fine-tune only the last layer of the architecture ------------------ #\n",
        "\n",
        "  for param in model.parameters():\n",
        "    param.requires_grad = False\n",
        "\n",
        "  for param in model.fc.parameters():\n",
        "    param.requires_grad = True\n",
        "  \n",
        "  for param in model.fc1.parameters():\n",
        "    param.requires_grad = True\n",
        "  \n",
        "  train_accuracy , training_loss = train(model,epochs,optimizer, scheduler, criterion,train_labled_loader, start_epoch = 0)\n",
        "\n",
        "  # ----------------------- Fine-tune the whole architecture ---------------------------- #\n",
        "\n",
        "  for param in model.parameters():\n",
        "    param.requires_grad = True \n",
        "  train_accuracy1 , training_loss1 = train(model,epochs,optimizer,scheduler,criterion,train_labled_loader,  start_epoch = epochs) \n",
        "\n",
        "  print(\"____________________________\")\n",
        "  print(\"Test phase\")\n",
        "  test_accuracy = test(model, criterion, device, test_loader)\n",
        "  \n",
        "  # ----------------------- Create new labels ---------------------------- #\n",
        "  with torch.no_grad():\n",
        "    model.eval()\n",
        "\n",
        "    for batch_idx, (data, target) in enumerate(train_unlabled_loader):\n",
        "        data, target = data.to(device), target.to(device)\n",
        "        output = model(data)\n",
        "        predicted = torch.max(F.softmax(output,dim=1),dim=1).values.cpu().numpy() \n",
        "        keep_idx = np.where(predicted > 0.85)[0]\n",
        "        new_samples = np.array(remaining_idx)[keep_idx]\n",
        "        new_lables = (F.softmax(output,dim=1)).argmax(dim=1).cpu().numpy()[keep_idx]\n",
        "\n",
        "  idx += list(new_samples)\n",
        "  y_labled += list(new_lables)\n",
        "  print('Number of total labled samples:', len(idx))\n",
        "\n",
        "# ----------------------- Last train ---------------------------- # \n",
        "\n",
        "# Selecting labled + pseudo labeled samples \n",
        "X_labled = X[idx]\n",
        "trainset = torch.utils.data.TensorDataset(torch.tensor(X_labled), torch.tensor(y_labled))\n",
        "train_labled_loader = torch.utils.data.DataLoader(trainset, batch_size=batch_size, shuffle=True)\n",
        "\n",
        "# Define the model \n",
        "model = Net('ResNet50')\n",
        "\n",
        "criterion = torch.nn.CrossEntropyLoss()\n",
        "optimizer = torch.optim.SGD(model.parameters(), lr=1e-3, momentum=0.9)\n",
        "scheduler = torch.optim.lr_scheduler.StepLR(optimizer, step_size=20, gamma=0.1)\n",
        "\n",
        "print(\"____________________________\")\n",
        "print(\"Train phase\")\n",
        "\n",
        "# ----------------- Fine-tune only the last layer of the architecture ------------------ #\n",
        "\n",
        "for param in model.parameters():\n",
        "  param.requires_grad = False\n",
        "\n",
        "for param in model.fc.parameters():\n",
        "  param.requires_grad = True\n",
        "\n",
        "for param in model.fc1.parameters():\n",
        "  param.requires_grad = True\n",
        "\n",
        "train_accuracy , training_loss = train(model,epochs,optimizer, scheduler, criterion,train_labled_loader, start_epoch = 0)\n",
        "\n",
        "# ----------------------- Fine-tune the whole architecture ---------------------------- #\n",
        "\n",
        "for param in model.parameters():\n",
        "  param.requires_grad = True \n",
        "train_accuracy1 , training_loss1 = train(model,epochs,optimizer,scheduler,criterion,train_labled_loader,  start_epoch = epochs) \n",
        "\n",
        "show(train_accuracy+train_accuracy1 , training_loss+training_loss1) \n",
        "\n",
        "print(\"____________________________\")\n",
        "print(\"Test phase\")\n",
        "test_accuracy = test(model, criterion, device, test_loader)"
      ],
      "metadata": {
        "colab": {
          "base_uri": "https://localhost:8080/",
          "height": 1000
        },
        "id": "rymkZS8gVtjp",
        "outputId": "4710d3ba-d643-49fd-94e2-72da7d1ba9e2"
      },
      "execution_count": null,
      "outputs": [
        {
          "output_type": "stream",
          "name": "stdout",
          "text": [
            "Number of labled samples: 100\n",
            "____________________________\n",
            "Train phase\n",
            "Train Epoch: 0 : Loss : 2.3363 / Accuracy : 11.0000 %\n",
            "Train Epoch: 5 : Loss : 2.1056 / Accuracy : 32.0000 %\n",
            "Train Epoch: 10 : Loss : 1.7954 / Accuracy : 51.0000 %\n",
            "Train Epoch: 15 : Loss : 1.6283 / Accuracy : 65.0000 %\n",
            "Train Epoch: 19 : Loss : 1.5145 / Accuracy : 63.0000 %\n",
            "Train Epoch: 20 : Loss : 1.4825 / Accuracy : 60.0000 %\n",
            "Train Epoch: 25 : Loss : 0.6935 / Accuracy : 90.0000 %\n",
            "Train Epoch: 30 : Loss : 0.2456 / Accuracy : 97.0000 %\n",
            "Train Epoch: 35 : Loss : 0.1013 / Accuracy : 100.0000 %\n",
            "Train Epoch: 39 : Loss : 0.0656 / Accuracy : 99.0000 %\n",
            "____________________________\n",
            "Test phase\n",
            "Test Results :  Loss : 2.1530477359294893 / Accuracy : 29.149999618530273 %\n",
            "Number of total labled samples: 3431\n",
            "____________________________\n",
            "Train phase\n",
            "Train Epoch: 0 : Loss : 1.2866 / Accuracy : 62.2850 %\n",
            "Train Epoch: 5 : Loss : 0.5384 / Accuracy : 83.6491 %\n",
            "Train Epoch: 10 : Loss : 0.4654 / Accuracy : 84.6692 %\n",
            "Train Epoch: 15 : Loss : 0.4213 / Accuracy : 86.8843 %\n",
            "Train Epoch: 19 : Loss : 0.3873 / Accuracy : 86.5345 %\n",
            "Train Epoch: 20 : Loss : 0.5882 / Accuracy : 83.0953 %\n",
            "Train Epoch: 25 : Loss : 0.0881 / Accuracy : 97.7266 %\n",
            "Train Epoch: 30 : Loss : 0.0281 / Accuracy : 99.3005 %\n",
            "Train Epoch: 35 : Loss : 0.0161 / Accuracy : 99.5628 %\n",
            "Train Epoch: 39 : Loss : 0.0098 / Accuracy : 99.7668 %\n",
            "____________________________\n",
            "Test phase\n",
            "Test Results :  Loss : 4.61032247543335 / Accuracy : 33.23999786376953 %\n",
            "Number of total labled samples: 34563\n",
            "____________________________\n",
            "Train phase\n",
            "Train Epoch: 0 : Loss : 1.2338 / Accuracy : 58.4238 %\n",
            "Train Epoch: 5 : Loss : 0.9630 / Accuracy : 66.4236 %\n",
            "Train Epoch: 10 : Loss : 0.9240 / Accuracy : 67.6475 %\n",
            "Train Epoch: 15 : Loss : 0.9073 / Accuracy : 68.0525 %\n",
            "Train Epoch: 19 : Loss : 0.9125 / Accuracy : 67.8790 %\n",
            "Train Epoch: 20 : Loss : 0.6456 / Accuracy : 78.0256 %\n",
            "Train Epoch: 25 : Loss : 0.1451 / Accuracy : 94.9484 %\n",
            "Train Epoch: 30 : Loss : 0.2906 / Accuracy : 90.0182 %\n",
            "Train Epoch: 35 : Loss : 0.0448 / Accuracy : 98.5997 %\n",
            "Train Epoch: 39 : Loss : 0.0348 / Accuracy : 98.8340 %\n"
          ]
        },
        {
          "output_type": "display_data",
          "data": {
            "image/png": "[encoded data removed]",
            "text/plain": [
              "<Figure size 1080x360 with 2 Axes>"
            ]
          },
          "metadata": {}
        },
        {
          "output_type": "stream",
          "name": "stdout",
          "text": [
            "____________________________\n",
            "Test phase\n",
            "Test Results :  Loss : 6.731655247688294 / Accuracy : 33.89999771118164 %\n"
          ]
        }
      ]
    },
    {
      "cell_type": "markdown",
      "source": [
        "---"
      ],
      "metadata": {
        "id": "iVwQUCqDMQ3X"
      }
    }
  ],
  "metadata": {
    "colab": {
      "collapsed_sections": [],
      "name": "DLiP_TP4_Ghamgui_Mhadhbi_Barkia.ipynb",
      "provenance": [],
      "machine_shape": "hm"
    },
    "kernelspec": {
      "display_name": "Python 3",
      "language": "python",
      "name": "python3"
    },
    "language_info": {
      "codemirror_mode": {
        "name": "ipython",
        "version": 3
      },
      "file_extension": ".py",
      "mimetype": "text/x-python",
      "name": "python",
      "nbconvert_exporter": "python",
      "pygments_lexer": "ipython3",
      "version": "3.7.6"
    },
    "accelerator": "GPU",
    "widgets": {
      "application/vnd.jupyter.widget-state+json": {
        "a3c03cc1026143b1bbf65658d17dc208": {
          "model_module": "@jupyter-widgets/controls",
          "model_name": "HBoxModel",
          "model_module_version": "1.5.0",
          "state": {
            "_view_name": "HBoxView",
            "_dom_classes": [],
            "_model_name": "HBoxModel",
            "_view_module": "@jupyter-widgets/controls",
            "_model_module_version": "1.5.0",
            "_view_count": null,
            "_view_module_version": "1.5.0",
            "box_style": "",
            "layout": "IPY_MODEL_7f3785adfab44c17800d8ced1706c09a",
            "_model_module": "@jupyter-widgets/controls",
            "children": [
              "IPY_MODEL_0dfe43068ae5406b91287ee2261dd0ab",
              "IPY_MODEL_fb677cb4d0b44dac96a9a49773465ec7",
              "IPY_MODEL_3d14999728b6416184edf851b01b5f76"
            ]
          }
        },
        "7f3785adfab44c17800d8ced1706c09a": {
          "model_module": "@jupyter-widgets/base",
          "model_name": "LayoutModel",
          "model_module_version": "1.2.0",
          "state": {
            "_view_name": "LayoutView",
            "grid_template_rows": null,
            "right": null,
            "justify_content": null,
            "_view_module": "@jupyter-widgets/base",
            "overflow": null,
            "_model_module_version": "1.2.0",
            "_view_count": null,
            "flex_flow": null,
            "width": null,
            "min_width": null,
            "border": null,
            "align_items": null,
            "bottom": null,
            "_model_module": "@jupyter-widgets/base",
            "top": null,
            "grid_column": null,
            "overflow_y": null,
            "overflow_x": null,
            "grid_auto_flow": null,
            "grid_area": null,
            "grid_template_columns": null,
            "flex": null,
            "_model_name": "LayoutModel",
            "justify_items": null,
            "grid_row": null,
            "max_height": null,
            "align_content": null,
            "visibility": null,
            "align_self": null,
            "height": null,
            "min_height": null,
            "padding": null,
            "grid_auto_rows": null,
            "grid_gap": null,
            "max_width": null,
            "order": null,
            "_view_module_version": "1.2.0",
            "grid_template_areas": null,
            "object_position": null,
            "object_fit": null,
            "grid_auto_columns": null,
            "margin": null,
            "display": null,
            "left": null
          }
        },
        "0dfe43068ae5406b91287ee2261dd0ab": {
          "model_module": "@jupyter-widgets/controls",
          "model_name": "HTMLModel",
          "model_module_version": "1.5.0",
          "state": {
            "_view_name": "HTMLView",
            "style": "IPY_MODEL_e005ef70f869454e86db18b87064e614",
            "_dom_classes": [],
            "description": "",
            "_model_name": "HTMLModel",
            "placeholder": "​",
            "_view_module": "@jupyter-widgets/controls",
            "_model_module_version": "1.5.0",
            "value": "",
            "_view_count": null,
            "_view_module_version": "1.5.0",
            "description_tooltip": null,
            "_model_module": "@jupyter-widgets/controls",
            "layout": "IPY_MODEL_efe803b4b98748b18debfc5f020615db"
          }
        },
        "fb677cb4d0b44dac96a9a49773465ec7": {
          "model_module": "@jupyter-widgets/controls",
          "model_name": "FloatProgressModel",
          "model_module_version": "1.5.0",
          "state": {
            "_view_name": "ProgressView",
            "style": "IPY_MODEL_0d47157812fd4597b95c763fc5d2cd3c",
            "_dom_classes": [],
            "description": "",
            "_model_name": "FloatProgressModel",
            "bar_style": "success",
            "max": 170498071,
            "_view_module": "@jupyter-widgets/controls",
            "_model_module_version": "1.5.0",
            "value": 170498071,
            "_view_count": null,
            "_view_module_version": "1.5.0",
            "orientation": "horizontal",
            "min": 0,
            "description_tooltip": null,
            "_model_module": "@jupyter-widgets/controls",
            "layout": "IPY_MODEL_7f3bdb1e660d4c13b97d27cfff499241"
          }
        },
        "3d14999728b6416184edf851b01b5f76": {
          "model_module": "@jupyter-widgets/controls",
          "model_name": "HTMLModel",
          "model_module_version": "1.5.0",
          "state": {
            "_view_name": "HTMLView",
            "style": "IPY_MODEL_7e47b43602b848f19a02ac98f1ff9016",
            "_dom_classes": [],
            "description": "",
            "_model_name": "HTMLModel",
            "placeholder": "​",
            "_view_module": "@jupyter-widgets/controls",
            "_model_module_version": "1.5.0",
            "value": " 170499072/? [00:05&lt;00:00, 28738475.92it/s]",
            "_view_count": null,
            "_view_module_version": "1.5.0",
            "description_tooltip": null,
            "_model_module": "@jupyter-widgets/controls",
            "layout": "IPY_MODEL_8eaa4ae61a374ccca4a8fb614896c779"
          }
        },
        "e005ef70f869454e86db18b87064e614": {
          "model_module": "@jupyter-widgets/controls",
          "model_name": "DescriptionStyleModel",
          "model_module_version": "1.5.0",
          "state": {
            "_view_name": "StyleView",
            "_model_name": "DescriptionStyleModel",
            "description_width": "",
            "_view_module": "@jupyter-widgets/base",
            "_model_module_version": "1.5.0",
            "_view_count": null,
            "_view_module_version": "1.2.0",
            "_model_module": "@jupyter-widgets/controls"
          }
        },
        "efe803b4b98748b18debfc5f020615db": {
          "model_module": "@jupyter-widgets/base",
          "model_name": "LayoutModel",
          "model_module_version": "1.2.0",
          "state": {
            "_view_name": "LayoutView",
            "grid_template_rows": null,
            "right": null,
            "justify_content": null,
            "_view_module": "@jupyter-widgets/base",
            "overflow": null,
            "_model_module_version": "1.2.0",
            "_view_count": null,
            "flex_flow": null,
            "width": null,
            "min_width": null,
            "border": null,
            "align_items": null,
            "bottom": null,
            "_model_module": "@jupyter-widgets/base",
            "top": null,
            "grid_column": null,
            "overflow_y": null,
            "overflow_x": null,
            "grid_auto_flow": null,
            "grid_area": null,
            "grid_template_columns": null,
            "flex": null,
            "_model_name": "LayoutModel",
            "justify_items": null,
            "grid_row": null,
            "max_height": null,
            "align_content": null,
            "visibility": null,
            "align_self": null,
            "height": null,
            "min_height": null,
            "padding": null,
            "grid_auto_rows": null,
            "grid_gap": null,
            "max_width": null,
            "order": null,
            "_view_module_version": "1.2.0",
            "grid_template_areas": null,
            "object_position": null,
            "object_fit": null,
            "grid_auto_columns": null,
            "margin": null,
            "display": null,
            "left": null
          }
        },
        "0d47157812fd4597b95c763fc5d2cd3c": {
          "model_module": "@jupyter-widgets/controls",
          "model_name": "ProgressStyleModel",
          "model_module_version": "1.5.0",
          "state": {
            "_view_name": "StyleView",
            "_model_name": "ProgressStyleModel",
            "description_width": "",
            "_view_module": "@jupyter-widgets/base",
            "_model_module_version": "1.5.0",
            "_view_count": null,
            "_view_module_version": "1.2.0",
            "bar_color": null,
            "_model_module": "@jupyter-widgets/controls"
          }
        },
        "7f3bdb1e660d4c13b97d27cfff499241": {
          "model_module": "@jupyter-widgets/base",
          "model_name": "LayoutModel",
          "model_module_version": "1.2.0",
          "state": {
            "_view_name": "LayoutView",
            "grid_template_rows": null,
            "right": null,
            "justify_content": null,
            "_view_module": "@jupyter-widgets/base",
            "overflow": null,
            "_model_module_version": "1.2.0",
            "_view_count": null,
            "flex_flow": null,
            "width": null,
            "min_width": null,
            "border": null,
            "align_items": null,
            "bottom": null,
            "_model_module": "@jupyter-widgets/base",
            "top": null,
            "grid_column": null,
            "overflow_y": null,
            "overflow_x": null,
            "grid_auto_flow": null,
            "grid_area": null,
            "grid_template_columns": null,
            "flex": null,
            "_model_name": "LayoutModel",
            "justify_items": null,
            "grid_row": null,
            "max_height": null,
            "align_content": null,
            "visibility": null,
            "align_self": null,
            "height": null,
            "min_height": null,
            "padding": null,
            "grid_auto_rows": null,
            "grid_gap": null,
            "max_width": null,
            "order": null,
            "_view_module_version": "1.2.0",
            "grid_template_areas": null,
            "object_position": null,
            "object_fit": null,
            "grid_auto_columns": null,
            "margin": null,
            "display": null,
            "left": null
          }
        },
        "7e47b43602b848f19a02ac98f1ff9016": {
          "model_module": "@jupyter-widgets/controls",
          "model_name": "DescriptionStyleModel",
          "model_module_version": "1.5.0",
          "state": {
            "_view_name": "StyleView",
            "_model_name": "DescriptionStyleModel",
            "description_width": "",
            "_view_module": "@jupyter-widgets/base",
            "_model_module_version": "1.5.0",
            "_view_count": null,
            "_view_module_version": "1.2.0",
            "_model_module": "@jupyter-widgets/controls"
          }
        },
        "8eaa4ae61a374ccca4a8fb614896c779": {
          "model_module": "@jupyter-widgets/base",
          "model_name": "LayoutModel",
          "model_module_version": "1.2.0",
          "state": {
            "_view_name": "LayoutView",
            "grid_template_rows": null,
            "right": null,
            "justify_content": null,
            "_view_module": "@jupyter-widgets/base",
            "overflow": null,
            "_model_module_version": "1.2.0",
            "_view_count": null,
            "flex_flow": null,
            "width": null,
            "min_width": null,
            "border": null,
            "align_items": null,
            "bottom": null,
            "_model_module": "@jupyter-widgets/base",
            "top": null,
            "grid_column": null,
            "overflow_y": null,
            "overflow_x": null,
            "grid_auto_flow": null,
            "grid_area": null,
            "grid_template_columns": null,
            "flex": null,
            "_model_name": "LayoutModel",
            "justify_items": null,
            "grid_row": null,
            "max_height": null,
            "align_content": null,
            "visibility": null,
            "align_self": null,
            "height": null,
            "min_height": null,
            "padding": null,
            "grid_auto_rows": null,
            "grid_gap": null,
            "max_width": null,
            "order": null,
            "_view_module_version": "1.2.0",
            "grid_template_areas": null,
            "object_position": null,
            "object_fit": null,
            "grid_auto_columns": null,
            "margin": null,
            "display": null,
            "left": null
          }
        },
        "817b24da6f3e441881abcb1ba86457c9": {
          "model_module": "@jupyter-widgets/controls",
          "model_name": "HBoxModel",
          "model_module_version": "1.5.0",
          "state": {
            "_view_name": "HBoxView",
            "_dom_classes": [],
            "_model_name": "HBoxModel",
            "_view_module": "@jupyter-widgets/controls",
            "_model_module_version": "1.5.0",
            "_view_count": null,
            "_view_module_version": "1.5.0",
            "box_style": "",
            "layout": "IPY_MODEL_070d3e1035824f28983956c4ea40013e",
            "_model_module": "@jupyter-widgets/controls",
            "children": [
              "IPY_MODEL_9fc7057a7c8b459daf8176f62987eda6",
              "IPY_MODEL_2622eb4495ef4c3aa5166b2d53f6cd14",
              "IPY_MODEL_3b239f6cccd9425fbfc8e0969d1e70dc"
            ]
          }
        },
        "070d3e1035824f28983956c4ea40013e": {
          "model_module": "@jupyter-widgets/base",
          "model_name": "LayoutModel",
          "model_module_version": "1.2.0",
          "state": {
            "_view_name": "LayoutView",
            "grid_template_rows": null,
            "right": null,
            "justify_content": null,
            "_view_module": "@jupyter-widgets/base",
            "overflow": null,
            "_model_module_version": "1.2.0",
            "_view_count": null,
            "flex_flow": null,
            "width": null,
            "min_width": null,
            "border": null,
            "align_items": null,
            "bottom": null,
            "_model_module": "@jupyter-widgets/base",
            "top": null,
            "grid_column": null,
            "overflow_y": null,
            "overflow_x": null,
            "grid_auto_flow": null,
            "grid_area": null,
            "grid_template_columns": null,
            "flex": null,
            "_model_name": "LayoutModel",
            "justify_items": null,
            "grid_row": null,
            "max_height": null,
            "align_content": null,
            "visibility": null,
            "align_self": null,
            "height": null,
            "min_height": null,
            "padding": null,
            "grid_auto_rows": null,
            "grid_gap": null,
            "max_width": null,
            "order": null,
            "_view_module_version": "1.2.0",
            "grid_template_areas": null,
            "object_position": null,
            "object_fit": null,
            "grid_auto_columns": null,
            "margin": null,
            "display": null,
            "left": null
          }
        },
        "9fc7057a7c8b459daf8176f62987eda6": {
          "model_module": "@jupyter-widgets/controls",
          "model_name": "HTMLModel",
          "model_module_version": "1.5.0",
          "state": {
            "_view_name": "HTMLView",
            "style": "IPY_MODEL_41c0315198034b9f8671e6b8541f2171",
            "_dom_classes": [],
            "description": "",
            "_model_name": "HTMLModel",
            "placeholder": "​",
            "_view_module": "@jupyter-widgets/controls",
            "_model_module_version": "1.5.0",
            "value": "",
            "_view_count": null,
            "_view_module_version": "1.5.0",
            "description_tooltip": null,
            "_model_module": "@jupyter-widgets/controls",
            "layout": "IPY_MODEL_ad149977e9e940b8987b645fcbd74e44"
          }
        },
        "2622eb4495ef4c3aa5166b2d53f6cd14": {
          "model_module": "@jupyter-widgets/controls",
          "model_name": "FloatProgressModel",
          "model_module_version": "1.5.0",
          "state": {
            "_view_name": "ProgressView",
            "style": "IPY_MODEL_a757c526bd0c49db89fdc491582bc389",
            "_dom_classes": [],
            "description": "",
            "_model_name": "FloatProgressModel",
            "bar_style": "success",
            "max": 170498071,
            "_view_module": "@jupyter-widgets/controls",
            "_model_module_version": "1.5.0",
            "value": 170498071,
            "_view_count": null,
            "_view_module_version": "1.5.0",
            "orientation": "horizontal",
            "min": 0,
            "description_tooltip": null,
            "_model_module": "@jupyter-widgets/controls",
            "layout": "IPY_MODEL_0b99541c36ac4851a43480a227f58b72"
          }
        },
        "3b239f6cccd9425fbfc8e0969d1e70dc": {
          "model_module": "@jupyter-widgets/controls",
          "model_name": "HTMLModel",
          "model_module_version": "1.5.0",
          "state": {
            "_view_name": "HTMLView",
            "style": "IPY_MODEL_9e78b511d7d943efaca7afdd2704b01a",
            "_dom_classes": [],
            "description": "",
            "_model_name": "HTMLModel",
            "placeholder": "​",
            "_view_module": "@jupyter-widgets/controls",
            "_model_module_version": "1.5.0",
            "value": " 170499072/? [00:11&lt;00:00, 17596986.99it/s]",
            "_view_count": null,
            "_view_module_version": "1.5.0",
            "description_tooltip": null,
            "_model_module": "@jupyter-widgets/controls",
            "layout": "IPY_MODEL_451a4010d80646f596f4d35c29dc8ea5"
          }
        },
        "41c0315198034b9f8671e6b8541f2171": {
          "model_module": "@jupyter-widgets/controls",
          "model_name": "DescriptionStyleModel",
          "model_module_version": "1.5.0",
          "state": {
            "_view_name": "StyleView",
            "_model_name": "DescriptionStyleModel",
            "description_width": "",
            "_view_module": "@jupyter-widgets/base",
            "_model_module_version": "1.5.0",
            "_view_count": null,
            "_view_module_version": "1.2.0",
            "_model_module": "@jupyter-widgets/controls"
          }
        },
        "ad149977e9e940b8987b645fcbd74e44": {
          "model_module": "@jupyter-widgets/base",
          "model_name": "LayoutModel",
          "model_module_version": "1.2.0",
          "state": {
            "_view_name": "LayoutView",
            "grid_template_rows": null,
            "right": null,
            "justify_content": null,
            "_view_module": "@jupyter-widgets/base",
            "overflow": null,
            "_model_module_version": "1.2.0",
            "_view_count": null,
            "flex_flow": null,
            "width": null,
            "min_width": null,
            "border": null,
            "align_items": null,
            "bottom": null,
            "_model_module": "@jupyter-widgets/base",
            "top": null,
            "grid_column": null,
            "overflow_y": null,
            "overflow_x": null,
            "grid_auto_flow": null,
            "grid_area": null,
            "grid_template_columns": null,
            "flex": null,
            "_model_name": "LayoutModel",
            "justify_items": null,
            "grid_row": null,
            "max_height": null,
            "align_content": null,
            "visibility": null,
            "align_self": null,
            "height": null,
            "min_height": null,
            "padding": null,
            "grid_auto_rows": null,
            "grid_gap": null,
            "max_width": null,
            "order": null,
            "_view_module_version": "1.2.0",
            "grid_template_areas": null,
            "object_position": null,
            "object_fit": null,
            "grid_auto_columns": null,
            "margin": null,
            "display": null,
            "left": null
          }
        },
        "a757c526bd0c49db89fdc491582bc389": {
          "model_module": "@jupyter-widgets/controls",
          "model_name": "ProgressStyleModel",
          "model_module_version": "1.5.0",
          "state": {
            "_view_name": "StyleView",
            "_model_name": "ProgressStyleModel",
            "description_width": "",
            "_view_module": "@jupyter-widgets/base",
            "_model_module_version": "1.5.0",
            "_view_count": null,
            "_view_module_version": "1.2.0",
            "bar_color": null,
            "_model_module": "@jupyter-widgets/controls"
          }
        },
        "0b99541c36ac4851a43480a227f58b72": {
          "model_module": "@jupyter-widgets/base",
          "model_name": "LayoutModel",
          "model_module_version": "1.2.0",
          "state": {
            "_view_name": "LayoutView",
            "grid_template_rows": null,
            "right": null,
            "justify_content": null,
            "_view_module": "@jupyter-widgets/base",
            "overflow": null,
            "_model_module_version": "1.2.0",
            "_view_count": null,
            "flex_flow": null,
            "width": null,
            "min_width": null,
            "border": null,
            "align_items": null,
            "bottom": null,
            "_model_module": "@jupyter-widgets/base",
            "top": null,
            "grid_column": null,
            "overflow_y": null,
            "overflow_x": null,
            "grid_auto_flow": null,
            "grid_area": null,
            "grid_template_columns": null,
            "flex": null,
            "_model_name": "LayoutModel",
            "justify_items": null,
            "grid_row": null,
            "max_height": null,
            "align_content": null,
            "visibility": null,
            "align_self": null,
            "height": null,
            "min_height": null,
            "padding": null,
            "grid_auto_rows": null,
            "grid_gap": null,
            "max_width": null,
            "order": null,
            "_view_module_version": "1.2.0",
            "grid_template_areas": null,
            "object_position": null,
            "object_fit": null,
            "grid_auto_columns": null,
            "margin": null,
            "display": null,
            "left": null
          }
        },
        "9e78b511d7d943efaca7afdd2704b01a": {
          "model_module": "@jupyter-widgets/controls",
          "model_name": "DescriptionStyleModel",
          "model_module_version": "1.5.0",
          "state": {
            "_view_name": "StyleView",
            "_model_name": "DescriptionStyleModel",
            "description_width": "",
            "_view_module": "@jupyter-widgets/base",
            "_model_module_version": "1.5.0",
            "_view_count": null,
            "_view_module_version": "1.2.0",
            "_model_module": "@jupyter-widgets/controls"
          }
        },
        "451a4010d80646f596f4d35c29dc8ea5": {
          "model_module": "@jupyter-widgets/base",
          "model_name": "LayoutModel",
          "model_module_version": "1.2.0",
          "state": {
            "_view_name": "LayoutView",
            "grid_template_rows": null,
            "right": null,
            "justify_content": null,
            "_view_module": "@jupyter-widgets/base",
            "overflow": null,
            "_model_module_version": "1.2.0",
            "_view_count": null,
            "flex_flow": null,
            "width": null,
            "min_width": null,
            "border": null,
            "align_items": null,
            "bottom": null,
            "_model_module": "@jupyter-widgets/base",
            "top": null,
            "grid_column": null,
            "overflow_y": null,
            "overflow_x": null,
            "grid_auto_flow": null,
            "grid_area": null,
            "grid_template_columns": null,
            "flex": null,
            "_model_name": "LayoutModel",
            "justify_items": null,
            "grid_row": null,
            "max_height": null,
            "align_content": null,
            "visibility": null,
            "align_self": null,
            "height": null,
            "min_height": null,
            "padding": null,
            "grid_auto_rows": null,
            "grid_gap": null,
            "max_width": null,
            "order": null,
            "_view_module_version": "1.2.0",
            "grid_template_areas": null,
            "object_position": null,
            "object_fit": null,
            "grid_auto_columns": null,
            "margin": null,
            "display": null,
            "left": null
          }
        }
      }
    }
  },
  "nbformat": 4,
  "nbformat_minor": 0
}