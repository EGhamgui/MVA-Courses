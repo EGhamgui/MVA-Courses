{
 "cells": [
  {
   "cell_type": "markdown",
   "metadata": {},
   "source": [
    "# Spectral Clustering\n",
    "\n",
    "\n",
    "In this exercise, you will implement spectral clustering and try it on diffent kinds of data, for instance:\n",
    "\n",
    "* N-blob: Random points in $\\mathbb{R}^2$ according to N Gaussian distributions with different means;\n",
    "\n",
    "* Two moons: Random points shaped as two intertwined moons; \n",
    "\n",
    "* Point and circle: random points from a concentrated Gaussian point in the middle and a wide circle around it.\n",
    "\n",
    "The first step after generating the data is to construct a graph and, for that, we need a similarity function. In this exercise we will use the following similarity:\n",
    "\n",
    "$$\n",
    "d(x_i, x_j) = \\exp\\left(-\\frac{||x_i-x_j||_2^2}{2\\sigma^2}\\right)\n",
    "$$\n",
    "\n",
    "Using this similarity, we can compute the weight matrix W representing the graph, compute the graph Laplacian L and finally use its eigenvectors for clustering.\n"
   ]
  },
  {
   "cell_type": "markdown",
   "metadata": {},
   "source": [
    "## Setup"
   ]
  },
  {
   "cell_type": "code",
   "execution_count": 1,
   "metadata": {},
   "outputs": [],
   "source": [
    "from generate_data import worst_case_blob, blobs, two_moons, point_and_circle\n",
    "from utils import plot_clusters, min_span_tree, plot_graph_matrix, min_span_tree\n",
    "from utils import plot_clustering_result, plot_the_bend\n",
    "from sklearn.cluster import KMeans\n",
    "import sklearn.metrics as skm\n",
    "import numpy as np\n",
    "from skimage import io\n",
    "import numpy as np\n",
    "import matplotlib.pyplot as plt\n",
    "import os"
   ]
  },
  {
   "cell_type": "markdown",
   "metadata": {},
   "source": [
    "## Generating the data"
   ]
  },
  {
   "cell_type": "code",
   "execution_count": 21,
   "metadata": {},
   "outputs": [
    {
     "data": {
      "image/png": "[encoded data removed]",
      "text/plain": [
       "<Figure size 432x288 with 1 Axes>"
      ]
     },
     "metadata": {
      "needs_background": "light"
     },
     "output_type": "display_data"
    }
   ],
   "source": [
    "# Example\n",
    "\n",
    "for fn in [two_moons]:  #  try also [worst_case_blob, point_and_circle, blobs]\n",
    "    X, Y = fn(num_samples=600)\n",
    "    plot_clusters(X, Y, fignum=str(fn))\n",
    "    \n",
    "# You can check the documentation of each function to see the optional parameters, e.g.:\n",
    "worst_case_blob?"
   ]
  },
  {
   "cell_type": "markdown",
   "metadata": {},
   "source": [
    "## Building similarity graph"
   ]
  },
  {
   "cell_type": "code",
   "execution_count": 3,
   "metadata": {},
   "outputs": [],
   "source": [
    "def build_similarity_graph(X, var=1.0, eps=0.0, k=0):\n",
    "    \"\"\"\n",
    "    TO BE COMPLETED.\n",
    "\n",
    "    Computes the similarity matrix for a given dataset of samples. \n",
    "    If k=0, builds epsilon graph. \n",
    "    Otherwise, builds kNN graph.\n",
    "\n",
    "    Parameters\n",
    "    ----------\n",
    "    X : numpy array\n",
    "        (n x m) matrix of m-dimensional samples\n",
    "    var : double \n",
    "        the sigma value for the exponential function, already squared\n",
    "    eps : double\n",
    "        threshold for epsilon graphs\n",
    "    k : int\n",
    "        The number of neighbours k for k-nn. If zero, use epsilon-graph\n",
    "\n",
    "    Returns\n",
    "    -------\n",
    "        W: (n x n) dimensional matrix representing the weight matrix of the graph\n",
    "    \"\"\"\n",
    "    n = X.shape[0]\n",
    "    W = np.zeros((n, n))\n",
    "\n",
    "    \"\"\"\n",
    "    Build similarity graph, before threshold or kNN\n",
    "    similarities: (n x n) matrix with similarities between all possible couples of points.\n",
    "    The similarity function is d(x,y)=exp(-||x-y||^2/(2*var))\n",
    "    \"\"\"\n",
    "  \n",
    "    similarities = np.zeros((n, n))\n",
    "\n",
    "    # If epsilon graph\n",
    "    if k == 0:\n",
    "        \"\"\"\n",
    "        compute an epsilon graph from the similarities             \n",
    "        for each node x_i, an epsilon graph has weights             \n",
    "        w_ij = d(x_i,x_j) when w_ij >= eps, and 0 otherwise          \n",
    "        \"\"\"\n",
    "        pass\n",
    "\n",
    "    # If kNN graph\n",
    "    elif k != 0:\n",
    "        \"\"\"\n",
    "        compute a k-nn graph from the similarities                   \n",
    "        for each node x_i, a k-nn graph has weights                  \n",
    "        w_ij = d(x_i,x_j) for the k closest nodes to x_i, and 0     \n",
    "        for all the k-n remaining nodes                              \n",
    "        Remember to remove self similarity and                       \n",
    "        make the graph undirected                                    \n",
    "        \"\"\"\n",
    "        pass\n",
    "\n",
    "\n",
    "    return W\n"
   ]
  },
  {
   "cell_type": "code",
   "execution_count": 4,
   "metadata": {},
   "outputs": [
    {
     "data": {
      "image/png": "[encoded data removed]",
      "text/plain": [
       "<Figure size 432x288 with 2 Axes>"
      ]
     },
     "metadata": {
      "needs_background": "light"
     },
     "output_type": "display_data"
    }
   ],
   "source": [
    "# Example\n",
    "\n",
    "W = build_similarity_graph(X)\n",
    "W[0, 599] = 1    # add two placeholder edges to reproduce example picture\n",
    "W[10, 500] = 1   # \n",
    "\n",
    "\n",
    "plot_graph_matrix(X, Y, W)  # shows the graph and the visualization of W"
   ]
  },
  {
   "cell_type": "markdown",
   "metadata": {},
   "source": [
    "## Computing the Laplacian"
   ]
  },
  {
   "cell_type": "code",
   "execution_count": 5,
   "metadata": {},
   "outputs": [],
   "source": [
    "def build_laplacian(W, laplacian_normalization='unn'):\n",
    "    \"\"\"\n",
    "    Compute graph Laplacian.\n",
    "\n",
    "    Parameters\n",
    "    ----------\n",
    "    W : numpy array\n",
    "        Adjacency matrix (n x n)\n",
    "    laplacian_normalization : str\n",
    "        String selecting which version of the laplacian matrix to construct.\n",
    "            'unn':  unnormalized,\n",
    "            'sym': symmetric normalization\n",
    "            'rw':  random-walk normalization   \n",
    "\n",
    "    Returns\n",
    "    -------\n",
    "    L: (n x n) dimensional matrix representing the Laplacian of the graph\n",
    "    \"\"\"\n",
    "    L = np.zeros(W.shape)\n",
    "    \n",
    "    # for example (unnormalized): L = D - W\n",
    "    return L"
   ]
  },
  {
   "cell_type": "markdown",
   "metadata": {},
   "source": [
    "## Clustering"
   ]
  },
  {
   "cell_type": "code",
   "execution_count": 6,
   "metadata": {},
   "outputs": [],
   "source": [
    "def spectral_clustering(L, chosen_eig_indices=None, num_classes=2):\n",
    "    \"\"\"\n",
    "    Parameters\n",
    "    ----------\n",
    "    L : numpy array\n",
    "        Graph Laplacian (standard or normalized)\n",
    "    choosen_eig_indices : list or None\n",
    "        Indices of eigenvectors to use for clustering. \n",
    "        If None, use adaptive choice of eigenvectors.\n",
    "    num_classes : int \n",
    "        Number of clusters to compute (defaults to 2)\n",
    "\n",
    "\n",
    "    Returns\n",
    "    -------\n",
    "    Y : numpy array (num_samples, )\n",
    "        Cluster assignments\n",
    "    \"\"\"\n",
    "\n",
    "    \"\"\"\n",
    "    Use the function scipy.linalg.eig or the function scipy.sparse.linalg.eigs to compute:\n",
    "    U = (n x n) eigenvector matrix           (sorted)\n",
    "    E = (n x n) eigenvalue diagonal matrix   (sorted)\n",
    "    \"\"\"\n",
    "    E = None\n",
    "    U = None\n",
    "\n",
    "    \"\"\"\n",
    "    compute the clustering assignment from the eigenvectors        \n",
    "    Y = (n x 1) cluster assignments in [0,1,...,num_classes-1]                   \n",
    "    \"\"\"\n",
    "    Y = np.zeros(L.shape[0])\n",
    "    return Y"
   ]
  },
  {
   "cell_type": "code",
   "execution_count": 7,
   "metadata": {},
   "outputs": [
    {
     "data": {
      "image/png": "[encoded data removed]",
      "text/plain": [
       "<Figure size 432x288 with 3 Axes>"
      ]
     },
     "metadata": {
      "needs_background": "light"
     },
     "output_type": "display_data"
    }
   ],
   "source": [
    "# Example\n",
    "\n",
    "num_classes = 2\n",
    "L = build_laplacian(W)\n",
    "Y_rec = spectral_clustering(L, chosen_eig_indices=[1, 2], num_classes=num_classes)\n",
    "\n",
    "# Plot results, comparing to KMeans\n",
    "plot_clustering_result(X, Y, L, Y_rec, KMeans(num_classes).fit_predict(X))"
   ]
  },
  {
   "cell_type": "markdown",
   "metadata": {},
   "source": [
    "## Parameter sensitivity "
   ]
  },
  {
   "cell_type": "code",
   "execution_count": 8,
   "metadata": {},
   "outputs": [],
   "source": [
    "def parameter_sensitivity():\n",
    "    \"\"\"\n",
    "    TO BE COMPLETED.\n",
    "\n",
    "    A function to test spectral clustering sensitivity to parameter choice.\n",
    "    \"\"\"\n",
    "    # the number of samples to generate\n",
    "    num_samples = 500\n",
    "\n",
    "    \"\"\"\n",
    "    Choose parameters\n",
    "    \"\"\"\n",
    "    var = 1.0  # exponential_euclidean's sigma^2\n",
    "    laplacian_normalization = 'unn'\n",
    "    chosen_eig_indices = None\n",
    "\n",
    "    \"\"\"\n",
    "    Choose candidate parameters\n",
    "    \"\"\"\n",
    "    parameter_type = 'eps' # choose between 'k' or 'eps'\n",
    "    parameter_candidate = [1, 2]  # the number of neighbours for the graph (if 'k')\n",
    "                                  # or the epsilon threshold (if 'eps')\n",
    "    parameter_performance = []\n",
    "\n",
    "    for parameter in parameter_candidate:\n",
    "        # Generate data\n",
    "        X, Y = two_moons(num_samples, 1, 0.02)\n",
    "        num_classes = len(np.unique(Y))\n",
    "        \n",
    "        parameter_wrap = {parameter_type: parameter}\n",
    "        \n",
    "        W = build_similarity_graph(X, **parameter_wrap)\n",
    "        L = build_laplacian(W, laplacian_normalization)\n",
    "\n",
    "        Y_rec = spectral_clustering(L, chosen_eig_indices, num_classes)\n",
    "\n",
    "        parameter_performance += [skm.adjusted_rand_score(Y, Y_rec)]\n",
    "\n",
    "    plt.figure()\n",
    "    plt.plot(parameter_candidate, parameter_performance)\n",
    "    plt.title(f'parameter sensitivity ({parameter_type})')\n",
    "    plt.show()"
   ]
  },
  {
   "cell_type": "markdown",
   "metadata": {},
   "source": [
    "## Image segmentation"
   ]
  },
  {
   "cell_type": "code",
   "execution_count": 9,
   "metadata": {},
   "outputs": [],
   "source": [
    "def image_segmentation(input_img='four_elements.bmp'):\n",
    "    \"\"\"\n",
    "    TO BE COMPLETED\n",
    "\n",
    "    Function to perform image segmentation.\n",
    "\n",
    "    :param input_img: name of the image file in /data (e.g. 'four_elements.bmp' or 'fruit_salad.bmp')\n",
    "    \"\"\"\n",
    "    filename = os.path.join('data', input_img)\n",
    "\n",
    "    X = io.imread(filename)\n",
    "    X = (X - np.min(X)) / (np.max(X) - np.min(X))\n",
    "\n",
    "    im_side = np.size(X, 1)\n",
    "    Xr = X.reshape(im_side ** 2, 3)\n",
    "    \"\"\"\n",
    "    Y_rec should contain an index from 0 to c-1 where c is the     \n",
    "     number of segments you want to split the image into          \n",
    "    \"\"\"\n",
    "\n",
    "    \"\"\"\n",
    "    Choose parameters\n",
    "    \"\"\"\n",
    "    var = 1.0\n",
    "    k = 2\n",
    "    laplacian_normalization = 'unn'\n",
    "    chosen_eig_indices = [1]\n",
    "    num_classes = 1\n",
    "\n",
    "    W = build_similarity_graph(Xr, var=var, k=k)\n",
    "    L = build_laplacian(W, laplacian_normalization)\n",
    "    Y_rec = spectral_clustering(L, chosen_eig_indices, num_classes=num_classes)\n",
    "\n",
    "    plt.figure()\n",
    "\n",
    "    plt.subplot(1, 2, 1)\n",
    "    plt.imshow(X)\n",
    "\n",
    "    plt.subplot(1, 2, 2)\n",
    "    Y_rec = Y_rec.reshape(im_side, im_side)\n",
    "    plt.imshow(Y_rec)\n",
    "\n",
    "    plt.show()"
   ]
  },
  {
   "cell_type": "code",
   "execution_count": 10,
   "metadata": {},
   "outputs": [
    {
     "data": {
      "image/png": "[encoded data removed]",
      "text/plain": [
       "<Figure size 432x288 with 2 Axes>"
      ]
     },
     "metadata": {
      "needs_background": "light"
     },
     "output_type": "display_data"
    }
   ],
   "source": [
    "image_segmentation()"
   ]
  },
  {
   "cell_type": "markdown",
   "metadata": {},
   "source": [
    "# Questions"
   ]
  },
  {
   "cell_type": "markdown",
   "metadata": {},
   "source": [
    "### Q1.1: What is the purpose of the option parameter in `worst_case_blob`?"
   ]
  },
  {
   "cell_type": "code",
   "execution_count": null,
   "metadata": {},
   "outputs": [],
   "source": []
  },
  {
   "cell_type": "markdown",
   "metadata": {},
   "source": [
    "### Q1.2: While varying the parameter of `worst_case_blob`, try to select a value of $\\epsilon$ that keeps the graph connected (the function `min_span_tree` can help you). What happens? Can you tell when it is a bad idea to use this approach?"
   ]
  },
  {
   "cell_type": "code",
   "execution_count": null,
   "metadata": {},
   "outputs": [],
   "source": [
    "min_span_tree?"
   ]
  },
  {
   "cell_type": "markdown",
   "metadata": {},
   "source": [
    "### Q1.3: Is it important to build a connected graph? Compare k-NN to $\\epsilon$-graphs with respect to the difficulty of building a connected graph."
   ]
  },
  {
   "cell_type": "code",
   "execution_count": 2,
   "metadata": {},
   "outputs": [],
   "source": []
  },
  {
   "cell_type": "markdown",
   "metadata": {},
   "source": [
    "### Q2.1: Build a graph starting from the data generated in `blobs`, and keep the graph connected. Use `spectral_clustering` to cluster the data. Motivate your choice on which eigenvectors to use and how you computed the clustering assignments from the eigenvectors. Now compute a similar clustering using the built-in k-means and compare the results."
   ]
  },
  {
   "cell_type": "code",
   "execution_count": 14,
   "metadata": {},
   "outputs": [
    {
     "data": {
      "image/png": "[encoded data removed]",
      "text/plain": [
       "<Figure size 432x288 with 1 Axes>"
      ]
     },
     "metadata": {
      "needs_background": "light"
     },
     "output_type": "display_data"
    }
   ],
   "source": [
    "blobs?\n",
    "X, Y = blobs(num_samples=600)\n",
    "plot_clusters(X, Y)"
   ]
  },
  {
   "cell_type": "markdown",
   "metadata": {},
   "source": [
    "### Q2.2: Build a graph starting from the data generated in `blobs`, but this time make it so that the two components are separated. How do you choose which eigenvectors to use in this case? Motivate your answer."
   ]
  },
  {
   "cell_type": "code",
   "execution_count": null,
   "metadata": {},
   "outputs": [],
   "source": []
  },
  {
   "cell_type": "markdown",
   "metadata": {},
   "source": [
    "### Q2.3: In the function spectral_clustering, implement an automatic strategy to choose the eigenvectors to use for clustering, when chosen_eig_indices=None. Explain your strategy. Generate a dataset with 4 blobs and test your function. What happens when the variance of the blobs increase?"
   ]
  },
  {
   "cell_type": "code",
   "execution_count": 16,
   "metadata": {},
   "outputs": [
    {
     "data": {
      "image/png": "[encoded data removed]",
      "text/plain": [
       "<Figure size 432x288 with 1 Axes>"
      ]
     },
     "metadata": {
      "needs_background": "light"
     },
     "output_type": "display_data"
    }
   ],
   "source": [
    "X, Y = blobs(num_samples=600, n_blobs=4, blob_var=0.15)\n",
    "plot_clusters(X, Y)"
   ]
  },
  {
   "cell_type": "markdown",
   "metadata": {},
   "source": [
    "### Q2.4: When you built the cluster assignment, did you use thresholding, k-means or both? Do you have any opinion on when to use each?"
   ]
  },
  {
   "cell_type": "code",
   "execution_count": null,
   "metadata": {},
   "outputs": [],
   "source": []
  },
  {
   "cell_type": "markdown",
   "metadata": {},
   "source": [
    "### Q2.5: Generate `two_moons` data and compare spectral clustering to k-means. Do you notice any difference? Taking into consideration the graph structure, can you explain them?"
   ]
  },
  {
   "cell_type": "code",
   "execution_count": 18,
   "metadata": {},
   "outputs": [
    {
     "data": {
      "image/png": "[encoded data removed]",
      "text/plain": [
       "<Figure size 432x288 with 1 Axes>"
      ]
     },
     "metadata": {
      "needs_background": "light"
     },
     "output_type": "display_data"
    }
   ],
   "source": [
    "two_moons?\n",
    "X, Y = two_moons(num_samples=600)\n",
    "plot_clusters(X, Y)"
   ]
  },
  {
   "cell_type": "markdown",
   "metadata": {},
   "source": [
    "### Q2.6: Generate `point_and_circle` data and compare spectral clustering using the normal Laplacian and the random-walk regularized Laplacian. Do you notice any difference? Taking into consideration the graph structure, can you explain them?"
   ]
  },
  {
   "cell_type": "code",
   "execution_count": 3,
   "metadata": {},
   "outputs": [
    {
     "data": {
      "image/png": "[encoded data removed]",
      "text/plain": [
       "<Figure size 432x288 with 1 Axes>"
      ]
     },
     "metadata": {
      "needs_background": "light"
     },
     "output_type": "display_data"
    }
   ],
   "source": [
    "point_and_circle?\n",
    "X, Y = point_and_circle(num_samples=600)\n",
    "plot_clusters(X, Y)"
   ]
  },
  {
   "cell_type": "markdown",
   "metadata": {},
   "source": [
    "### Q2.7: Using the function parameter_sensitivity, comment on the stability of spectral clustering when varying $\\epsilon$ or k. "
   ]
  },
  {
   "cell_type": "code",
   "execution_count": null,
   "metadata": {},
   "outputs": [],
   "source": []
  },
  {
   "cell_type": "markdown",
   "metadata": {},
   "source": [
    "### Q2.8: If we did not have access to \"true\" labels, how could we evaluate the clustering result (or what should we not use as evaluation)?"
   ]
  },
  {
   "cell_type": "code",
   "execution_count": null,
   "metadata": {},
   "outputs": [],
   "source": []
  },
  {
   "cell_type": "markdown",
   "metadata": {},
   "source": [
    "### Q3.1: Complete all the code necessary, and cluster the `four_elements` and `fruit_salad` images in the data folder and include here some images of the clustering.  Explain your design choices in the overall pipeline (e.g. which graph, which pre-processing...) and how you think they impact the results you are seeing. Report also at least one failure mode for the algorithm."
   ]
  },
  {
   "cell_type": "code",
   "execution_count": null,
   "metadata": {},
   "outputs": [],
   "source": []
  },
  {
   "cell_type": "markdown",
   "metadata": {},
   "source": [
    "### Q3.2: A full graph built between the pixels of a 50 × 50 image corresponds to $50^2$ nodes. Solving the full eigenvalue problem in this case would scale in the order of $2^{34}$ . Even on weak hardware this takes only seconds to minutes. Segmenting a Full HD picture of 1920 × 1080 would scale in the order of $2^{64}$ (about a month on a decent machine). Beyond that, the large picture would require to store in memory a graph over millions of nodes. A full graph on that scale requires about 1TB of memory. Can you think two simple techniques to reduce the computational and occupational cost of Spectral Clustering?"
   ]
  },
  {
   "cell_type": "code",
   "execution_count": null,
   "metadata": {},
   "outputs": [],
   "source": []
  },
  {
   "cell_type": "markdown",
   "metadata": {},
   "source": [
    "### Q3.3: Choose a larger image of your choice, and try to implement some of the scalability modifications to run spectral clustering on it. Report some examples of the results you achieve. "
   ]
  },
  {
   "cell_type": "code",
   "execution_count": null,
   "metadata": {},
   "outputs": [],
   "source": []
  }
 ],
 "metadata": {
  "kernelspec": {
   "display_name": "Python 3",
   "language": "python",
   "name": "python3"
  },
  "language_info": {
   "codemirror_mode": {
    "name": "ipython",
    "version": 3
   },
   "file_extension": ".py",
   "mimetype": "text/x-python",
   "name": "python",
   "nbconvert_exporter": "python",
   "pygments_lexer": "ipython3",
   "version": "3.8.10"
  }
 },
 "nbformat": 4,
 "nbformat_minor": 4
}
