{
 "cells": [
  {
   "cell_type": "markdown",
   "metadata": {
    "id": "uawIz3WTm8Ne"
   },
   "source": [
    "---\n",
    "# <center> Master M2 MVA - Computational Statistics\n",
    "    \n",
    "# <center>  TP 3: Hasting-Metropolis (and Gibbs) samplers\n",
    "    \n",
    "<center> Realized By: Eya Ghamgui\n",
    "<center> eya.ghamgui@telecom-paris.fr\n",
    "    \n",
    "    \n",
    "--- \n",
    "    \n",
    "    \n",
    "    \n",
    "  "
   ]
  },
  {
   "cell_type": "markdown",
   "metadata": {
    "id": "h_Ti50ETm8Nj"
   },
   "source": [
    "## Import Librairies "
   ]
  },
  {
   "cell_type": "code",
   "execution_count": 1,
   "metadata": {
    "id": "8tyEo-dam8Nl"
   },
   "outputs": [],
   "source": [
    "import math\n",
    "import copy\n",
    "import numpy as np\n",
    "import scipy as sp\n",
    "import seaborn as sns \n",
    "from numba import jit\n",
    "import matplotlib.pyplot as plt\n",
    "from scipy import stats, optimize, interpolate\n",
    "sns.set()\n",
    "\n",
    "import warnings\n",
    "warnings.filterwarnings(\"ignore\")"
   ]
  },
  {
   "cell_type": "markdown",
   "metadata": {},
   "source": [
    "## Exercise 1: Hasting-Metropolis within Gibbs – Stochastic Approximation EM"
   ]
  },
  {
   "cell_type": "markdown",
   "metadata": {},
   "source": [
    "### 1.A – A population model for longitudinal data"
   ]
  },
  {
   "cell_type": "markdown",
   "metadata": {},
   "source": [
    "**Question 1**<br><br>\n",
    "\n",
    "<font color = 'red'> \n",
    "Write the complete log-likelihood of the previous model $\\log q(y, z, θ)$ and show that the proposed\n",
    "model belongs to the curved exponential family."
   ]
  },
  {
   "cell_type": "markdown",
   "metadata": {
    "id": "9KPAFQbWm8Np"
   },
   "source": [
    "We have: \n",
    "- $z=(z_{pop},z_i)_{i\\in{[1,N]}}$\n",
    "- $\\theta=(\\overline{t_0}, \\overline{v_0}, \\sigma_{\\xi}, \\sigma_{\\tau}, \\sigma)$\n",
    "\n",
    "$$\\begin{aligned}\n",
    "q(y,z,\\theta)&=q(y|z, \\theta)q(z|\\theta)q(\\theta) \\implies \\boxed{\\log q(y,z,\\theta) = \\log q(y|z, \\theta) + \\log q(z|\\theta) + \\log q(\\theta)} \\\\\n",
    "\\end{aligned}$$\n",
    "\n",
    "With ($c_{i\\in[1,4]}, C$ are constants independent of $\\theta$) :\n",
    "\n",
    "- $q(y|z, \\theta)=\\prod_{i=1}^N\\prod_{j=1}^Kq(y_{i,j}|z,\\theta)\\\\$\n",
    "$\\begin{aligned}\n",
    "y_{i,j} \\stackrel{i.i.d}{\\sim} \\mathcal{N} (d_i(t_{i,j}), \\sigma^2) \\implies & \\log q(y|z, \\theta) = \\sum_{i=1}^N\\sum_{j=1}^K\\log q(y_{i,j}|z,\\theta) \\\\\n",
    "\\implies & \\boxed{\\log q(y|z, \\theta) =    \\sum_{i=1}^N  \\sum_{j=1}^K \\big\\{ - \\frac{1}{2}\\log (\\sigma^2) - \\frac{1}{2\\sigma^2} (y_{i,j}-d_i(t_{i,j}))^2 \\big \\}  + c_1}\n",
    "\\end{aligned}$\n",
    "\n",
    "\n",
    "- $q(z|\\theta)=q(z_{pop}|\\theta)q(z_{i\\in{[1,N]}}|\\theta) = q(z_{pop}|\\theta) \\prod_{i=1}^N q(z_i|\\theta)\\\\$\n",
    " $z_{pop}=(t_0, v_0)$. Here :\n",
    " \n",
    " - $t_0 \\sim \\mathcal{N}(\\overline{t_0}, \\sigma_{t_0}^2)$\n",
    " - $v_0 \\sim \\mathcal{N}(\\overline{v_0}, \\sigma_{v_0}^2)$ \n",
    " \n",
    " $\\implies \\boxed{ \\log q(z_{pop}|\\theta) = - \\displaystyle\\frac{1}{2\\sigma_{t_0}^2}(t_{0}-\\overline{t_0})^2 - \\frac{1}{2\\sigma_{v_0}^2}(v_{0}-\\overline{v_0})^2 + c_2}$\n",
    " \n",
    " $z_i=(\\alpha_i, \\tau_i)$. Here :\n",
    " -  $\\alpha_i = \\exp(\\xi_i)$ and  $\\xi_i \\stackrel{i.i.d}{\\sim} \\mathcal{N}(0, \\sigma_{\\xi}^2)$ $\\implies \\alpha_i \\stackrel{i.i.d}{\\sim} \\text{Log-}\\mathcal{N}(0, \\sigma_{\\xi}^2)$\n",
    " - $\\tau_i \\stackrel{i.i.d}{\\sim} \\mathcal{N}(0, \\sigma_{\\tau}^2)$\n",
    " \n",
    " $\\implies \\boxed{\\log q(z_{i\\in{[1,N]}}|\\theta) =   \\displaystyle\\sum_{i=1}^{N} \\big\\{ - \\log (\\sigma_\\xi  \\sigma_\\tau) - \\frac{1}{2\\sigma_\\xi^2}\\displaystyle \\xi_i^2  -\\frac{1}{2\\sigma_\\tau^2} \\tau_i^2 \\big \\}  + c_3} $\n",
    "\n",
    "\n",
    "- $q(\\theta)$ is the a priori distribution given by :\n",
    " - $\\overline{t_0} \\sim N(\\overline{\\overline{t_0}},s_{t_0}^2)$  \n",
    " - $\\overline{v_0} \\sim N(\\overline{\\overline{v_0}},s_{v_0}^2)$\n",
    " - $\\sigma_{\\xi}^2\\sim W^{-1}(v_{\\xi},m_{\\xi})$ \n",
    " - $\\sigma_{\\tau}^2\\sim W^{-1}(v_{\\tau},m_{\\tau})$\n",
    " - $\\sigma^2 \\sim W^{-1}(v,m) $\n",
    " \n",
    " where $W^{-1}(v,m)$ is the inverse-Wishart distribution: $ f_{W^{-1}}(\\sigma^2)=\\displaystyle\\frac{1}{\\Gamma(\\frac{m}{2})}\\frac{1}{\\sigma^2}\\Big(\\frac{v}{\\sigma \\sqrt{2}}\\Big)^m exp\\Big(-\\frac{v^2}{2 \\sigma^2}\\Big)$\n",
    "\n",
    "  $\\begin{aligned}\n",
    "\\implies log( q(\\theta)) =& -\\frac{1}{2s_{t_0}^2}(\\overline{t_0}-\\overline{\\overline{t_0}})^2 \\\\\n",
    "& -\\frac{1}{2s_{v_0}^2}(\\overline{v_0}-\\overline{\\overline{v_0}})^2 \\\\\n",
    "&+ m_{\\xi}\\log(\\frac{v_{\\xi}}{\\sigma_{\\xi}}) -\\log (\\sigma_\\xi^2) - \\frac{1} {2\\sigma_{\\xi}^2}v_{\\xi}^2  \\\\\n",
    "&+ m_{\\tau}\\log(\\frac{v_{\\tau}}{\\sigma_{\\tau}}) -\\log (\\sigma_\\tau^2) - \\frac{1} {2\\sigma_{\\tau}^2}v_{\\tau}^2  \\\\\n",
    "&+ m\\log(\\frac{v}{\\sigma}) -\\log (\\sigma^2) - \\frac{1} {2\\sigma^2}v^2  + c_4 \\\\\n",
    "\\end{aligned}$\n",
    "\n",
    "\n",
    "\n",
    "Therefore : \n",
    "\n",
    "$$\\begin{aligned}\n",
    "\\log q(y,z,\\theta) = & \\sum_{i=1}^N  \\sum_{j=1}^K \\big\\{ - \\frac{1}{2}\\log (\\sigma^2) - \\frac{1}{2\\sigma^2} (y_{i,j}-d_i(t_{i,j}))^2 \\big \\} \\\\\n",
    "& + \\displaystyle\\sum_{i=1}^{N} \\big\\{ - \\log (\\sigma_\\xi  \\sigma_\\tau) - \\frac{1}{2\\sigma_\\xi^2}\\displaystyle \\xi_i^2  -\\frac{1}{2\\sigma_\\tau^2} \\tau_i^2 \\big \\}\\\\\n",
    "&  - \\frac{1}{2\\sigma_{t_0}^2}(t_{0}-\\overline{t_0})^2 \n",
    "- \\frac{1}{2\\sigma_{v_0}^2}(v_{0}-\\overline{v_0})^2\n",
    "-\\frac{1}{2s_{t_0}^2}(\\overline{t_0}-\\overline{\\overline{t_0}})^2\n",
    " -\\frac{1}{2s_{v_0}^2}(\\overline{v_0}-\\overline{\\overline{v_0}})^2 \\\\\n",
    "& + m_{\\xi}\\log(\\frac{v_{\\xi}}{\\sigma_{\\xi}}) -\\log (\\sigma_\\xi^2) - \\frac{1} {2\\sigma_{\\xi}^2}v_{\\xi}^2  \n",
    "+ m_{\\tau}\\log(\\frac{v_{\\tau}}{\\sigma_{\\tau}}) -\\log (\\sigma_\\tau^2) - \\frac{1} {2\\sigma_{\\tau}^2}v_{\\tau}^2 \n",
    "+ m\\log(\\frac{v}{\\sigma}) -\\log (\\sigma^2) - \\frac{1} {2\\sigma^2}v^2  + C \n",
    "\\end{aligned}$$\n",
    " \n",
    "\n",
    "It follows then that $q(y,z,\\theta)$ belongs to the curved exponential family, i.e. it can be expressed as: <br> <br>\n",
    "$$q(y,z;\\theta) = \\exp [−\\phi(\\theta) + <S(y,z), \\psi(\\theta)>]$$ <br>\n",
    "$$\\log q(y,z;\\theta) = −\\phi(\\theta) + <S(y,z), \\psi(\\theta)>$$ \n",
    "\n",
    "where :\n",
    "- the sufficient statistics are :\n",
    " - $S_1(y,z)= \\displaystyle\\frac{1}{KN}\\sum_{i=1}^N \\sum_{j=1}^K (y_{i,j}-d_i(t_{i,j}))^2$\n",
    " - $S_2(y,z)= \\displaystyle\\frac{1}{N}\\sum_{i=1}^N \\xi_i^2$\n",
    " - $S_3(y,z)= \\displaystyle\\frac{1}{N}\\sum_{i=1}^N \\tau_i^2$\n",
    " - $S_4(y,z)=v_0$\n",
    " - $S_5(y,z)=t_0$ \n",
    " \n",
    " which gives $ <S(y,z),\\psi(\\theta)> = \\displaystyle S_1(y,z) \\cdot \\frac{-KN}{2\\sigma^2} + S_2(y,z) \\cdot \\frac{-N}{2\\sigma^2_{\\xi}} + S_3(y,z) \\cdot \\frac{-N}{2\\sigma^2_{\\tau}} + S_4(y,z) \\cdot \\frac{\\overline{v_0}}{\\sigma^2_{v_0}}+ S_5(y,z) \\cdot \\frac{\\overline{t_0}}{\\sigma^2_{t_0}} $\n",
    " \n",
    " $\\psi(\\theta) = \n",
    "  \\begin{bmatrix}\n",
    "  \\displaystyle\\frac{-KN}{2\\sigma^2} \\\\\\\\\n",
    "  \\displaystyle\\frac{-N}{2\\sigma^2_{\\xi}} \\\\\\\\ \n",
    "  \\displaystyle\\frac{-N}{2\\sigma^2_{\\tau}} \\\\\\\\ \n",
    "  \\displaystyle\\frac{\\overline{v_0}}{\\sigma^2_{v_0}} \\\\\\\\\n",
    "  \\displaystyle\\frac{\\overline{t_0}}{\\sigma^2_{t_0}} \\\\\\\\\n",
    "  \\end{bmatrix}$<br><br>\n",
    "  \n",
    "- the remaining terms belong to $\\phi(\\theta)$.\n",
    "\n",
    "  $\\phi(\\theta) = \n",
    "  \\begin{bmatrix}\n",
    "  (NK+m+2)\\log \\sigma \\\\\\\\\n",
    "  (N+m_\\xi+2)\\log \\sigma_\\xi \\\\\\\\\n",
    "  (N+m_\\tau+2)\\log \\sigma_\\tau \\\\\\\\ \n",
    "  \\overline{v_0}^2(\\displaystyle\\frac{1}{2\\sigma_{v_0}^2} + \\frac{1}{2s_{v_0}^2}) - \\frac{\\overline{v_0}\\cdot\\overline{\\overline{v_0}}}{s_{v_0}^2} \\\\\\\\\n",
    "  \\overline{t_0}^2(\\displaystyle\\frac{1}{2\\sigma_{t_0}^2} + \\frac{1}{2s_{t_0}^2}) - \\frac{\\overline{t_0}\\cdot\\overline{\\overline{t_0}}}{s_{t_0}^2} \\\\\\\\\n",
    "  \\end{bmatrix}$"
   ]
  },
  {
   "cell_type": "markdown",
   "metadata": {
    "id": "5N363Ftzm8Nv"
   },
   "source": [
    "**Question 2** <br><br>\n",
    "\n",
    "<font color ='red'> \n",
    "Generate synthetic data from the model by taking some reasonable values for the parameters."
   ]
  },
  {
   "cell_type": "code",
   "execution_count": 2,
   "metadata": {
    "id": "1WoPSCvRm8Nw"
   },
   "outputs": [],
   "source": [
    "# Fixed parameters\n",
    "FIXED_PARAMS = {\n",
    "    \"sigma_p0\": 2,\n",
    "    \"sigma_t0\": 1,\n",
    "    \"sigma_v0\": 1,\n",
    "    \"p0\": 10,\n",
    "}\n",
    "\n",
    "# To estimate\n",
    "TARGET_PARAMS = {\n",
    "    \"mean_t0\": 0,\n",
    "    \"mean_v0\": 1,\n",
    "    \"sigma_xi\": 0.1,\n",
    "    \"sigma_tau\": 0.1,\n",
    "    \"sigma\": 0.1 ,\n",
    "}"
   ]
  },
  {
   "cell_type": "code",
   "execution_count": 3,
   "metadata": {},
   "outputs": [],
   "source": [
    "# Trajectory\n",
    "def d(t, p0, v0, t0):\n",
    "    return p0 + v0 * (t - t0)"
   ]
  },
  {
   "cell_type": "code",
   "execution_count": 4,
   "metadata": {
    "colab": {
     "base_uri": "https://localhost:8080/",
     "height": 431
    },
    "id": "2mP6oda_m8Nx",
    "outputId": "22b26029-bf46-40d4-dc8b-00382782402a"
   },
   "outputs": [
    {
     "data": {
      "image/png": "[encoded data removed]",
      "text/plain": [
       "<Figure size 720x504 with 1 Axes>"
      ]
     },
     "metadata": {},
     "output_type": "display_data"
    }
   ],
   "source": [
    "# Generate synthetic data\n",
    "\n",
    "N = 10  # number of individuals\n",
    "K = 1000  # number of measurements\n",
    "y = np.zeros((N,K))\n",
    "\n",
    "t0 = np.random.normal(\n",
    "    loc=TARGET_PARAMS[\"mean_t0\"], scale=FIXED_PARAMS[\"sigma_t0\"], size=1)\n",
    "\n",
    "v0 = np.random.normal(\n",
    "    loc=TARGET_PARAMS[\"mean_v0\"], scale=FIXED_PARAMS[\"sigma_v0\"], size=1)\n",
    "\n",
    "p0 = FIXED_PARAMS[\"p0\"]\n",
    "\n",
    "ksi = np.random.normal(scale=TARGET_PARAMS[\"sigma_xi\"], size=N)\n",
    "alpha = np.exp(ksi)\n",
    "\n",
    "tau = np.random.normal(scale=TARGET_PARAMS[\"sigma_tau\"], size=N)\n",
    "\n",
    "for i in range(K):\n",
    "    t = alpha * (i - t0 - tau)\n",
    "    eps = np.random.normal(scale=TARGET_PARAMS[\"sigma\"], size = N)\n",
    "    y[:,i] = d(t + t0, p0, v0, t0) + eps\n",
    "    \n",
    "plt.figure(figsize=(10,7))\n",
    "for i in range(5):\n",
    "    plt.plot(np.arange(K), y[i,:] , label = '$y$'+str(i))\n",
    "\n",
    "plt.title('Generated Data')\n",
    "plt.legend()\n",
    "plt.show()"
   ]
  },
  {
   "cell_type": "markdown",
   "metadata": {},
   "source": [
    "### 1.B – HM-SAEM – Hasting-Metropolis sample"
   ]
  },
  {
   "cell_type": "markdown",
   "metadata": {
    "id": "74UiVfzHm8Nz"
   },
   "source": [
    "**Question 3** <br><br>\n",
    "\n",
    "<font color ='red'> \n",
    "Propose a Metropolis-Hastings sampler to sample from the a posteriori distribution of the latent\n",
    "variable $z = (z_{pop}, z_i)_{i \\in [1,N]} = (t_0, v_0, \\xi_i, \\tau_i)_{i \\in [1,N]} \\in \\mathbb{R}^{2N + 2}$.\n",
    "<br><br>\n",
    "    \n",
    "<font color ='black'>     \n",
    "For the proposal distribution, we consider a multivariate gaussian distribution $\\mathcal{N}(z, \\sigma_{prop})$ with $z$ being : $z= (z_{pop}, z_i)_{i\\in [1, N]}= (t_0, v_0, \\xi_i, \\tau_i)_{i\\in [1, N]} \\in \\mathbb{R}^{2N+2}$ \n",
    "    \n",
    "<br>\n",
    "    \n",
    "<span style=\"color:blue\"> Reference for this question : https://moonbooks.org/Articles/Lalgorithme-de-Metropolis-Hastings-MCMC-avec-python/ </span>"
   ]
  },
  {
   "cell_type": "code",
   "execution_count": 5,
   "metadata": {
    "id": "YXWAvJyDm8N0"
   },
   "outputs": [],
   "source": [
    "def log_posterior(y, z, p0, t0, t, mean_t0, mean_v0, sigma_t0, sigma_v0, sigma_xi_proposal, sigma_tau_proposal):\n",
    "    \n",
    "    t0, v0 = z[0:2]\n",
    "    xi = z[2:N+2].reshape(-1, 1)  # (N, 1)\n",
    "    tau = z[N+2:].reshape(-1, 1)  # (N, 1)\n",
    "    \n",
    "    ti = np.exp(xi) * (t - t0 - tau)  # (N, K)\n",
    "    dz = np.sum((y - d(ti + t0, p0, v0, t0)) **2)\n",
    "    \n",
    "    pz = (  np.sum(xi ** 2) / (2 * sigma_xi_proposal **  2)\n",
    "            + np.sum(tau ** 2) / (2 * sigma_tau_proposal ** 2)\n",
    "            + (t0 - mean_t0) ** 2 / (2 * sigma_t0 ** 2)\n",
    "            + (v0 - mean_v0) ** 2 / (2 * sigma_v0 ** 2))\n",
    "    \n",
    "    return dz, pz\n",
    "\n",
    "\n",
    "def SRWHM(y, z,p0,mean_t0,mean_v0,sigma_t0,sigma_v0, sigma_xi,sigma_tau,sigma_xi_proposal,sigma_tau_proposal,N,maxiter=10000):\n",
    "\n",
    "    # proposal distribution : a multivariate gaussian\n",
    "    mean_prop = [mean_t0, mean_v0] + (2 * N) * [0]\n",
    "    cov_prop = [sigma_t0, sigma_v0] + [sigma_xi_proposal] * N +  [sigma_tau_proposal] * N\n",
    "    cov_prop = cov_prop = 0.005 * np.eye(2 * N + 2) * cov_prop\n",
    "    \n",
    "    # sample an initial state z0\n",
    "    z_list = [z]\n",
    "    t = np.arange(K).reshape(1, -1)  # (1, K)\n",
    "    \n",
    "    for k in range(maxiter):\n",
    "\n",
    "        ################\n",
    "        # proposal\n",
    "        ################\n",
    "        # zk = (t0, v0, alpha_i, tau_i,..)\n",
    "        # alpha_i : at even positions, starting from position 2\n",
    "        # tau_i : at odd positions, starting from position 2\n",
    "        zk = np.random.multivariate_normal(mean=z, cov=cov_prop)\n",
    "        \n",
    "        # proposed state - log proba\n",
    "        dk, pk = log_posterior(y, zk, p0, t0, t, mean_t0, mean_v0, sigma_t0, sigma_v0, sigma_xi_proposal, sigma_tau_proposal)\n",
    "\n",
    "        # current state - log proba\n",
    "        d_cur, p_cur = log_posterior(y, z, p0, t0, t, mean_t0, mean_v0, sigma_t0, sigma_v0, sigma_xi_proposal, sigma_tau_proposal)\n",
    "\n",
    "        # acceptance-rejection\n",
    "        log_alpha = min(0, dk + pk - d_cur - p_cur)\n",
    "        log_uk = np.log(np.random.rand())\n",
    "        \n",
    "        if log_uk - log_alpha < 0:\n",
    "            z = zk.copy()\n",
    "        z_list.append(z)\n",
    "\n",
    "    return z_list"
   ]
  },
  {
   "cell_type": "code",
   "execution_count": 7,
   "metadata": {
    "colab": {
     "base_uri": "https://localhost:8080/",
     "height": 894
    },
    "id": "imDRMVT4m8N5",
    "outputId": "0e3ce519-2cb7-4954-f1a2-78cded56ba7a",
    "scrolled": true
   },
   "outputs": [
    {
     "name": "stdout",
     "output_type": "stream",
     "text": [
      "Initialization of t_0:  0.3026699668206213\n",
      "Target mean_t0 (to estimate):  0\n"
     ]
    },
    {
     "data": {
      "image/png": "[encoded data removed]",
      "text/plain": [
       "<Figure size 720x504 with 1 Axes>"
      ]
     },
     "metadata": {},
     "output_type": "display_data"
    },
    {
     "data": {
      "image/png": "[encoded data removed]",
      "text/plain": [
       "<Figure size 720x504 with 1 Axes>"
      ]
     },
     "metadata": {},
     "output_type": "display_data"
    }
   ],
   "source": [
    "# check the SRWHM for the t0 distribution\n",
    "z = np.random.random(2 * N + 2)\n",
    "\n",
    "# Fix some parameters\n",
    "sigma_xi_sim = 0.1\n",
    "sigma_tau_sim = 0.1\n",
    "sigma_xi_proposal = 0.1\n",
    "sigma_tau_proposal = 0.1\n",
    "mean_t0_sim = 0\n",
    "mean_v0_sim = 1\n",
    "\n",
    "# Estimate the parameters \n",
    "z_list = SRWHM(\n",
    "    y,\n",
    "    z,\n",
    "    FIXED_PARAMS[\"p0\"],\n",
    "    mean_t0_sim,\n",
    "    mean_v0_sim,\n",
    "    FIXED_PARAMS[\"sigma_t0\"],\n",
    "    FIXED_PARAMS[\"sigma_v0\"],\n",
    "    sigma_xi_sim,\n",
    "    sigma_tau_sim,\n",
    "    sigma_xi_proposal,\n",
    "    sigma_tau_proposal,\n",
    "    N,\n",
    ")\n",
    "\n",
    "t0_list = [z_list[i][0] for i in range(len(z_list))]\n",
    "mean_t0 = TARGET_PARAMS[\"mean_t0\"]\n",
    "sigma_t0 = FIXED_PARAMS[\"sigma_t0\"]\n",
    "\n",
    "print(\"Initialization of t_0: \", t0_list[0])\n",
    "print(\"Target mean_t0 (to estimate): \", mean_t0)\n",
    "\n",
    "min_t0 = min(t0_list)\n",
    "max_t0 = max(t0_list)\n",
    "\n",
    "x_array = np.linspace(min_t0, max_t0, 100)\n",
    "y_array = np.asarray([stats.norm.pdf(x, loc=mean_t0, scale=sigma_t0) for x in x_array])\n",
    "\n",
    "######################\n",
    "\n",
    "plt.figure(figsize=(10,7))\n",
    "plt.plot(t0_list)\n",
    "plt.title(\"MH - Trace for mean_t0\")\n",
    "plt.show()\n",
    "\n",
    "plt.figure(figsize=(10,7))\n",
    "plt.plot(x_array, y_array, label=\"Posterior\")\n",
    "plt.hist(t0_list, bins=30, density=True, stacked=True, label=\"Posterior approximation (MH)\")\n",
    "plt.title(\"MH - mean_t0\")\n",
    "plt.legend()\n",
    "plt.show()"
   ]
  },
  {
   "cell_type": "markdown",
   "metadata": {},
   "source": [
    "**Interpretation:** \n",
    "\n",
    "From the previous result, we can say that the MH converges to values of $t_0$ hallucinating around the real $\\overline{t_0}$. Moreover, the posterior approximation of the distribution of $t_0$ is close to the original distribution of $t_0$, which can be seen from the previous histogram. "
   ]
  },
  {
   "cell_type": "markdown",
   "metadata": {
    "id": "VjCoFGG0m8N7"
   },
   "source": [
    "**Question 4**<br><br>\n",
    "\n",
    "<font color ='red'> \n",
    "Compute the optimal parameters\n",
    "$$ \\theta^{(k)} = \\underset{\\theta \\in \\Theta}{argmax} \\{ - \\Phi (\\theta) + < S_k | \\Psi(\\theta) >  \\}$$ <br>\n",
    "    \n",
    "and implement the HM-SAEM in order to find the MAP. In particular, we assume that the MAP\n",
    "exists. Use the question 2 to check your algorithm.\n",
    "<br> \n",
    "For step-sizes $ \\epsilon_k$ we can choose a parameter $N_b$ – burn-in parameter – and define\n",
    "\n",
    "$$ \\forall k \\in \\mathbb{N} \n",
    "\\left\\{\n",
    "\\begin{array}{ll}\n",
    "1 & \\text{if } ~~ k \\in [1,N_b] \\\\ \n",
    "(k - N_b)^{-\\alpha} & \\text{otherwise} \n",
    "\\end{array}\n",
    "\\right.\n",
    "$$\n",
    "    \n",
    "where $\\alpha \\in [\\frac{1}{2} , 1[ $ is necessary to ensure the convergence of the MCMC-SAEM."
   ]
  },
  {
   "cell_type": "markdown",
   "metadata": {},
   "source": [
    "We have $$q(y,z;\\theta) = \\exp [−\\phi(\\theta) + <S(y,z), \\psi(\\theta)>]$$ where :\n",
    "\n",
    " $$ \\psi(\\theta) = \n",
    "  \\begin{bmatrix}\n",
    "  \\displaystyle\\frac{-KN}{2\\sigma^2} \\\\\\\\\n",
    "  \\displaystyle\\frac{-N}{2\\sigma^2_{\\xi}} \\\\\\\\ \n",
    "  \\displaystyle\\frac{-N}{2\\sigma^2_{\\tau}} \\\\\\\\ \n",
    "  \\displaystyle\\frac{\\overline{v_0}}{\\sigma^2_{v_0}} \\\\\\\\\n",
    "  \\displaystyle\\frac{\\overline{t_0}}{\\sigma^2_{t_0}} \\\\\\\\\n",
    "  \\end{bmatrix}  \n",
    "  \\text{,} \\quad \\Phi(\\theta) = \n",
    "  \\begin{bmatrix}\n",
    "  (NK+m+2)\\log \\sigma \\\\\\\\\n",
    "  (N+m_\\xi+2)\\log \\sigma_\\xi \\\\\\\\\n",
    "  (N+m_\\tau+2)\\log \\sigma_\\tau \\\\\\\\ \n",
    "  \\overline{v_0}^2(\\displaystyle\\frac{1}{2\\sigma_{v_0}^2} + \\frac{1}{2s_{v_0}^2}) - \\frac{\\overline{v_0}\\cdot\\overline{\\overline{v_0}}}{s_{v_0}^2} \\\\\\\\\n",
    "  \\overline{t_0}^2(\\displaystyle\\frac{1}{2\\sigma_{t_0}^2} + \\frac{1}{2s_{t_0}^2}) - \\frac{\\overline{t_0}\\cdot\\overline{\\overline{t_0}}}{s_{t_0}^2} \\\\\\\\\n",
    "  \\end{bmatrix}$$\n",
    "\n",
    "$$\\theta^k = \\text{argmax}_\\theta \\{-\\phi(\\theta) + <S^k, \\psi(\\theta)>\\}$$\n",
    "  \n",
    "Let's denote $f_k(\\theta)=-\\phi(\\theta) + <S^k, \\psi(\\theta)>$ at iteration k. The MAP estimator corresponds to $\\theta^k$ for which $\\nabla_\\theta f_k(\\theta^k)= 0$\n",
    "\n",
    "$\\begin{aligned}\n",
    "\\nabla_\\theta f_k(\\theta) &= - \\nabla_\\theta \\phi(\\theta) + <S^k, \\nabla_\\theta \\psi(\\theta)>\\\\\n",
    "&= - \\begin{bmatrix}\n",
    "  (NK+m+2)\\displaystyle\\frac{1}{\\sigma} \\\\\n",
    "  (N+m_\\xi+2)\\displaystyle\\frac{1}{\\sigma_\\xi} \\\\\n",
    "  (N+m_\\tau+2)\\displaystyle\\frac{1}{\\sigma_\\tau} \\\\\n",
    "  \\overline{v_0}(\\displaystyle\\frac{1}{\\sigma_{v_0}^2} + \\frac{1}{s_{v_0}^2}) - \\frac{\\overline{\\overline{v_0}}}{s_{v_0}^2} \\\\\n",
    "  \\overline{t_0}(\\displaystyle\\frac{1}{\\sigma_{t_0}^2} + \\frac{1}{s_{t_0}^2}) - \\frac{\\overline{\\overline{t_0}}}{s_{t_0}^2} \\\\\n",
    "  \\end{bmatrix} + \n",
    "  <S^k, \\begin{bmatrix}\n",
    "  \\displaystyle\\frac{KN}{\\sigma^3} \\\\\n",
    "  \\displaystyle\\frac{N}{\\sigma^3_{\\xi}} \\\\\n",
    "  \\displaystyle\\frac{N}{\\sigma^3_{\\tau}} \\\\\n",
    "  \\displaystyle\\frac{1}{\\sigma^2_{v_0}} \\\\\n",
    "  \\displaystyle\\frac{1}{\\sigma^2_{t_0}} \\\\\n",
    "  \\end{bmatrix}>\n",
    "\\end{aligned}$\n",
    "\n",
    "$\\nabla_\\theta f_k(\\theta^k)= 0 \\implies \\theta^k= \\begin{bmatrix}\n",
    "  \\big(\\displaystyle\\frac{S_5^k}{\\sigma^2_{t_0}} +  \\frac{\\overline{\\overline{t_0}}}{s_{t_0}^2}\\big)\\big(\\displaystyle\\frac{1}{\\sigma_{t_0}^2} + \\frac{1}{s_{t_0}^2}\\big)^{-1}\\\\\n",
    "  \\big(\\displaystyle\\frac{S_4^k}{\\sigma^2_{v_0}} + \\frac{\\overline{\\overline{v_0}}}{s_{v_0}^2} \\big) \\big(\\displaystyle\\frac{1}{\\sigma_{v_0}^2} + \\frac{1}{s_{v_0}^2}\\big)^{-1} \\\\\n",
    "  \\displaystyle\\sqrt{\\frac{N S_2^k}{N+m_\\xi+2}} \\\\\n",
    "  \\displaystyle\\sqrt{\\frac{N S_3^k}{N+m_\\tau+2}} \\\\\n",
    "  \\displaystyle\\sqrt{\\frac{KN S_1^k}{NK+m+2}} \\\\\n",
    "  \\end{bmatrix}$"
   ]
  },
  {
   "cell_type": "code",
   "execution_count": 8,
   "metadata": {},
   "outputs": [],
   "source": [
    "def update(S,sigma_t0, sigma_v0, mean_mean_t0, mean_mean_v0, st0 , sv0, m_xi , m_tau , m):\n",
    "    \n",
    "    t0 = (S[4] / sigma_t0**2) + (mean_mean_t0 / st0**2) / (1/sigma_t0**2 + 1/st0**2)\n",
    "    v0 = (S[3] / sigma_v0**2) + (mean_mean_v0 / sv0**2) / (1/sigma_v0**2 + 1/sv0**2)\n",
    "    sigma_xi = np.sqrt((N*S[1])/(N + m_xi + 2))\n",
    "    sigma_tau = np.sqrt((N*S[2])/(N + m_tau + 2))\n",
    "    sigma = np.sqrt(K*N*S[0] / (N*K + m + 2))\n",
    "    \n",
    "    return [t0, v0, sigma_xi, sigma_tau, sigma]\n",
    "\n",
    "\n",
    "def S_fct(y,z):\n",
    "    \n",
    "    eps = np.exp(z[2:N+2])**2\n",
    "    S1 = np.sum(eps)/(N*K)\n",
    "    S2 = np.sum(np.array(z[2:N+2]))/N\n",
    "    S3 = np.sum(np.array(z[N+3:]))/N\n",
    "\n",
    "    return np.array([S1, S2, S3, z[1], z[0]])"
   ]
  },
  {
   "cell_type": "code",
   "execution_count": 9,
   "metadata": {
    "id": "4TWAmT-Sm8N8"
   },
   "outputs": [],
   "source": [
    "def HMSAEM(y, nb=20, alpha=0.5, maxiter=1000):\n",
    "\n",
    "    S = np.array([0] * 5)\n",
    "    z = (2 * N + 2) * [0]    \n",
    "    \n",
    "    mean_t0 = np.random.random()\n",
    "    mean_v0 = np.random.random()\n",
    "    \n",
    "    sigma_t0 = np.random.random()\n",
    "    sigma_v0 = np.random.random()\n",
    "    \n",
    "    \n",
    "    sigma_xi = TARGET_PARAMS[\"sigma_xi\"]\n",
    "    sigma_tau = TARGET_PARAMS[\"sigma_tau\"]\n",
    "        \n",
    "    st0 = APRIORI_PARAMS[\"s_t0\"]\n",
    "    sv0 = APRIORI_PARAMS[\"s_v0\"]\n",
    "    \n",
    "    m_xi = APRIORI_PARAMS[\"m_xi\"]\n",
    "    m_tau = APRIORI_PARAMS[\"m_tau\"]\n",
    "    m = APRIORI_PARAMS[\"m\"]\n",
    "    \n",
    "    m_mean_t0 = APRIORI_PARAMS[\"m_mean_t0\"]\n",
    "    m_mean_v0 = APRIORI_PARAMS[\"m_mean_v0\"]\n",
    "    \n",
    "    sigma_xi_proposal = 0.1\n",
    "    sigma_tau_proposal = 0.1\n",
    "\n",
    "    for k in range(maxiter):\n",
    "        \n",
    "        if k <= nb:\n",
    "            step_size = 1\n",
    "        else:\n",
    "            step_size = (k-nb)**(-alpha)\n",
    "                   \n",
    "        # simulation\n",
    "        z = SRWHM(\n",
    "                y,\n",
    "                np.array(z),\n",
    "                FIXED_PARAMS[\"p0\"],\n",
    "                mean_t0,\n",
    "                mean_v0,\n",
    "                FIXED_PARAMS[\"sigma_t0\"],\n",
    "                FIXED_PARAMS[\"sigma_v0\"],\n",
    "                sigma_xi,\n",
    "                sigma_tau,\n",
    "                sigma_xi_proposal,\n",
    "                sigma_tau_proposal,\n",
    "                N )\n",
    "        \n",
    "        z = z[-1]\n",
    "        # stochastic approximation\n",
    "        S = S + step_size * (S_fct(y,z) - S) \n",
    "\n",
    "        # maximization\n",
    "        theta = update(S, sigma_t0, sigma_v0, m_mean_t0, m_mean_v0, st0 , sv0, m_xi , m_tau , m )\n",
    "        \n",
    "    return theta"
   ]
  },
  {
   "cell_type": "code",
   "execution_count": 10,
   "metadata": {
    "collapsed": true
   },
   "outputs": [
    {
     "ename": "KeyboardInterrupt",
     "evalue": "",
     "output_type": "error",
     "traceback": [
      "\u001b[1;31m---------------------------------------------------------------------------\u001b[0m",
      "\u001b[1;31mKeyboardInterrupt\u001b[0m                         Traceback (most recent call last)",
      "\u001b[1;32m<ipython-input-10-e434deb839b7>\u001b[0m in \u001b[0;36m<module>\u001b[1;34m\u001b[0m\n\u001b[1;32m----> 1\u001b[1;33m \u001b[0mtheta\u001b[0m \u001b[1;33m=\u001b[0m \u001b[0mHMSAEM\u001b[0m\u001b[1;33m(\u001b[0m\u001b[0my\u001b[0m\u001b[1;33m,\u001b[0m \u001b[0mnb\u001b[0m\u001b[1;33m=\u001b[0m\u001b[1;36m20\u001b[0m\u001b[1;33m,\u001b[0m \u001b[0malpha\u001b[0m\u001b[1;33m=\u001b[0m\u001b[1;36m0.5\u001b[0m\u001b[1;33m,\u001b[0m \u001b[0mmaxiter\u001b[0m\u001b[1;33m=\u001b[0m\u001b[1;36m1000\u001b[0m\u001b[1;33m)\u001b[0m\u001b[1;33m\u001b[0m\u001b[1;33m\u001b[0m\u001b[0m\n\u001b[0m\u001b[0;32m      2\u001b[0m \u001b[0mprint\u001b[0m\u001b[1;33m(\u001b[0m\u001b[0mtheta\u001b[0m\u001b[1;33m)\u001b[0m\u001b[1;33m\u001b[0m\u001b[1;33m\u001b[0m\u001b[0m\n",
      "\u001b[1;32m<ipython-input-9-d23aaed9f07d>\u001b[0m in \u001b[0;36mHMSAEM\u001b[1;34m(y, nb, alpha, maxiter)\u001b[0m\n\u001b[0;32m     35\u001b[0m \u001b[1;33m\u001b[0m\u001b[0m\n\u001b[0;32m     36\u001b[0m         \u001b[1;31m# simulation\u001b[0m\u001b[1;33m\u001b[0m\u001b[1;33m\u001b[0m\u001b[1;33m\u001b[0m\u001b[0m\n\u001b[1;32m---> 37\u001b[1;33m         z = SRWHM(\n\u001b[0m\u001b[0;32m     38\u001b[0m                 \u001b[0my\u001b[0m\u001b[1;33m,\u001b[0m\u001b[1;33m\u001b[0m\u001b[1;33m\u001b[0m\u001b[0m\n\u001b[0;32m     39\u001b[0m                 \u001b[0mnp\u001b[0m\u001b[1;33m.\u001b[0m\u001b[0marray\u001b[0m\u001b[1;33m(\u001b[0m\u001b[0mz\u001b[0m\u001b[1;33m)\u001b[0m\u001b[1;33m,\u001b[0m\u001b[1;33m\u001b[0m\u001b[1;33m\u001b[0m\u001b[0m\n",
      "\u001b[1;32m<ipython-input-5-997159c47ed8>\u001b[0m in \u001b[0;36mSRWHM\u001b[1;34m(y, z, p0, mean_t0, mean_v0, sigma_t0, sigma_v0, sigma_xi, sigma_tau, sigma_xi_proposal, sigma_tau_proposal, N, maxiter)\u001b[0m\n\u001b[0;32m     54\u001b[0m         \u001b[0mzk\u001b[0m \u001b[1;33m=\u001b[0m \u001b[0mnp\u001b[0m\u001b[1;33m.\u001b[0m\u001b[0mrandom\u001b[0m\u001b[1;33m.\u001b[0m\u001b[0mmultivariate_normal\u001b[0m\u001b[1;33m(\u001b[0m\u001b[0mmean\u001b[0m\u001b[1;33m=\u001b[0m\u001b[0mz\u001b[0m\u001b[1;33m,\u001b[0m \u001b[0mcov\u001b[0m\u001b[1;33m=\u001b[0m\u001b[0mcov_prop\u001b[0m\u001b[1;33m)\u001b[0m\u001b[1;33m\u001b[0m\u001b[1;33m\u001b[0m\u001b[0m\n\u001b[0;32m     55\u001b[0m         \u001b[1;31m# proposed state - log proba\u001b[0m\u001b[1;33m\u001b[0m\u001b[1;33m\u001b[0m\u001b[1;33m\u001b[0m\u001b[0m\n\u001b[1;32m---> 56\u001b[1;33m         \u001b[0mdk\u001b[0m\u001b[1;33m,\u001b[0m \u001b[0mpk\u001b[0m \u001b[1;33m=\u001b[0m \u001b[0mlog_posterior\u001b[0m\u001b[1;33m(\u001b[0m\u001b[0my\u001b[0m\u001b[1;33m,\u001b[0m \u001b[0mzk\u001b[0m\u001b[1;33m,\u001b[0m \u001b[0mp0\u001b[0m\u001b[1;33m,\u001b[0m \u001b[0mt0\u001b[0m\u001b[1;33m,\u001b[0m \u001b[0mt\u001b[0m\u001b[1;33m,\u001b[0m \u001b[0mmean_t0\u001b[0m\u001b[1;33m,\u001b[0m \u001b[0mmean_v0\u001b[0m\u001b[1;33m,\u001b[0m \u001b[0msigma_t0\u001b[0m\u001b[1;33m,\u001b[0m \u001b[0msigma_v0\u001b[0m\u001b[1;33m,\u001b[0m \u001b[0msigma_xi_proposal\u001b[0m\u001b[1;33m,\u001b[0m \u001b[0msigma_tau_proposal\u001b[0m\u001b[1;33m)\u001b[0m\u001b[1;33m\u001b[0m\u001b[1;33m\u001b[0m\u001b[0m\n\u001b[0m\u001b[0;32m     57\u001b[0m \u001b[1;33m\u001b[0m\u001b[0m\n\u001b[0;32m     58\u001b[0m         \u001b[1;31m# current state - log proba\u001b[0m\u001b[1;33m\u001b[0m\u001b[1;33m\u001b[0m\u001b[1;33m\u001b[0m\u001b[0m\n",
      "\u001b[1;32m<ipython-input-5-997159c47ed8>\u001b[0m in \u001b[0;36mlog_posterior\u001b[1;34m(y, z, p0, t0, t, mean_t0, mean_v0, sigma_t0, sigma_v0, sigma_xi_proposal, sigma_tau_proposal)\u001b[0m\n\u001b[0;32m      6\u001b[0m \u001b[1;33m\u001b[0m\u001b[0m\n\u001b[0;32m      7\u001b[0m     \u001b[0mti\u001b[0m \u001b[1;33m=\u001b[0m \u001b[0mnp\u001b[0m\u001b[1;33m.\u001b[0m\u001b[0mexp\u001b[0m\u001b[1;33m(\u001b[0m\u001b[0mxi\u001b[0m\u001b[1;33m)\u001b[0m \u001b[1;33m*\u001b[0m \u001b[1;33m(\u001b[0m\u001b[0mt\u001b[0m \u001b[1;33m-\u001b[0m \u001b[0mt0\u001b[0m \u001b[1;33m-\u001b[0m \u001b[0mtau\u001b[0m\u001b[1;33m)\u001b[0m  \u001b[1;31m# (N, K)\u001b[0m\u001b[1;33m\u001b[0m\u001b[1;33m\u001b[0m\u001b[0m\n\u001b[1;32m----> 8\u001b[1;33m     \u001b[0mdz\u001b[0m \u001b[1;33m=\u001b[0m \u001b[0mnp\u001b[0m\u001b[1;33m.\u001b[0m\u001b[0msum\u001b[0m\u001b[1;33m(\u001b[0m\u001b[1;33m(\u001b[0m\u001b[0my\u001b[0m \u001b[1;33m-\u001b[0m \u001b[0md\u001b[0m\u001b[1;33m(\u001b[0m\u001b[0mti\u001b[0m \u001b[1;33m+\u001b[0m \u001b[0mt0\u001b[0m\u001b[1;33m,\u001b[0m \u001b[0mp0\u001b[0m\u001b[1;33m,\u001b[0m \u001b[0mv0\u001b[0m\u001b[1;33m,\u001b[0m \u001b[0mt0\u001b[0m\u001b[1;33m)\u001b[0m\u001b[1;33m)\u001b[0m \u001b[1;33m**\u001b[0m\u001b[1;36m2\u001b[0m\u001b[1;33m)\u001b[0m\u001b[1;33m\u001b[0m\u001b[1;33m\u001b[0m\u001b[0m\n\u001b[0m\u001b[0;32m      9\u001b[0m \u001b[1;33m\u001b[0m\u001b[0m\n\u001b[0;32m     10\u001b[0m     pz = (\n",
      "\u001b[1;32m<ipython-input-3-4388accb8a75>\u001b[0m in \u001b[0;36md\u001b[1;34m(t, p0, v0, t0)\u001b[0m\n\u001b[0;32m      1\u001b[0m \u001b[1;31m# trajectory\u001b[0m\u001b[1;33m\u001b[0m\u001b[1;33m\u001b[0m\u001b[1;33m\u001b[0m\u001b[0m\n\u001b[0;32m      2\u001b[0m \u001b[1;32mdef\u001b[0m \u001b[0md\u001b[0m\u001b[1;33m(\u001b[0m\u001b[0mt\u001b[0m\u001b[1;33m,\u001b[0m \u001b[0mp0\u001b[0m\u001b[1;33m,\u001b[0m \u001b[0mv0\u001b[0m\u001b[1;33m,\u001b[0m \u001b[0mt0\u001b[0m\u001b[1;33m)\u001b[0m\u001b[1;33m:\u001b[0m\u001b[1;33m\u001b[0m\u001b[1;33m\u001b[0m\u001b[0m\n\u001b[1;32m----> 3\u001b[1;33m     \u001b[1;32mreturn\u001b[0m \u001b[0mp0\u001b[0m \u001b[1;33m+\u001b[0m \u001b[0mv0\u001b[0m \u001b[1;33m*\u001b[0m \u001b[1;33m(\u001b[0m\u001b[0mt\u001b[0m \u001b[1;33m-\u001b[0m \u001b[0mt0\u001b[0m\u001b[1;33m)\u001b[0m\u001b[1;33m\u001b[0m\u001b[1;33m\u001b[0m\u001b[0m\n\u001b[0m",
      "\u001b[1;31mKeyboardInterrupt\u001b[0m: "
     ]
    }
   ],
   "source": [
    "## A priori parameters\n",
    "APRIORI_PARAMS = {\n",
    "    \"m_mean_t0\": 0,\n",
    "    \"m_mean_v0\": 3,\n",
    "    \"s_t0\": 0.01,\n",
    "    \"s_v0\": 0.01,\n",
    "    \"v_xi\": 1,\n",
    "    \"m_xi\": 0.01,\n",
    "    \"v_tau\": 1,\n",
    "    \"m_tau\": 0.01,\n",
    "    \"v\": 1,\n",
    "    \"m\": 0.1,\n",
    "}\n",
    "\n",
    "theta = HMSAEM(y, nb=20, alpha=0.5, maxiter=1000)\n",
    "print(theta)"
   ]
  },
  {
   "cell_type": "markdown",
   "metadata": {
    "id": "wLfdtO1km8N9"
   },
   "source": [
    "### 1.C – HMwG-SAEM – Hasting-Metropolis within Gibbs sample\n"
   ]
  },
  {
   "cell_type": "code",
   "execution_count": 11,
   "metadata": {},
   "outputs": [],
   "source": [
    "# Fixed parameters\n",
    "FIXED_PARAMS = {\n",
    "    \"sigma_p0\": 2,\n",
    "    \"sigma_t0\": 1,\n",
    "    \"sigma_v0\": 1,\n",
    "    \"p0\": 10,\n",
    "}\n",
    "\n",
    "# To estimate\n",
    "TARGET_PARAMS = {\n",
    "    \"mean_t0\": 0,\n",
    "    \"mean_v0\": 1,\n",
    "    \"sigma_xi\": 0.1,\n",
    "    \"sigma_tau\": 0.1,\n",
    "    \"sigma\": 0.1 ,\n",
    "}\n",
    "\n",
    "## A priori parameters\n",
    "APRIORI_PARAMS = {\n",
    "    \"m_mean_t0\": 0,\n",
    "    \"m_mean_v0\": 3,\n",
    "    \"s_t0\": 0.01,\n",
    "    \"s_v0\": 0.01,\n",
    "    \"v_xi\": 1,\n",
    "    \"m_xi\": 0.01,\n",
    "    \"v_tau\": 1,\n",
    "    \"m_tau\": 0.01,\n",
    "    \"v\": 1,\n",
    "    \"m\": 0.1,\n",
    "}\n",
    "\n",
    "## initiatilization\n",
    "theta_init = {\n",
    "    \"mean_t0\": 1,\n",
    "    \"mean_v0\": 1,\n",
    "    \"sigma_xi\": 0.1,\n",
    "    \"sigma_tau\": 0.1,\n",
    "    \"sigma\" : 0.1\n",
    "}"
   ]
  },
  {
   "cell_type": "markdown",
   "metadata": {
    "id": "urKLqZpxm8N_"
   },
   "source": [
    "**Question 5** <br>\n",
    "\n",
    "<font color ='red'> \n",
    "\n",
    "Propose a Metropolis-Hastings within Gibbs sampler to sample from the a posteriori distribution\n",
    "of $z_i = (\\xi_i,\\tau_i)$. "
   ]
  },
  {
   "cell_type": "code",
   "execution_count": 12,
   "metadata": {},
   "outputs": [],
   "source": [
    "def HMwG_zi(y, t0, v0, tau , xi, p0, theta, sigma_sim):\n",
    "    \n",
    "    tau_sim = np.zeros(N)\n",
    "    xi_sim = np.zeros(N)\n",
    "\n",
    "    # Parameters    \n",
    "    sigma_tau = theta[0]\n",
    "    sigma_xi = theta[1]\n",
    "    \n",
    "    sim_sigma_tau = sigma_sim[0]\n",
    "    sim_sigma_xi = sigma_sim[1]\n",
    "    \n",
    "    tk = np.arange(K)\n",
    "\n",
    "    for i in range(N):\n",
    "        \n",
    "        yi = y[i, :]\n",
    "\n",
    "        ###########################\n",
    "        ## tau simulation (MH step)\n",
    "        ###########################\n",
    "        \n",
    "        # current state\n",
    "        ti = np.exp(xi[i]) * (tk - t0 - tau[i])\n",
    "        di = np.sum((yi - d(ti + t0, p0, v0, t0)) ** 2)\n",
    "        p1 = -(tau[i] / sigma_tau) ** 2 / 2\n",
    "\n",
    "        # proposal\n",
    "        tau_proposed = np.random.normal(tau[i], sim_sigma_tau)\n",
    "        ti = np.exp(xi[i]) * (tk - t0 - tau_proposed)\n",
    "        di_proposed = np.sum((yi - d(ti + t0, p0, v0, t0)) ** 2)\n",
    "        p2 = -(tau_proposed / sigma_tau) ** 2 / 2\n",
    "\n",
    "        # acceptance-rejection\n",
    "        log_alpha_tau = min( 0 , di_proposed - p1 - di + p2 ) \n",
    "        log_u = np.log(np.random.uniform())\n",
    "        \n",
    "        if log_u - log_alpha_tau < 0 : \n",
    "            tau_sim[i] = tau_proposed\n",
    "        else:\n",
    "            tau_sim[i] = tau[i]\n",
    "\n",
    "        ###########################\n",
    "        ## xi simulation (MH step)\n",
    "        ###########################\n",
    "        \n",
    "        # current state\n",
    "        ti = np.exp(xi[i]) * (tk - t0 - tau_sim[i])\n",
    "        di = np.sum((yi - d(ti + t0, p0, v0, t0)) ** 2)\n",
    "        p1 = - (xi[i]/ sigma_xi) ** 2 / 2\n",
    "\n",
    "        # proposal\n",
    "        xi_proposed = np.random.normal(xi[i], sim_sigma_xi)\n",
    "        ti = np.exp(xi_proposed) * (tk - t0 - tau_sim[i])\n",
    "        di_proposed = np.sum((yi - d(ti + t0, p0, v0, t0)) ** 2)\n",
    "        p2 = - (xi_proposed / sigma_xi) ** 2 / 2\n",
    "\n",
    "        # acceptance-rejection\n",
    "        log_alpha_xi = min (0, di_proposed - p1 - di + p2)\n",
    "        log_u = np.log(np.random.uniform())\n",
    "        \n",
    "        if log_u - log_alpha_tau < 0 : \n",
    "            xi_sim[i] = xi_proposed\n",
    "        else:\n",
    "            xi_sim[i] = xi[i]\n",
    "\n",
    "            \n",
    "    return tau_sim, xi_sim"
   ]
  },
  {
   "cell_type": "code",
   "execution_count": 13,
   "metadata": {
    "scrolled": true
   },
   "outputs": [
    {
     "name": "stdout",
     "output_type": "stream",
     "text": [
      "tau = [-39.35419961 -33.5308413  -29.45180545 -38.84151537 -38.40991802\n",
      "   6.3744442    6.52807436 -38.99733215 -39.57035825  22.44966026]\n",
      "xi = [ 1.11714879  0.39952013  0.31881121  0.45160635 -0.11675059 -0.75831608\n",
      " -1.05675234  0.04385825  0.60300506  0.29179469]\n"
     ]
    }
   ],
   "source": [
    "zi = np.random.random((N,2))\n",
    "tau , xi = zi[:,0] , zi[:,1]\n",
    "\n",
    "theta = [theta_init[\"sigma_tau\"] , theta_init[\"sigma_xi\"]]\n",
    "sigma_sim_zi = [0.01,0.01]\n",
    "\n",
    "for i in range(10000):\n",
    "    tau , xi = HMwG_zi(y, t0, v0, tau , xi , p0, theta, sigma_sim_zi)\n",
    "    \n",
    "print('tau =' , tau )\n",
    "print('xi =' , xi )"
   ]
  },
  {
   "cell_type": "markdown",
   "metadata": {
    "id": "Qc5JMStdm8OC"
   },
   "source": [
    "**Question 6** <br>\n",
    "\n",
    "<font color ='red'> \n",
    "Likewise, propose a HMwG sampler for the a posteriori distribution of $z_{pop} = (t_0, v_0)$.\n",
    "    "
   ]
  },
  {
   "cell_type": "code",
   "execution_count": 14,
   "metadata": {},
   "outputs": [],
   "source": [
    "def HMwG_zpop(y, t0, v0, tau,xi, p0, sigma_t0, sigma_v0, sigma, theta, sigma_sim):\n",
    "    \n",
    "    t0_final = 0\n",
    "    v0_final = 0\n",
    "    \n",
    "    dist = np.zeros((N,K))\n",
    "    dist_ = np.zeros((N,K))\n",
    "    \n",
    "    # Parameters    \n",
    "    t0_tr = theta[0]\n",
    "    v0_tr = theta[1]\n",
    "    \n",
    "    sim_sigma_t0 = sigma_sim[0]\n",
    "    sim_sigma_v0 = sigma_sim[1]\n",
    "    \n",
    "    # Simulated \n",
    "    tk = np.arange(K)\n",
    "    t0_sim = np.random.normal(loc=t0, scale=sim_sigma_t0, size=1)\n",
    "    v0_sim = np.random.normal(loc=v0, scale=sim_sigma_v0, size=1)\n",
    "    \n",
    "    ###########################\n",
    "    ## t0 simulation (MH step)\n",
    "    ###########################\n",
    "     \n",
    "    for j in range (K) : \n",
    "        t = np.exp(xi)*(tk[j] - t0 - tau) + t0\n",
    "        dist[:,j] = d(t , p0, v0, t0)\n",
    "\n",
    "        t_ = np.exp(xi)*(tk[j] - t0_sim - tau ) + t0_sim\n",
    "        dist_[:,j]= d(t_ , p0, v0, t0_sim)\n",
    "    \n",
    "    p1 = - np.sum((y - dist)**2) / (2 * sigma**2 )\n",
    "    p2 = - np.sum((y - dist_)**2) / (2 * sigma**2 )\n",
    "    p3 = - np.sum((t0 - t0_tr)**2) / (2 * sigma_t0**2 )\n",
    "    p4 = - np.sum((t0_sim - t0_tr)**2) / (2 * sigma_t0**2 )\n",
    "    \n",
    "    log_alpha = min (0 , - p1 + p2 - p3 + p4)   \n",
    "    log_u = np.log(np.random.uniform())\n",
    "        \n",
    "    if log_u - log_alpha < 0 : \n",
    "        t0_final = t0_sim\n",
    "    else:\n",
    "        t0_final = t0\n",
    "    \n",
    "    ###########################\n",
    "    ## v0 simulation (MH step)\n",
    "    ###########################   \n",
    "    \n",
    "    for j in range (K) : \n",
    "        t = np.exp(xi)*(tk[j] - t0_sim - tau) + t0_sim\n",
    "        dist[:,j] = d(t , p0, v0, t0_sim)\n",
    "    \n",
    "        t_ = np.exp(xi)*(tk[j] - t0_sim - tau ) + t0_sim\n",
    "        dist_[:,j] = d(t_ , p0, v0_sim, t0_sim)\n",
    "\n",
    "    p1 = - np.sum((y - dist)**2) / (2 * sigma**2 )\n",
    "    p2 = - np.sum((y - dist_)**2) / (2 * sigma**2 )\n",
    "    p3 = - np.sum((v0 - v0_tr)**2) / (2 * sigma_v0**2 )\n",
    "    p4 = - np.sum((v0_sim - v0_tr)**2) / (2 * sigma_v0**2 )\n",
    "    \n",
    "    log_alpha = min (0 , - p1 + p2 - p3 + p4)\n",
    "    log_u = np.log(np.random.uniform())\n",
    "        \n",
    "    if log_u - log_alpha < 0 : \n",
    "        v0_final = t0_sim\n",
    "    else:\n",
    "        v0_final = v0   \n",
    "    \n",
    "    return t0_final , v0_final "
   ]
  },
  {
   "cell_type": "code",
   "execution_count": 15,
   "metadata": {},
   "outputs": [
    {
     "name": "stdout",
     "output_type": "stream",
     "text": [
      "The true t0 =  [0.44462104]\n",
      "The estiamted t0 =  [-0.00343488]\n",
      "The true v0 =  [2.05993246]\n",
      "The estiamted v0 =  [-0.00343488]\n"
     ]
    }
   ],
   "source": [
    "t0_sim , v0_sim = 0, 0 \n",
    "theta = [theta_init[\"mean_t0\"] ,theta_init[\"mean_v0\"]] \n",
    "sigma_sim_pop = [0.01,0.01]\n",
    "\n",
    "tau = zi[:,0]\n",
    "xi = zi[:,1]\n",
    "\n",
    "for i in range(10000):\n",
    "    t0_sim , v0_sim =  HMwG_zpop(y, t0_sim , v0_sim, tau , xi , p0, \n",
    "                                 FIXED_PARAMS[\"sigma_t0\"], FIXED_PARAMS[\"sigma_v0\"], \n",
    "                                 TARGET_PARAMS[\"sigma\"], theta, sigma_sim_pop)\n",
    "    \n",
    "print('The true t0 = ' , t0)\n",
    "print('The estiamted t0 = ' , t0_sim)\n",
    "print('The true v0 = ' , v0)\n",
    "print('The estiamted v0 = ' , v0_sim)"
   ]
  },
  {
   "cell_type": "markdown",
   "metadata": {
    "id": "XK99xyhCm8OE"
   },
   "source": [
    "**Question 7**<br>\n",
    "\n",
    "<font color ='red'> \n",
    "Implement the HMwG-SAEM in order to find the MAP."
   ]
  },
  {
   "cell_type": "code",
   "execution_count": 16,
   "metadata": {},
   "outputs": [],
   "source": [
    "def HMwG_SAEM(y,FIXED_PARAMS,APRIORI_PARAMS,theta_init,sigma_sim_zi,sigma_sim_pop,maxiter=100, nb= 20):\n",
    "    \n",
    "    # parameters\n",
    "    p0 = FIXED_PARAMS[\"p0\"]\n",
    "    sigma_t0 = FIXED_PARAMS[\"sigma_t0\"]\n",
    "    sigma_v0 = FIXED_PARAMS[\"sigma_v0\"]\n",
    "    mm_t0 = APRIORI_PARAMS[\"m_mean_t0\"]\n",
    "    mm_v0 = APRIORI_PARAMS[\"m_mean_v0\"]\n",
    "    s_t0 = APRIORI_PARAMS[\"s_t0\"]\n",
    "    s_v0 = APRIORI_PARAMS[\"s_v0\"]\n",
    "    v_xi = APRIORI_PARAMS[\"v_xi\"]\n",
    "    m_xi = APRIORI_PARAMS[\"m_xi\"]\n",
    "    v_tau = APRIORI_PARAMS[\"v_tau\"]\n",
    "    m_tau = APRIORI_PARAMS[\"m_tau\"]\n",
    "    v = APRIORI_PARAMS[\"v\"]\n",
    "    m = APRIORI_PARAMS[\"m\"]\n",
    "    \n",
    "    sigma_ = TARGET_PARAMS[\"sigma\"]\n",
    "    theta1 = [theta_init[\"sigma_tau\"] , theta_init[\"sigma_xi\"]]\n",
    "    theta2 = [theta_init[\"mean_t0\"] ,theta_init[\"mean_v0\"]] \n",
    "\n",
    "    # initialization\n",
    "    tau = np.zeros(N)\n",
    "    xi = np.zeros(N)\n",
    "    t0 = 0.0\n",
    "    v0 = 2.0\n",
    "    di = np.zeros((N, K))\n",
    "    S1, S2, S3, S4, S5 = 0, 0, 0, 0, 0\n",
    "\n",
    "    # burn-in period\n",
    "    for i in range(int(maxiter / 2)):\n",
    "        tau , xi = HMwG_zi(y, t0, v0, tau, xi, p0, theta1, sigma_sim_zi)\n",
    "        t0, v0 = HMwG_zpop(y, t0, v0, tau, xi,p0, sigma_t0, sigma_v0, sigma_, theta2, sigma_sim_pop)\n",
    "\n",
    "    # simulation\n",
    "    for i in range(int(maxiter / 2)):\n",
    "        tau , xi = HMwG_zi(y, t0, v0, tau, xi, p0, theta1, sigma_sim_zi)\n",
    "        t0, v0 = HMwG_zpop(y, t0, v0, tau, xi, p0, sigma_t0, sigma_v0, sigma_, theta2, sigma_sim_pop)\n",
    "\n",
    "        for k in range(K):\n",
    "            tk = np.exp(xi) * (k - t0 - tau)\n",
    "            di[:, k] = d(tk + t0, p0, v0, t0)\n",
    "\n",
    "        if i < nb:\n",
    "            eps_k = 1\n",
    "        else:\n",
    "            eps_k = (i + 1 - nb) ** (-0.65)\n",
    "\n",
    "        S1_ = S1 + eps_k * (np.sum((y - di) ** 2) / (1.0 * K * N) - S1)\n",
    "        S2_ = S2 + eps_k * (np.mean(xi ** 2) - S2)\n",
    "        S3_ = S3 + eps_k * (np.mean(tau ** 2) - S3)\n",
    "        S4_ = S4 + eps_k * (v0 - S4) \n",
    "        S5_ = S5 + eps_k * (t0 - S5)\n",
    "\n",
    "        # optimization\n",
    "        mean_t0 = (S4_ / (sigma_t0 ** 2) + mm_t0 / (s_t0 ** 2)) / (\n",
    "            ((1.0 / sigma_t0) ** 2 + (1.0 / s_t0) ** 2))\n",
    "        \n",
    "        mean_v0 = (S3_ / (sigma_v0 ** 2) + mm_v0 / (s_v0 ** 2)) / (\n",
    "            (1.0 / sigma_v0) ** 2 + (1.0 / s_v0) ** 2)\n",
    "\n",
    "        sigma_xi = np.sqrt(N * S2_ / (N*K + m + 2))\n",
    "        sigma_tau = np.sqrt((N * S3_ ) / (N + m_tau+2))\n",
    "        sigma = np.sqrt((K * N * S5_) / (N*K + m +2))\n",
    "\n",
    "        theta = {\n",
    "            \"mean_t0\": mean_t0,\n",
    "            \"mean_v0\": mean_v0,\n",
    "            \"sigma_xi\": sigma_xi,\n",
    "            \"sigma_tau\": sigma_tau,\n",
    "            \"sigma\": sigma}\n",
    "\n",
    "        # update\n",
    "        S1 = S1_\n",
    "        S2 = S2_\n",
    "        S3 = S3_\n",
    "        S4 = S4_\n",
    "        S5 = S5_\n",
    "        \n",
    "    return theta"
   ]
  },
  {
   "cell_type": "code",
   "execution_count": 17,
   "metadata": {
    "scrolled": true
   },
   "outputs": [
    {
     "name": "stdout",
     "output_type": "stream",
     "text": [
      "mean_t0 :   [2.75938109e-07]\n",
      "mean_v0 :   2.9997004260087072\n",
      "sigma_xi :   0.0019291948626381915\n",
      "sigma_tau :   0.057425425563807087\n",
      "sigma :   [0.04697248]\n"
     ]
    }
   ],
   "source": [
    "theta_model = HMwG_SAEM(\n",
    "    y,\n",
    "    FIXED_PARAMS,\n",
    "    APRIORI_PARAMS,\n",
    "    theta_init,\n",
    "    sigma_sim_zi,\n",
    "    sigma_sim_pop,\n",
    "    maxiter=100,\n",
    "    nb = 20\n",
    ")\n",
    "\n",
    "for k in theta_model.keys():\n",
    "    print(k , ':  ' , theta_model[k])"
   ]
  },
  {
   "cell_type": "markdown",
   "metadata": {},
   "source": [
    "**Interpretation:** \n",
    "\n",
    "The results are close to the original parameters. If we increase the number of iterations, the algorithm will converge to closer results. "
   ]
  },
  {
   "cell_type": "markdown",
   "metadata": {
    "id": "RShnItonm8OI"
   },
   "source": [
    "**Question 8**<br>\n",
    "\n",
    "<font color ='red'> \n",
    "Explain what is the advantages of a Block Gibbs sampler over a \"one-at-a-time\" Gibbs sampler\n",
    "for our model."
   ]
  },
  {
   "cell_type": "markdown",
   "metadata": {
    "id": "hkeBe0kIJNnb"
   },
   "source": [
    "**Question 9**<br>\n",
    "\n",
    "<font color ='red'> \n",
    "Implement a Block HMwG sampler by choosing a block for the fixed effects and a block by\n",
    "individuals."
   ]
  },
  {
   "cell_type": "markdown",
   "metadata": {
    "id": "oWlLIVGjm8OK"
   },
   "source": [
    "## Exercise 2: Multiplicative Hasting-Metropolis"
   ]
  },
  {
   "cell_type": "markdown",
   "metadata": {},
   "source": [
    "**Question 1:** <br>\n",
    "\n",
    "<font color ='red'> \n",
    "Determine the density of the jumping distribution $Y ∼ q(X, Y)$"
   ]
  },
  {
   "cell_type": "markdown",
   "metadata": {
    "id": "izwcmpsvm8OK"
   },
   "source": [
    "In this question, we will determine the jumping distribution $Y \\sim q(X,Y)$. \n",
    "\n",
    "We have: if $B = 1$, we set $Y = \\epsilon X$. Otherwise, we set $Y = \\frac{X}{\\epsilon}$. Then, we accept the candidate $Y$ with a probability given by $α(X, Y )$, the usual Hasting-Metropolis acceptation ratio.\n",
    "\n",
    "Let's denote, $h(y)$ a measurable and bounded function.\n",
    "\n",
    "$\n",
    "\\begin{aligned}\n",
    "E[h(Y)]\n",
    "& = E[h(Y)|B=1]P(B=1) + E[h(Y)|B=0] P(B=0)\\\\\n",
    "& = E[h(\\epsilon X)|B=1]P(B=1) + E[h(\\frac{X}{\\epsilon})|B=0] P(B=0)\\\\\n",
    "& =\\frac{1}{2} \\int_{-1}^{1} h(\\epsilon X) f(\\epsilon) d\\epsilon + \\frac{1}{2} \\int_{-1}^{1} h(\\frac{X}{\\epsilon}) f(\\epsilon) d\\epsilon \\\\\n",
    "& =\\frac{1}{2} \\int_{-1}^{1} h(\\epsilon X) f(\\epsilon) d\\epsilon + \\frac{1}{2} \\int_{-1}^{0} h(\\frac{X}{\\epsilon}) f(\\epsilon) d\\epsilon + \\frac{1}{2} \\int_{0}^{1} h(\\frac{X}{\\epsilon}) f(\\epsilon) d\\epsilon \\\\\n",
    "\\end{aligned}\n",
    "$\n",
    "\n",
    "We will take: $Y = \\epsilon X $ in the first integral and $Y = \\frac{X}{\\epsilon}$ in the second and third integrals. \n",
    "\n",
    "Thus, \n",
    "\n",
    "- for $X>0$: \n",
    "$\n",
    "\\begin{aligned}\n",
    "E[h(Y)]\n",
    "& = \\frac{1}{2} \\int_{-X}^{X} h(Y) f(\\frac{Y}{X}) \\frac{dY}{X} + \\frac{1}{2} \\int_{-\\infty}^{-X} h(Y) f(\\frac{X}{Y}) \\frac{X}{Y^2}dY + \\frac{1}{2} \\int_{X}^{+ \\infty} h(Y) f(\\frac{X}{Y}) \\frac{X}{Y^2}dY  \\\\\n",
    "\\end{aligned}\n",
    "$\n",
    "\n",
    "- for $X<0$:\n",
    "$\n",
    "\\begin{aligned}\n",
    "E[h(Y)]\n",
    "& = -\\frac{1}{2} \\int_{X}^{-X} h(Y) f(\\frac{Y}{X}) \\frac{dY}{X} - \\frac{1}{2} \\int_{-X}^{+\\infty} h(Y) f(\\frac{X}{Y}) \\frac{X}{Y^2}dY -  \\frac{1}{2} \\int_{- \\infty}^{X} h(Y) f(\\frac{X}{Y}) \\frac{X}{Y^2}dY  \\\\\n",
    "\\end{aligned}\n",
    "$<br>\n",
    "$\\implies \\text{If}~~ X \\neq 0: q(X,Y)= \\frac{1}{2} \\frac{f(\\frac{Y}{X})}{|X|} \\mathbb{1}_{]-|X|,|X|[}+\\frac{1}{2} f(\\frac{X}{Y}) \\frac{|X|}{Y^2} \\mathbb{1}_{[-\\infty,-|X|[} + \\frac{1}{2}  f(\\frac{X}{Y}) \\frac{|X|}{Y^2} \\mathbb{1}_{[|X|,\\infty[}$\n",
    "<br>\n",
    "- for $X = 0$: $E[h(0)]=h(0)$\n",
    "\n",
    "\n",
    "In the next part, we will take $X \\neq 0$ and we will choose the density of $\\epsilon$ equal to zero when we get 0 for value. In other words, we will only work on the case when $X \\neq 0$. Thus, we can say that : \n",
    "\n",
    "$$\\begin{aligned} q(X,Y)\n",
    "& = \\frac{1}{2} \\frac{f(\\frac{Y}{X})}{|X|} \\mathbb{1}_{]-|X|,|X|[}+\\frac{1}{2} f(\\frac{X}{Y}) \\frac{|X|}{Y^2} \\mathbb{1}_{[-\\infty,-|X|[} + \\frac{1}{2}  f(\\frac{X}{Y}) \\frac{|X|}{Y^2} \\mathbb{1}_{[|X|,\\infty[} \\\\\n",
    "& =  \\frac{1}{2} \\frac{f(\\frac{Y}{X})}{|X|} \\mathbb{1}_{|Y|<|X|}+\\frac{1}{2} f(\\frac{X}{Y}) \\frac{|X|}{Y^2} \\mathbb{1}_{|Y|>|X|} \\\\\n",
    "\\end{aligned}\n",
    "$$"
   ]
  },
  {
   "cell_type": "markdown",
   "metadata": {},
   "source": [
    "**Question 2:** <br>\n",
    "\n",
    "<font color ='red'> \n",
    "\n",
    "Compute the acceptation ratio $\\alpha$ so that the chain has a given distribution $\\pi$ as invariant distribution."
   ]
  },
  {
   "cell_type": "markdown",
   "metadata": {
    "id": "xY7z8f3ZeVUT"
   },
   "source": [
    "The acceptation ratio is equal to: \n",
    "\n",
    "$\n",
    "\\begin{aligned}\n",
    "\\alpha (X,Y) \n",
    "& = min (1,\\frac{q(Y, X)\\pi(Y)}{q(X,Y)\\pi(X)} \\\\\n",
    "& = min (1, \\frac { \\{ \\frac{1}{2} \\frac{f(\\frac{X}{Y})}{|Y|} \\mathbb{1}_{|X|<|Y|}+\\frac{1}{2} f(\\frac{Y}{X}) \\frac{|Y|}{X^2} \\mathbb{1}_{|X|>|Y|} \\} ~~~\\pi(Y)} {\\{\\frac{1}{2} \\frac{f(\\frac{Y}{X})}{|X|} \\mathbb{1}_{|Y|<|X|}+\\frac{1}{2} f(\\frac{X}{Y}) \\frac{|X|}{Y^2} \\mathbb{1}_{|Y|>|X|} \\} ~~~ \\pi(X) } ) \\\\\n",
    "& = min (1, \\frac { \\frac {|Y|}{|X|} \\{ \\frac{1}{2} f(\\frac{X}{Y}) \\frac{|X|}{Y^2} \\mathbb{1}_{|X|<|Y|}+ \\frac{1}{2} \\frac{f(\\frac{Y}{X})}{|X|} \\mathbb{1}_{|X|>|Y|}\\}    ~~~ \\pi(Y)  }{\\{\\frac{1}{2} \\frac{f(\\frac{Y}{X})}{|X|} \\mathbb{1}_{|Y|<|X|}+\\frac{1}{2} f(\\frac{X}{Y}) \\frac{|X|}{Y^2} \\mathbb{1}_{|Y|>|X|} \\} ~~~\\pi(X)} \\\\\n",
    "& = min (1, \\frac {|Y| \\pi(Y) }{|X|\\pi(X)} )\n",
    "\\end{aligned}\n",
    "$\n",
    "\n"
   ]
  },
  {
   "cell_type": "markdown",
   "metadata": {
    "id": "Eo5kYwc3skWu"
   },
   "source": [
    "**Question 3 & 4:** <br>\n",
    "\n",
    "<font color ='red'> \n",
    "\n",
    "- Implement this sampler for two different target distributions : the first one being a distribution\n",
    "from which we can sample using the inverse transform method and the second one is of your\n",
    "choice.<br><br> \n",
    "\n",
    "- Evaluate, in each case, the match of your samples with the true distribution."
   ]
  },
  {
   "cell_type": "markdown",
   "metadata": {},
   "source": [
    "In this part, I used the uniform distribution in the interval of $]-1,1[$ to generate $\\epsilon$. The first distribution I will use is the exponential distribution from which we can sample using the inverse transformation method and the second distribution is the Gaussian distribution. "
   ]
  },
  {
   "cell_type": "code",
   "execution_count": 18,
   "metadata": {
    "id": "4VBrzo_Nm8OL"
   },
   "outputs": [],
   "source": [
    "def HM(x0,N,distribution,m,sig):\n",
    "    \n",
    "    x = [x0]\n",
    "    X = x0\n",
    "    \n",
    "    for i in range(N):\n",
    "        e = np.random.uniform(-1,1)\n",
    "        B = np.round(np.random.random())\n",
    "        Y = e*X*B + X/e*np.abs(1-B) \n",
    "        \n",
    "        if distribution==\"exponential\":\n",
    "            pi_y = sp.stats.expon.pdf(Y,m,sig)\n",
    "            pi_x = sp.stats.expon.pdf(X,m,sig)\n",
    "        \n",
    "        if distribution==\"normal\":\n",
    "            pi_y = sp.stats.norm.pdf(Y,m,sig)\n",
    "            pi_x = sp.stats.norm.pdf(X,m,sig)\n",
    "        \n",
    "        u = np.random.random() \n",
    "        alpha = min (1, (pi_y/pi_x)*(np.abs(Y)/np.abs(X)))\n",
    "        \n",
    "        if u < alpha :\n",
    "            x.append(Y)\n",
    "            X = Y \n",
    "        \n",
    "    return(x)"
   ]
  },
  {
   "cell_type": "markdown",
   "metadata": {
    "id": "HJFl3M7BsQjC"
   },
   "source": [
    "####  Exponential distribution"
   ]
  },
  {
   "cell_type": "code",
   "execution_count": 19,
   "metadata": {
    "colab": {
     "base_uri": "https://localhost:8080/",
     "height": 285
    },
    "id": "EP4ZFXG7rDCW",
    "outputId": "d449feaf-aca8-4605-a10a-2549b87cf409"
   },
   "outputs": [
    {
     "data": {
      "image/png": "[encoded data removed]",
      "text/plain": [
       "<Figure size 720x504 with 1 Axes>"
      ]
     },
     "metadata": {},
     "output_type": "display_data"
    }
   ],
   "source": [
    "FIXED_PARAMS={\n",
    "  'x0':1,\n",
    "  'N':10000,\n",
    "  'm':0,\n",
    "  'sig':1,\n",
    "  'distribution':\"exponential\"\n",
    "}\n",
    "\n",
    "# Simulated density \n",
    "x_sim = HM(FIXED_PARAMS[\"x0\"],\n",
    "           FIXED_PARAMS[\"N\"],\n",
    "           FIXED_PARAMS[\"distribution\"],\n",
    "           FIXED_PARAMS[\"m\"],\n",
    "           FIXED_PARAMS[\"sig\"]\n",
    ")\n",
    "\n",
    "# True density\n",
    "x = np.linspace(min(x_sim),max(x_sim),1000)\n",
    "exp = sp.stats.expon.pdf(x,FIXED_PARAMS[\"m\"],FIXED_PARAMS[\"sig\"])\n",
    "\n",
    "plt.figure(figsize=(10,7))\n",
    "plt.plot(x , exp , linewidth = 2 , label = 'True density')\n",
    "plt.hist(x_sim , bins = 50 , density = True , alpha=0.6 , label = 'HM')\n",
    "\n",
    "plt.legend()\n",
    "plt.show()"
   ]
  },
  {
   "cell_type": "markdown",
   "metadata": {
    "id": "XyvYwVz9sYeI"
   },
   "source": [
    "#### Gaussian distribution"
   ]
  },
  {
   "cell_type": "code",
   "execution_count": 20,
   "metadata": {
    "colab": {
     "base_uri": "https://localhost:8080/",
     "height": 285
    },
    "id": "TRg9Qdz5rxJm",
    "outputId": "adabc56b-4cfc-4c2b-cb16-e3ab0fbcf61f"
   },
   "outputs": [
    {
     "data": {
      "image/png": "[encoded data removed]",
      "text/plain": [
       "<Figure size 720x504 with 1 Axes>"
      ]
     },
     "metadata": {},
     "output_type": "display_data"
    }
   ],
   "source": [
    "FIXED_PARAMS={\n",
    "  'x0':1,\n",
    "  'N':10000,\n",
    "  'm':0,\n",
    "  'sig':1,\n",
    "  'distribution':\"normal\"\n",
    "}\n",
    "\n",
    "# Simulated density \n",
    "x_sim = HM(FIXED_PARAMS[\"x0\"],\n",
    "           FIXED_PARAMS[\"N\"],\n",
    "           FIXED_PARAMS[\"distribution\"],\n",
    "           FIXED_PARAMS[\"m\"],\n",
    "           FIXED_PARAMS[\"sig\"]\n",
    ")\n",
    "\n",
    "# True density\n",
    "x = np.linspace(min(x_sim),max(x_sim),1000)\n",
    "exp = sp.stats.norm.pdf(x,FIXED_PARAMS[\"m\"],FIXED_PARAMS[\"sig\"])\n",
    "\n",
    "plt.figure(figsize=(10,7))\n",
    "plt.plot(x , exp , linewidth = 2 , label = 'True density')\n",
    "plt.hist(x_sim , bins = 50 , density = True , alpha=0.6 , label = 'HM')\n",
    "\n",
    "plt.legend()\n",
    "plt.show()"
   ]
  },
  {
   "cell_type": "markdown",
   "metadata": {
    "id": "ChRaPD--sJoH"
   },
   "source": [
    "**Interpretation:** <br><br>\n",
    "From the previous results, we found that the multiplicative MH is able to correctly approximlate the distribution in both cases. The histogram results are very close to the true distribution. \n"
   ]
  }
 ],
 "metadata": {
  "colab": {
   "collapsed_sections": [],
   "name": "eya (1).ipynb",
   "provenance": []
  },
  "kernelspec": {
   "display_name": "Python 3",
   "language": "python",
   "name": "python3"
  },
  "language_info": {
   "codemirror_mode": {
    "name": "ipython",
    "version": 3
   },
   "file_extension": ".py",
   "mimetype": "text/x-python",
   "name": "python",
   "nbconvert_exporter": "python",
   "pygments_lexer": "ipython3",
   "version": "3.8.5"
  }
 },
 "nbformat": 4,
 "nbformat_minor": 5
}
